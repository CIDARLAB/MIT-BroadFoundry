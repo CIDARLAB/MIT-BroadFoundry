{
 "metadata": {
  "name": "",
  "signature": "sha256:f94bdc6b49ddec5b446320dbd20642a6f89ae8e416e7576bd065984cab386db5"
 },
 "nbformat": 3,
 "nbformat_minor": 0,
 "worksheets": []
}