{
 "metadata": {
  "name": "",
  "signature": "sha256:51c0e4d131a67719ff64989f098d2790bc5f8c5358e5b76fc947620fccecb3c1"
 },
 "nbformat": 3,
 "nbformat_minor": 0,
 "worksheets": [
  {
   "cells": [
    {
     "cell_type": "code",
     "collapsed": false,
     "input": [
      "import pymongo"
     ],
     "language": "python",
     "metadata": {},
     "outputs": [],
     "prompt_number": 15
    },
    {
     "cell_type": "code",
     "collapsed": false,
     "input": [
      "from pymongo import MongoClient"
     ],
     "language": "python",
     "metadata": {},
     "outputs": [],
     "prompt_number": 16
    },
    {
     "cell_type": "code",
     "collapsed": false,
     "input": [
      "from bson.objectid import ObjectId"
     ],
     "language": "python",
     "metadata": {},
     "outputs": [],
     "prompt_number": 17
    },
    {
     "cell_type": "code",
     "collapsed": false,
     "input": [
      "client = MongoClient('localhost', 27017)"
     ],
     "language": "python",
     "metadata": {},
     "outputs": [],
     "prompt_number": 30
    },
    {
     "cell_type": "code",
     "collapsed": false,
     "input": [
      "db = client.act"
     ],
     "language": "python",
     "metadata": {},
     "outputs": [],
     "prompt_number": 31
    },
    {
     "cell_type": "code",
     "collapsed": false,
     "input": [
      "def combine(s1, s2):\n",
      "    if len(s1) == 0:\n",
      "        return s2\n",
      "    if len(s2) == 0:\n",
      "        return s1\n",
      "    combs = []\n",
      "    for e1 in s1:\n",
      "        for e2 in s2:\n",
      "            combs.append(e1 + e2)\n",
      "    return combs"
     ],
     "language": "python",
     "metadata": {},
     "outputs": [],
     "prompt_number": 32
    },
    {
     "cell_type": "code",
     "collapsed": false,
     "input": [
      "def part_lookup(spec):\n",
      "    spec = spec.split(\";\")\n",
      "    atts = dict([att.split(\":\") for att in spec])\n",
      "#    return [part['_id'] for part in db.parts.find(atts)]\n",
      "    return [[ObjectId(part['_id'])] for part in db.parts.find(atts)]"
     ],
     "language": "python",
     "metadata": {},
     "outputs": [],
     "prompt_number": 33
    },
    {
     "cell_type": "code",
     "collapsed": false,
     "input": [
      "def spec_parse(spec):\n",
      "    if not spec.count(\"(\") == spec.count(\")\"):\n",
      "        print \"Missing Parentheses\"\n",
      "        return\n",
      "    \n",
      "    if spec.endswith(\")\"):\n",
      "        record = 1\n",
      "        rec = []\n",
      "        opened = 0\n",
      "        closed = 0\n",
      "        for ind, char in enumerate(spec[::-1]):\n",
      "            if record:\n",
      "                if char == \"(\":\n",
      "                    opened += 1\n",
      "                if char == \")\":\n",
      "                    closed += 1\n",
      "                rec.append(char)\n",
      "                if opened == closed:\n",
      "                    if ind == len(spec) - 1:\n",
      "                        return spec_parse(\"\".join(rec[1:-1])[::-1])\n",
      "                    record = 0\n",
      "                    continue\n",
      "            else:\n",
      "                rec = \"\".join(rec[1:-1])[::-1]\n",
      "                if char == \"*\":\n",
      "                    return combine(spec_parse(spec[:len(spec)-ind-1]), spec_parse(rec)) + combine(spec_parse(rec), spec_parse(spec[:len(spec)-ind-1]))\n",
      "                if char == \"+\":\n",
      "                    return combine(spec_parse(spec[:len(spec)-ind-1]), spec_parse(rec))\n",
      "                else:\n",
      "                    return 'uh oh'\n",
      "        \n",
      "    plus = spec.rfind(\"+\")\n",
      "    star = spec.rfind(\"*\")\n",
      "    if star > plus:\n",
      "        l, r = spec.rsplit(\"*\", 1)\n",
      "        return combine(spec_parse(l), spec_parse(r)) + combine(spec_parse(r), spec_parse(l))\n",
      "    if plus > star:\n",
      "        l, r = spec.rsplit(\"+\", 1)\n",
      "        return combine(spec_parse(l), spec_parse(r))\n",
      "    if star == plus == -1:\n",
      "        return part_lookup(spec)"
     ],
     "language": "python",
     "metadata": {},
     "outputs": [],
     "prompt_number": 34
    },
    {
     "cell_type": "code",
     "collapsed": false,
     "input": [
      "design = open(\"../../../act/test_construction.tab\")"
     ],
     "language": "python",
     "metadata": {},
     "outputs": [],
     "prompt_number": 35
    },
    {
     "cell_type": "code",
     "collapsed": false,
     "input": [
      "labels = design.readline().strip().split(\"\\t\")"
     ],
     "language": "python",
     "metadata": {},
     "outputs": [],
     "prompt_number": 36
    },
    {
     "cell_type": "code",
     "collapsed": false,
     "input": [
      "labels"
     ],
     "language": "python",
     "metadata": {},
     "outputs": [
      {
       "metadata": {},
       "output_type": "pyout",
       "prompt_number": 37,
       "text": [
        "['name', 'substrate', 'product', 'type', 'spec']"
       ]
      }
     ],
     "prompt_number": 37
    },
    {
     "cell_type": "code",
     "collapsed": false,
     "input": [
      "for line in design:\n",
      "    line = line.strip().split(\"\\t\")\n",
      "    for path in spec_parse(line[4]):\n",
      "        db.variants.insert({'name': line[0], 'substrate':line[1], 'product':line[2], 'type':line[3], 'spec':line[4], 'parts': path})"
     ],
     "language": "python",
     "metadata": {},
     "outputs": [],
     "prompt_number": 38
    },
    {
     "cell_type": "code",
     "collapsed": false,
     "input": [
      "len(list(db.variants.find()))"
     ],
     "language": "python",
     "metadata": {},
     "outputs": [
      {
       "metadata": {},
       "output_type": "pyout",
       "prompt_number": 39,
       "text": [
        "65"
       ]
      }
     ],
     "prompt_number": 39
    },
    {
     "cell_type": "code",
     "collapsed": false,
     "input": [
      "for var in db.variants.find():\n",
      "    db.variants.remove(var)"
     ],
     "language": "python",
     "metadata": {},
     "outputs": [],
     "prompt_number": 29
    },
    {
     "cell_type": "code",
     "collapsed": false,
     "input": [],
     "language": "python",
     "metadata": {},
     "outputs": []
    }
   ],
   "metadata": {}
  }
 ]
}