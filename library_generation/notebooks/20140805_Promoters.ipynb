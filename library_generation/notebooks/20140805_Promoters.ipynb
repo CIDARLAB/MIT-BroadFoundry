{
 "metadata": {
  "name": "",
  "signature": "sha256:0b6e77aeca7563829297c3d6c2fe1560407ac2c86b49512af04b47605577207a"
 },
 "nbformat": 3,
 "nbformat_minor": 0,
 "worksheets": [
  {
   "cells": [
    {
     "cell_type": "code",
     "collapsed": false,
     "input": [
      "%matplotlib inline"
     ],
     "language": "python",
     "metadata": {},
     "outputs": [],
     "prompt_number": 1
    },
    {
     "cell_type": "code",
     "collapsed": false,
     "input": [
      "import matplotlib"
     ],
     "language": "python",
     "metadata": {},
     "outputs": [],
     "prompt_number": 2
    },
    {
     "cell_type": "code",
     "collapsed": false,
     "input": [
      "from matplotlib import pyplot as plt"
     ],
     "language": "python",
     "metadata": {},
     "outputs": [],
     "prompt_number": 3
    },
    {
     "cell_type": "code",
     "collapsed": false,
     "input": [
      "f = open('promoters.txt', \"U\")"
     ],
     "language": "python",
     "metadata": {},
     "outputs": [],
     "prompt_number": 15
    },
    {
     "cell_type": "code",
     "collapsed": false,
     "input": [
      "f.readline().strip().split(\"\\t\")"
     ],
     "language": "python",
     "metadata": {},
     "outputs": [
      {
       "metadata": {},
       "output_type": "pyout",
       "prompt_number": 16,
       "text": [
        "['Date', 'ID', 'Plate', 'Sequence', 'Strength (AFU)']"
       ]
      }
     ],
     "prompt_number": 16
    },
    {
     "cell_type": "code",
     "collapsed": false,
     "input": [
      "numbers = dict()\n",
      "for line in f:\n",
      "    if not line:\n",
      "        continue\n",
      "    line = line.strip().split('\\t')\n",
      "    if float(line[4]) < 1000:\n",
      "        numbers[line[3]] = float(line[4])"
     ],
     "language": "python",
     "metadata": {},
     "outputs": [],
     "prompt_number": 17
    },
    {
     "cell_type": "code",
     "collapsed": false,
     "input": [
      "plt.hist(numbers.values(), 100)"
     ],
     "language": "python",
     "metadata": {},
     "outputs": [
      {
       "metadata": {},
       "output_type": "pyout",
       "prompt_number": 19,
       "text": [
        "(array([39, 82, 97, 81, 53, 47, 46, 27, 24, 16, 15,  6,  4,  4,  3,  0,  0,\n",
        "         4,  0,  1,  1,  2,  0,  1,  0,  1,  0,  1,  1,  1,  0,  0,  0,  0,\n",
        "         1,  1,  1,  0,  1,  0,  0,  0,  0,  0,  0,  0,  0,  0,  1,  1,  0,\n",
        "         0,  0,  0,  1,  0,  0,  1,  0,  1,  0,  0,  0,  0,  1,  0,  1,  0,\n",
        "         0,  0,  0,  0,  0,  0,  0,  0,  0,  0,  0,  0,  0,  0,  0,  1,  0,\n",
        "         0,  0,  0,  0,  0,  1,  0,  0,  0,  0,  0,  0,  0,  0,  1]),\n",
        " array([   6.43  ,   11.1911,   15.9522,   20.7133,   25.4744,   30.2355,\n",
        "          34.9966,   39.7577,   44.5188,   49.2799,   54.041 ,   58.8021,\n",
        "          63.5632,   68.3243,   73.0854,   77.8465,   82.6076,   87.3687,\n",
        "          92.1298,   96.8909,  101.652 ,  106.4131,  111.1742,  115.9353,\n",
        "         120.6964,  125.4575,  130.2186,  134.9797,  139.7408,  144.5019,\n",
        "         149.263 ,  154.0241,  158.7852,  163.5463,  168.3074,  173.0685,\n",
        "         177.8296,  182.5907,  187.3518,  192.1129,  196.874 ,  201.6351,\n",
        "         206.3962,  211.1573,  215.9184,  220.6795,  225.4406,  230.2017,\n",
        "         234.9628,  239.7239,  244.485 ,  249.2461,  254.0072,  258.7683,\n",
        "         263.5294,  268.2905,  273.0516,  277.8127,  282.5738,  287.3349,\n",
        "         292.096 ,  296.8571,  301.6182,  306.3793,  311.1404,  315.9015,\n",
        "         320.6626,  325.4237,  330.1848,  334.9459,  339.707 ,  344.4681,\n",
        "         349.2292,  353.9903,  358.7514,  363.5125,  368.2736,  373.0347,\n",
        "         377.7958,  382.5569,  387.318 ,  392.0791,  396.8402,  401.6013,\n",
        "         406.3624,  411.1235,  415.8846,  420.6457,  425.4068,  430.1679,\n",
        "         434.929 ,  439.6901,  444.4512,  449.2123,  453.9734,  458.7345,\n",
        "         463.4956,  468.2567,  473.0178,  477.7789,  482.54  ]),\n",
        " <a list of 100 Patch objects>)"
       ]
      },
      {
       "metadata": {},
       "output_type": "display_data",
       "png": "[encoded data removed]",
       "text": [
        "<matplotlib.figure.Figure at 0x10c78fe10>"
       ]
      }
     ],
     "prompt_number": 19
    },
    {
     "cell_type": "code",
     "collapsed": false,
     "input": [],
     "language": "python",
     "metadata": {},
     "outputs": []
    },
    {
     "cell_type": "code",
     "collapsed": false,
     "input": [],
     "language": "python",
     "metadata": {},
     "outputs": []
    },
    {
     "cell_type": "code",
     "collapsed": false,
     "input": [],
     "language": "python",
     "metadata": {},
     "outputs": []
    }
   ],
   "metadata": {}
  }
 ]
}