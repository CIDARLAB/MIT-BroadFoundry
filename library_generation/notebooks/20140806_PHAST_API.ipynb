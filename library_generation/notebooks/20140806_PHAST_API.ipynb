{
 "metadata": {
  "name": "",
  "signature": "sha256:4dbb39573da53236c034f1543e282d2cb1cb4c6beee6ad7a96828326c89f6800"
 },
 "nbformat": 3,
 "nbformat_minor": 0,
 "worksheets": [
  {
   "cells": [
    {
     "cell_type": "code",
     "collapsed": false,
     "input": [
      "import wget"
     ],
     "language": "python",
     "metadata": {},
     "outputs": [],
     "prompt_number": 50
    },
    {
     "cell_type": "code",
     "collapsed": false,
     "input": [
      "blast = open(\"../../../int_xis/mining/int_xis_nuc_bacterial_genome_BLAST.bl\")"
     ],
     "language": "python",
     "metadata": {},
     "outputs": [],
     "prompt_number": 56
    },
    {
     "cell_type": "code",
     "collapsed": false,
     "input": [
      "accs = []"
     ],
     "language": "python",
     "metadata": {},
     "outputs": [],
     "prompt_number": 57
    },
    {
     "cell_type": "code",
     "collapsed": false,
     "input": [
      "for line in blast:\n",
      "    if not line:\n",
      "        continue\n",
      "    if line.startswith(\"#\"):\n",
      "        continue\n",
      "    else:\n",
      "        accs.append(line.split('\\t')[1].split('|')[1])\n",
      "accs = list(set(accs))"
     ],
     "language": "python",
     "metadata": {},
     "outputs": [],
     "prompt_number": 58
    },
    {
     "cell_type": "code",
     "collapsed": false,
     "input": [
      "submits = []\n",
      "for acc in accs:\n",
      "    submits.append(wget.download(\"http://phast.wishartlab.com/cgi-bin/phage_command_line.cgi?acc={}\".format(acc), out=\"../../../int_xis/{}_submit.txt\".format(acc)))"
     ],
     "language": "python",
     "metadata": {},
     "outputs": [],
     "prompt_number": 65
    },
    {
     "cell_type": "code",
     "collapsed": false,
     "input": [
      "files = []\n",
      "for acc, submission in zip(accs, submits):\n",
      "    submission = open(submission)\n",
      "    submission = submission.read()\n",
      "    print [fi.split(\"/\")[-2:] for fi in submission.split(\"<br>\") if fi.startswith(\"http\")]\n",
      "    files.append([wget.download(fi, out=\"../../../int_xis/{}_{}\".format(acc, fi.split(\"/\")[-1])) for fi in submission.split(\"<br>\") if fi.startswith(\"http\")])\n",
      "        "
     ],
     "language": "python",
     "metadata": {},
     "outputs": [
      {
       "output_type": "stream",
       "stream": "stdout",
       "text": [
        "[['160895450', 'summary.txt'], ['160895450', 'detail.txt'], ['160895450', 'image.png']]\n",
        "[['556560056', 'summary.txt'], ['556560056', 'detail.txt'], ['556560056', 'image.png']]"
       ]
      },
      {
       "output_type": "stream",
       "stream": "stdout",
       "text": [
        "\n",
        "[['532456681', 'summary.txt'], ['532456681', 'detail.txt'], ['532456681', 'image.png']]"
       ]
      },
      {
       "output_type": "stream",
       "stream": "stdout",
       "text": [
        "\n",
        "[['LK932505.1', 'summary.txt'], ['LK932505.1', 'detail.txt'], ['LK932505.1', 'image.png']]"
       ]
      },
      {
       "output_type": "stream",
       "stream": "stdout",
       "text": [
        "\n",
        "[['300689714', 'summary.txt'], ['300689714', 'detail.txt'], ['300689714', 'image.png']]"
       ]
      },
      {
       "output_type": "stream",
       "stream": "stdout",
       "text": [
        "\n",
        "[['NC_002695.1', 'summary.txt'], ['NC_002695.1', 'detail.txt'], ['NC_002695.1', 'image.png']]"
       ]
      },
      {
       "output_type": "stream",
       "stream": "stdout",
       "text": [
        "\n",
        "[['410470815', 'summary.txt'], ['410470815', 'detail.txt'], ['410470815', 'image.png']]"
       ]
      },
      {
       "output_type": "stream",
       "stream": "stdout",
       "text": [
        "\n",
        "[['22536185', 'summary.txt'], ['22536185', 'detail.txt'], ['22536185', 'image.png']]"
       ]
      },
      {
       "output_type": "stream",
       "stream": "stdout",
       "text": [
        "\n",
        "[['479158859', 'summary.txt'], ['479158859', 'detail.txt'], ['479158859', 'image.png']]"
       ]
      },
      {
       "output_type": "stream",
       "stream": "stdout",
       "text": [
        "\n",
        "[['605498156', 'summary.txt'], ['605498156', 'detail.txt'], ['605498156', 'image.png']]"
       ]
      },
      {
       "output_type": "stream",
       "stream": "stdout",
       "text": [
        "\n",
        "[['120608714', 'summary.txt'], ['120608714', 'detail.txt'], ['120608714', 'image.png']]"
       ]
      },
      {
       "output_type": "stream",
       "stream": "stdout",
       "text": [
        "\n",
        "[['CP007384.1', 'summary.txt'], ['CP007384.1', 'detail.txt'], ['CP007384.1', 'image.png']]"
       ]
      },
      {
       "output_type": "stream",
       "stream": "stdout",
       "text": [
        "\n",
        "[['556589855', 'summary.txt'], ['556589855', 'detail.txt'], ['556589855', 'image.png']]"
       ]
      },
      {
       "output_type": "stream",
       "stream": "stdout",
       "text": [
        "\n",
        "[['CP000017.2', 'summary.txt'], ['CP000017.2', 'detail.txt'], ['CP000017.2', 'image.png']]"
       ]
      },
      {
       "output_type": "stream",
       "stream": "stdout",
       "text": [
        "\n",
        "[['CP007379.1', 'summary.txt'], ['CP007379.1', 'detail.txt'], ['CP007379.1', 'image.png']]"
       ]
      },
      {
       "output_type": "stream",
       "stream": "stdout",
       "text": [
        "\n",
        "[['HG916826.1', 'summary.txt'], ['HG916826.1', 'detail.txt'], ['HG916826.1', 'image.png']]"
       ]
      },
      {
       "output_type": "stream",
       "stream": "stdout",
       "text": [
        "\n",
        "[['643904023', 'summary.txt'], ['643904023', 'detail.txt'], ['643904023', 'image.png']]"
       ]
      },
      {
       "output_type": "stream",
       "stream": "stdout",
       "text": [
        "\n",
        "[['605528405', 'summary.txt'], ['605528405', 'detail.txt'], ['605528405', 'image.png']]"
       ]
      },
      {
       "output_type": "stream",
       "stream": "stdout",
       "text": [
        "\n",
        "[['360034408', 'summary.txt'], ['360034408', 'detail.txt'], ['360034408', 'image.png']]"
       ]
      },
      {
       "output_type": "stream",
       "stream": "stdout",
       "text": [
        "\n",
        "[['550899431', 'summary.txt'], ['550899431', 'detail.txt'], ['550899431', 'image.png']]"
       ]
      },
      {
       "output_type": "stream",
       "stream": "stdout",
       "text": [
        "\n",
        "[['209917191', 'summary.txt'], ['209917191', 'detail.txt'], ['209917191', 'image.png']]"
       ]
      },
      {
       "output_type": "stream",
       "stream": "stdout",
       "text": [
        "\n",
        "[['384129960', 'summary.txt'], ['384129960', 'detail.txt'], ['384129960', 'image.png']]"
       ]
      },
      {
       "output_type": "stream",
       "stream": "stdout",
       "text": [
        "\n",
        "[['62178570', 'summary.txt'], ['62178570', 'detail.txt'], ['62178570', 'image.png']]"
       ]
      },
      {
       "output_type": "stream",
       "stream": "stdout",
       "text": [
        "\n",
        "[['194442203', 'summary.txt'], ['194442203', 'detail.txt'], ['194442203', 'image.png']]"
       ]
      },
      {
       "output_type": "stream",
       "stream": "stdout",
       "text": [
        "\n",
        "[['644967754', 'summary.txt'], ['644967754', 'detail.txt'], ['644967754', 'image.png']]"
       ]
      },
      {
       "output_type": "stream",
       "stream": "stdout",
       "text": [
        "\n",
        "[['478686601', 'summary.txt'], ['478686601', 'detail.txt'], ['478686601', 'image.png']]"
       ]
      },
      {
       "output_type": "stream",
       "stream": "stdout",
       "text": [
        "\n",
        "[['CP007557.1', 'summary.txt'], ['CP007557.1', 'detail.txt'], ['CP007557.1', 'image.png']]"
       ]
      },
      {
       "output_type": "stream",
       "stream": "stdout",
       "text": [
        "\n",
        "[['386829725', 'summary.txt'], ['386829725', 'detail.txt'], ['386829725', 'image.png']]"
       ]
      },
      {
       "output_type": "stream",
       "stream": "stdout",
       "text": [
        "\n",
        "[['387619774', 'summary.txt'], ['387619774', 'detail.txt'], ['387619774', 'image.png']]"
       ]
      },
      {
       "output_type": "stream",
       "stream": "stdout",
       "text": [
        "\n",
        "[['218552585', 'summary.txt'], ['218552585', 'detail.txt'], ['218552585', 'image.png']]"
       ]
      },
      {
       "output_type": "stream",
       "stream": "stdout",
       "text": [
        "\n",
        "[['LK933005.1', 'summary.txt'], ['LK933005.1', 'detail.txt'], ['LK933005.1', 'image.png']]"
       ]
      },
      {
       "output_type": "stream",
       "stream": "stdout",
       "text": [
        "\n",
        "[['387866146', 'summary.txt'], ['387866146', 'detail.txt'], ['387866146', 'image.png']]"
       ]
      },
      {
       "output_type": "stream",
       "stream": "stdout",
       "text": [
        "\n",
        "[['479270911', 'summary.txt'], ['479270911', 'detail.txt'], ['479270911', 'image.png']]"
       ]
      },
      {
       "output_type": "stream",
       "stream": "stdout",
       "text": [
        "\n",
        "[['386703215', 'summary.txt'], ['386703215', 'detail.txt'], ['386703215', 'image.png']]"
       ]
      },
      {
       "output_type": "stream",
       "stream": "stdout",
       "text": [
        "\n",
        "[['459284225', 'summary.txt'], ['459284225', 'detail.txt'], ['459284225', 'image.png']]"
       ]
      },
      {
       "output_type": "stream",
       "stream": "stdout",
       "text": [
        "\n",
        "[['378958130', 'summary.txt'], ['378958130', 'detail.txt'], ['378958130', 'image.png']]"
       ]
      },
      {
       "output_type": "stream",
       "stream": "stdout",
       "text": [
        "\n",
        "[['384145136', 'summary.txt'], ['384145136', 'detail.txt'], ['384145136', 'image.png']]"
       ]
      },
      {
       "output_type": "stream",
       "stream": "stdout",
       "text": [
        "\n",
        "[['660567586', 'summary.txt'], ['660567586', 'detail.txt'], ['660567586', 'image.png']]"
       ]
      },
      {
       "output_type": "stream",
       "stream": "stdout",
       "text": [
        "\n",
        "[['254791136', 'summary.txt'], ['254791136', 'detail.txt'], ['254791136', 'image.png']]"
       ]
      },
      {
       "output_type": "stream",
       "stream": "stdout",
       "text": [
        "\n",
        "[['525836786', 'summary.txt'], ['525836786', 'detail.txt'], ['525836786', 'image.png']]"
       ]
      },
      {
       "output_type": "stream",
       "stream": "stdout",
       "text": [
        "\n",
        "[['384196195', 'summary.txt'], ['384196195', 'detail.txt'], ['384196195', 'image.png']]"
       ]
      },
      {
       "output_type": "stream",
       "stream": "stdout",
       "text": [
        "\n",
        "[['161523180', 'summary.txt'], ['161523180', 'detail.txt'], ['161523180', 'image.png']]"
       ]
      },
      {
       "output_type": "stream",
       "stream": "stdout",
       "text": [
        "\n",
        "[['NC_010688.1', 'summary.txt'], ['NC_010688.1', 'detail.txt'], ['NC_010688.1', 'image.png']]"
       ]
      },
      {
       "output_type": "stream",
       "stream": "stdout",
       "text": [
        "\n",
        "[['CP007530.1', 'summary.txt'], ['CP007530.1', 'detail.txt'], ['CP007530.1', 'image.png']]"
       ]
      },
      {
       "output_type": "stream",
       "stream": "stdout",
       "text": [
        "\n",
        "[['CP007383.1', 'summary.txt'], ['CP007383.1', 'detail.txt'], ['CP007383.1', 'image.png']]"
       ]
      },
      {
       "output_type": "stream",
       "stream": "stdout",
       "text": [
        "\n",
        "[['49484912', 'summary.txt'], ['49484912', 'detail.txt'], ['49484912', 'image.png']]"
       ]
      },
      {
       "output_type": "stream",
       "stream": "stdout",
       "text": [
        "\n",
        "[['473827406', 'summary.txt'], ['473827406', 'detail.txt'], ['473827406', 'image.png']]"
       ]
      },
      {
       "output_type": "stream",
       "stream": "stdout",
       "text": [
        "\n",
        "[['384541581', 'summary.txt'], ['384541581', 'detail.txt'], ['384541581', 'image.png']]"
       ]
      },
      {
       "output_type": "stream",
       "stream": "stdout",
       "text": [
        "\n",
        "[['CP008749.1', 'summary.txt'], ['CP008749.1', 'detail.txt'], ['CP008749.1', 'image.png']]"
       ]
      },
      {
       "output_type": "stream",
       "stream": "stdout",
       "text": [
        "\n",
        "[['LK391695.1', 'summary.txt'], ['LK391695.1', 'detail.txt'], ['LK391695.1', 'image.png']]"
       ]
      },
      {
       "output_type": "stream",
       "stream": "stdout",
       "text": [
        "\n",
        "[['479176048', 'summary.txt'], ['479176048', 'detail.txt'], ['479176048', 'image.png']]"
       ]
      },
      {
       "output_type": "stream",
       "stream": "stdout",
       "text": [
        "\n",
        "[['CP007136.1', 'summary.txt'], ['CP007136.1', 'detail.txt'], ['CP007136.1', 'image.png']]"
       ]
      },
      {
       "output_type": "stream",
       "stream": "stdout",
       "text": [
        "\n",
        "[['386622414', 'summary.txt'], ['386622414', 'detail.txt'], ['386622414', 'image.png']]"
       ]
      },
      {
       "output_type": "stream",
       "stream": "stdout",
       "text": [
        "\n",
        "[['532358222', 'summary.txt'], ['532358222', 'detail.txt'], ['532358222', 'image.png']]"
       ]
      },
      {
       "output_type": "stream",
       "stream": "stdout",
       "text": [
        "\n",
        "[['372486701', 'summary.txt'], ['372486701', 'detail.txt'], ['372486701', 'image.png']]"
       ]
      },
      {
       "output_type": "stream",
       "stream": "stdout",
       "text": [
        "\n",
        "[['384516725', 'summary.txt'], ['384516725', 'detail.txt'], ['384516725', 'image.png']]"
       ]
      },
      {
       "output_type": "stream",
       "stream": "stdout",
       "text": [
        "\n",
        "[['557220722', 'summary.txt'], ['557220722', 'detail.txt'], ['557220722', 'image.png']]"
       ]
      },
      {
       "output_type": "stream",
       "stream": "stdout",
       "text": [
        "\n",
        "[['237806776', 'summary.txt'], ['237806776', 'detail.txt'], ['237806776', 'image.png']]"
       ]
      },
      {
       "output_type": "stream",
       "stream": "stdout",
       "text": [
        "\n",
        "[['522813769', 'summary.txt'], ['522813769', 'detail.txt'], ['522813769', 'image.png']]"
       ]
      },
      {
       "output_type": "stream",
       "stream": "stdout",
       "text": [
        "\n",
        "[['CP007464.1', 'summary.txt'], ['CP007464.1', 'detail.txt'], ['CP007464.1', 'image.png']]"
       ]
      },
      {
       "output_type": "stream",
       "stream": "stdout",
       "text": [
        "\n",
        "[['KC469422.1', 'summary.txt'], ['KC469422.1', 'detail.txt'], ['KC469422.1', 'image.png']]"
       ]
      },
      {
       "output_type": "stream",
       "stream": "stdout",
       "text": [
        "\n",
        "[['605555317', 'summary.txt'], ['605555317', 'detail.txt'], ['605555317', 'image.png']]"
       ]
      },
      {
       "output_type": "stream",
       "stream": "stdout",
       "text": [
        "\n",
        "[['50913346', 'summary.txt'], ['50913346', 'detail.txt'], ['50913346', 'image.png']]"
       ]
      },
      {
       "output_type": "stream",
       "stream": "stdout",
       "text": [
        "\n",
        "[['558672313', 'summary.txt'], ['558672313', 'detail.txt'], ['558672313', 'image.png']]"
       ]
      },
      {
       "output_type": "stream",
       "stream": "stdout",
       "text": [
        "\n",
        "[['385836969', 'summary.txt'], ['385836969', 'detail.txt'], ['385836969', 'image.png']]"
       ]
      },
      {
       "output_type": "stream",
       "stream": "stdout",
       "text": [
        "\n",
        "[['189348893', 'summary.txt'], ['189348893', 'detail.txt'], ['189348893', 'image.png']]"
       ]
      },
      {
       "output_type": "stream",
       "stream": "stdout",
       "text": [
        "\n",
        "[['410859653', 'summary.txt'], ['410859653', 'detail.txt'], ['410859653', 'image.png']]"
       ]
      },
      {
       "output_type": "stream",
       "stream": "stdout",
       "text": [
        "\n",
        "[['597512677', 'summary.txt'], ['597512677', 'detail.txt'], ['597512677', 'image.png']]"
       ]
      },
      {
       "output_type": "stream",
       "stream": "stdout",
       "text": [
        "\n",
        "[['521166214', 'summary.txt'], ['521166214', 'detail.txt'], ['521166214', 'image.png']]"
       ]
      },
      {
       "output_type": "stream",
       "stream": "stdout",
       "text": [
        "\n",
        "[['342162671', 'summary.txt'], ['342162671', 'detail.txt'], ['342162671', 'image.png']]"
       ]
      },
      {
       "output_type": "stream",
       "stream": "stdout",
       "text": [
        "\n",
        "[['148266447', 'summary.txt'], ['148266447', 'detail.txt'], ['148266447', 'image.png']]"
       ]
      },
      {
       "output_type": "stream",
       "stream": "stdout",
       "text": [
        "\n",
        "[['218244892', 'summary.txt'], ['218244892', 'detail.txt'], ['218244892', 'image.png']]"
       ]
      },
      {
       "output_type": "stream",
       "stream": "stdout",
       "text": [
        "\n",
        "[['311277332', 'summary.txt'], ['311277332', 'detail.txt'], ['311277332', 'image.png']]"
       ]
      },
      {
       "output_type": "stream",
       "stream": "stdout",
       "text": [
        "\n",
        "[['CP007358.1', 'summary.txt'], ['CP007358.1', 'detail.txt'], ['CP007358.1', 'image.png']]"
       ]
      },
      {
       "output_type": "stream",
       "stream": "stdout",
       "text": [
        "\n",
        "[['CP007034.1', 'summary.txt'], ['CP007034.1', 'detail.txt'], ['CP007034.1', 'image.png']]"
       ]
      },
      {
       "output_type": "stream",
       "stream": "stdout",
       "text": [
        "\n",
        "[['CP007744.1', 'summary.txt'], ['CP007744.1', 'detail.txt'], ['CP007744.1', 'image.png']]"
       ]
      },
      {
       "output_type": "stream",
       "stream": "stdout",
       "text": [
        "\n",
        "[['479328021', 'summary.txt'], ['479328021', 'detail.txt'], ['479328021', 'image.png']]"
       ]
      },
      {
       "output_type": "stream",
       "stream": "stdout",
       "text": [
        "\n",
        "[['386707734', 'summary.txt'], ['386707734', 'detail.txt'], ['386707734', 'image.png']]"
       ]
      },
      {
       "output_type": "stream",
       "stream": "stdout",
       "text": [
        "\n",
        "[['344915202', 'summary.txt'], ['344915202', 'detail.txt'], ['344915202', 'image.png']]"
       ]
      },
      {
       "output_type": "stream",
       "stream": "stdout",
       "text": [
        "\n",
        "[['385235550', 'summary.txt'], ['385235550', 'detail.txt'], ['385235550', 'image.png']]"
       ]
      },
      {
       "output_type": "stream",
       "stream": "stdout",
       "text": [
        "\n",
        "[['224581838', 'summary.txt'], ['224581838', 'detail.txt'], ['224581838', 'image.png']]"
       ]
      },
      {
       "output_type": "stream",
       "stream": "stdout",
       "text": [
        "\n",
        "[['91209055', 'summary.txt'], ['91209055', 'detail.txt'], ['91209055', 'image.png']]"
       ]
      },
      {
       "output_type": "stream",
       "stream": "stdout",
       "text": [
        "\n",
        "[['91781384', 'summary.txt'], ['91781384', 'detail.txt'], ['91781384', 'image.png']]"
       ]
      },
      {
       "output_type": "stream",
       "stream": "stdout",
       "text": [
        "\n",
        "[['CP007248.1', 'summary.txt'], ['CP007248.1', 'detail.txt'], ['CP007248.1', 'image.png']]"
       ]
      },
      {
       "output_type": "stream",
       "stream": "stdout",
       "text": [
        "\n",
        "[['386062973', 'summary.txt'], ['386062973', 'detail.txt'], ['386062973', 'image.png']]"
       ]
      },
      {
       "output_type": "stream",
       "stream": "stdout",
       "text": [
        "\n",
        "[['538379295', 'summary.txt'], ['538379295', 'detail.txt'], ['538379295', 'image.png']]"
       ]
      },
      {
       "output_type": "stream",
       "stream": "stdout",
       "text": [
        "\n",
        "[['70725001', 'summary.txt'], ['70725001', 'detail.txt'], ['70725001', 'image.png']]"
       ]
      },
      {
       "output_type": "stream",
       "stream": "stdout",
       "text": [
        "\n",
        "[['384860682', 'summary.txt'], ['384860682', 'detail.txt'], ['384860682', 'image.png']]"
       ]
      },
      {
       "output_type": "stream",
       "stream": "stdout",
       "text": [
        "\n",
        "[['386318029', 'summary.txt'], ['386318029', 'detail.txt'], ['386318029', 'image.png']]"
       ]
      },
      {
       "output_type": "stream",
       "stream": "stdout",
       "text": [
        "\n",
        "[['434402184', 'summary.txt'], ['434402184', 'detail.txt'], ['434402184', 'image.png']]"
       ]
      },
      {
       "output_type": "stream",
       "stream": "stdout",
       "text": [
        "\n",
        "[['386085705', 'summary.txt'], ['386085705', 'detail.txt'], ['386085705', 'image.png']]"
       ]
      },
      {
       "output_type": "stream",
       "stream": "stdout",
       "text": [
        "\n",
        "[['215485161', 'summary.txt'], ['215485161', 'detail.txt'], ['215485161', 'image.png']]"
       ]
      },
      {
       "output_type": "stream",
       "stream": "stdout",
       "text": [
        "\n",
        "[['237810278', 'summary.txt'], ['237810278', 'detail.txt'], ['237810278', 'image.png']]"
       ]
      },
      {
       "output_type": "stream",
       "stream": "stdout",
       "text": [
        "\n",
        "[['NC_011748.1', 'summary.txt'], ['NC_011748.1', 'detail.txt'], ['NC_011748.1', 'image.png']]"
       ]
      },
      {
       "output_type": "stream",
       "stream": "stdout",
       "text": [
        "\n",
        "[['CP007004.1', 'summary.txt'], ['CP007004.1', 'detail.txt'], ['CP007004.1', 'image.png']]"
       ]
      },
      {
       "output_type": "stream",
       "stream": "stdout",
       "text": [
        "\n",
        "[['375356399', 'summary.txt'], ['375356399', 'detail.txt'], ['375356399', 'image.png']]"
       ]
      },
      {
       "output_type": "stream",
       "stream": "stdout",
       "text": [
        "\n",
        "[['387504934', 'summary.txt'], ['387504934', 'detail.txt'], ['387504934', 'image.png']]"
       ]
      },
      {
       "output_type": "stream",
       "stream": "stdout",
       "text": [
        "\n",
        "[['378764971', 'summary.txt'], ['378764971', 'detail.txt'], ['378764971', 'image.png']]"
       ]
      },
      {
       "output_type": "stream",
       "stream": "stdout",
       "text": [
        "\n",
        "[['NC_002745.2', 'summary.txt'], ['NC_002745.2', 'detail.txt'], ['NC_002745.2', 'image.png']]"
       ]
      },
      {
       "output_type": "stream",
       "stream": "stdout",
       "text": [
        "\n",
        "[['82749777', 'summary.txt'], ['82749777', 'detail.txt'], ['82749777', 'image.png']]"
       ]
      },
      {
       "output_type": "stream",
       "stream": "stdout",
       "text": [
        "\n",
        "[['CP007381.1', 'summary.txt'], ['CP007381.1', 'detail.txt'], ['CP007381.1', 'image.png']]"
       ]
      },
      {
       "output_type": "stream",
       "stream": "stdout",
       "text": [
        "\n",
        "[['32141095', 'summary.txt'], ['32141095', 'detail.txt'], ['32141095', 'image.png']]"
       ]
      },
      {
       "output_type": "stream",
       "stream": "stdout",
       "text": [
        "\n",
        "[['CP007533.1', 'summary.txt'], ['CP007533.1', 'detail.txt'], ['CP007533.1', 'image.png']]"
       ]
      },
      {
       "output_type": "stream",
       "stream": "stdout",
       "text": [
        "\n",
        "[['545636471', 'summary.txt'], ['545636471', 'detail.txt'], ['545636471', 'image.png']]"
       ]
      },
      {
       "output_type": "stream",
       "stream": "stdout",
       "text": [
        "\n",
        "[['386018640', 'summary.txt'], ['386018640', 'detail.txt'], ['386018640', 'image.png']]"
       ]
      },
      {
       "output_type": "stream",
       "stream": "stdout",
       "text": [
        "\n",
        "[['627787876', 'summary.txt'], ['627787876', 'detail.txt'], ['627787876', 'image.png']]"
       ]
      },
      {
       "output_type": "stream",
       "stream": "stdout",
       "text": [
        "\n",
        "[['CP008797.1', 'summary.txt'], ['CP008797.1', 'detail.txt'], ['CP008797.1', 'image.png']]"
       ]
      },
      {
       "output_type": "stream",
       "stream": "stdout",
       "text": [
        "\n",
        "[['568185322', 'summary.txt'], ['568185322', 'detail.txt'], ['568185322', 'image.png']]"
       ]
      },
      {
       "output_type": "stream",
       "stream": "stdout",
       "text": [
        "\n",
        "[['568179884', 'summary.txt'], ['568179884', 'detail.txt'], ['568179884', 'image.png']]"
       ]
      },
      {
       "output_type": "stream",
       "stream": "stdout",
       "text": [
        "\n",
        "[['443615330', 'summary.txt'], ['443615330', 'detail.txt'], ['443615330', 'image.png']]"
       ]
      },
      {
       "output_type": "stream",
       "stream": "stdout",
       "text": [
        "\n",
        "[['16763390', 'summary.txt'], ['16763390', 'detail.txt'], ['16763390', 'image.png']]"
       ]
      },
      {
       "output_type": "stream",
       "stream": "stdout",
       "text": [
        "\n",
        "[['161612313', 'summary.txt'], ['161612313', 'detail.txt'], ['161612313', 'image.png']]"
       ]
      },
      {
       "output_type": "stream",
       "stream": "stdout",
       "text": [
        "\n",
        "[['529218781', 'summary.txt'], ['529218781', 'detail.txt'], ['529218781', 'image.png']]"
       ]
      },
      {
       "output_type": "stream",
       "stream": "stdout",
       "text": [
        "\n",
        "[['CP007467.1', 'summary.txt'], ['CP007467.1', 'detail.txt'], ['CP007467.1', 'image.png']]"
       ]
      },
      {
       "output_type": "stream",
       "stream": "stdout",
       "text": [
        "\n",
        "[['590001402', 'summary.txt'], ['590001402', 'detail.txt'], ['590001402', 'image.png']]"
       ]
      },
      {
       "output_type": "stream",
       "stream": "stdout",
       "text": [
        "\n",
        "[['NC_020540.2', 'summary.txt'], ['NC_020540.2', 'detail.txt'], ['NC_020540.2', 'image.png']]"
       ]
      },
      {
       "output_type": "stream",
       "stream": "stdout",
       "text": [
        "\n",
        "[['384548923', 'summary.txt'], ['384548923', 'detail.txt'], ['384548923', 'image.png']]"
       ]
      },
      {
       "output_type": "stream",
       "stream": "stdout",
       "text": [
        "\n",
        "[['651853778', 'summary.txt'], ['651853778', 'detail.txt'], ['651853778', 'image.png']]"
       ]
      },
      {
       "output_type": "stream",
       "stream": "stdout",
       "text": [
        "\n",
        "[['651874622', 'summary.txt'], ['651874622', 'detail.txt'], ['651874622', 'image.png']]"
       ]
      },
      {
       "output_type": "stream",
       "stream": "stdout",
       "text": [
        "\n",
        "[['543891911', 'summary.txt'], ['543891911', 'detail.txt'], ['543891911', 'image.png']]"
       ]
      },
      {
       "output_type": "stream",
       "stream": "stdout",
       "text": [
        "\n",
        "[['CP007402.1', 'summary.txt'], ['CP007402.1', 'detail.txt'], ['CP007402.1', 'image.png']]"
       ]
      },
      {
       "output_type": "stream",
       "stream": "stdout",
       "text": [
        "\n",
        "[['91774356', 'summary.txt'], ['91774356', 'detail.txt'], ['91774356', 'image.png']]"
       ]
      },
      {
       "output_type": "stream",
       "stream": "stdout",
       "text": [
        "\n",
        "[['CP007407.1', 'summary.txt'], ['CP007407.1', 'detail.txt'], ['CP007407.1', 'image.png']]"
       ]
      },
      {
       "output_type": "stream",
       "stream": "stdout",
       "text": [
        "\n",
        "[['384865886', 'summary.txt'], ['384865886', 'detail.txt'], ['384865886', 'image.png']]"
       ]
      },
      {
       "output_type": "stream",
       "stream": "stdout",
       "text": [
        "\n",
        "[['640856369', 'summary.txt'], ['640856369', 'detail.txt'], ['640856369', 'image.png']]"
       ]
      },
      {
       "output_type": "stream",
       "stream": "stdout",
       "text": [
        "\n",
        "[['NC_009004.1', 'summary.txt'], ['NC_009004.1', 'detail.txt'], ['NC_009004.1', 'image.png']]"
       ]
      },
      {
       "output_type": "stream",
       "stream": "stdout",
       "text": [
        "\n",
        "[['LK022848.1', 'summary.txt'], ['LK022848.1', 'detail.txt'], ['LK022848.1', 'image.png']]"
       ]
      },
      {
       "output_type": "stream",
       "stream": "stdout",
       "text": [
        "\n",
        "[['556550243', 'summary.txt'], ['556550243', 'detail.txt'], ['556550243', 'image.png']]"
       ]
      },
      {
       "output_type": "stream",
       "stream": "stdout",
       "text": [
        "\n",
        "[['479192860', 'summary.txt'], ['479192860', 'detail.txt'], ['479192860', 'image.png']]"
       ]
      },
      {
       "output_type": "stream",
       "stream": "stdout",
       "text": [
        "\n",
        "[['386627502', 'summary.txt'], ['386627502', 'detail.txt'], ['386627502', 'image.png']]"
       ]
      },
      {
       "output_type": "stream",
       "stream": "stdout",
       "text": [
        "\n",
        "[['NC_007508.1', 'summary.txt'], ['NC_007508.1', 'detail.txt'], ['NC_007508.1', 'image.png']]"
       ]
      },
      {
       "output_type": "stream",
       "stream": "stdout",
       "text": [
        "\n",
        "[['544574430', 'summary.txt'], ['544574430', 'detail.txt'], ['544574430', 'image.png']]"
       ]
      },
      {
       "output_type": "stream",
       "stream": "stdout",
       "text": [
        "\n",
        "[['549722728', 'summary.txt'], ['549722728', 'detail.txt'], ['549722728', 'image.png']]"
       ]
      },
      {
       "output_type": "stream",
       "stream": "stdout",
       "text": [
        "\n",
        "[['392981410', 'summary.txt'], ['392981410', 'detail.txt'], ['392981410', 'image.png']]"
       ]
      },
      {
       "output_type": "stream",
       "stream": "stdout",
       "text": [
        "\n",
        "[['218687878', 'summary.txt'], ['218687878', 'detail.txt'], ['218687878', 'image.png']]"
       ]
      },
      {
       "output_type": "stream",
       "stream": "stdout",
       "text": [
        "\n",
        "[['386597751', 'summary.txt'], ['386597751', 'detail.txt'], ['386597751', 'image.png']]"
       ]
      },
      {
       "output_type": "stream",
       "stream": "stdout",
       "text": [
        "\n",
        "[['169794206', 'summary.txt'], ['169794206', 'detail.txt'], ['169794206', 'image.png']]"
       ]
      },
      {
       "output_type": "stream",
       "stream": "stdout",
       "text": [
        "\n",
        "[['300781937', 'summary.txt'], ['300781937', 'detail.txt'], ['300781937', 'image.png']]"
       ]
      },
      {
       "output_type": "stream",
       "stream": "stdout",
       "text": [
        "\n",
        "[['150392480', 'summary.txt'], ['150392480', 'detail.txt'], ['150392480', 'image.png']]"
       ]
      },
      {
       "output_type": "stream",
       "stream": "stdout",
       "text": [
        "\n",
        "[['117622295', 'summary.txt'], ['117622295', 'detail.txt'], ['117622295', 'image.png']]"
       ]
      },
      {
       "output_type": "stream",
       "stream": "stdout",
       "text": [
        "\n",
        "[['640834542', 'summary.txt'], ['640834542', 'detail.txt'], ['640834542', 'image.png']]"
       ]
      },
      {
       "output_type": "stream",
       "stream": "stdout",
       "text": [
        "\n",
        "[['CP007466.1', 'summary.txt'], ['CP007466.1', 'detail.txt'], ['CP007466.1', 'image.png']]"
       ]
      },
      {
       "output_type": "stream",
       "stream": "stdout",
       "text": [
        "\n",
        "[['57650036', 'summary.txt'], ['57650036', 'detail.txt'], ['57650036', 'image.png']]"
       ]
      },
      {
       "output_type": "stream",
       "stream": "stdout",
       "text": [
        "\n",
        "[['288904223', 'summary.txt'], ['288904223', 'detail.txt'], ['288904223', 'image.png']]"
       ]
      },
      {
       "output_type": "stream",
       "stream": "stdout",
       "text": [
        "\n",
        "[]"
       ]
      },
      {
       "output_type": "stream",
       "stream": "stdout",
       "text": [
        "\n",
        "[['LK932402.1', 'summary.txt'], ['LK932402.1', 'detail.txt'], ['LK932402.1', 'image.png']]\n",
        "[['253754647', 'summary.txt'], ['253754647', 'detail.txt'], ['253754647', 'image.png']]"
       ]
      },
      {
       "output_type": "stream",
       "stream": "stdout",
       "text": [
        "\n",
        "[['433771415', 'summary.txt'], ['433771415', 'detail.txt'], ['433771415', 'image.png']]"
       ]
      },
      {
       "output_type": "stream",
       "stream": "stdout",
       "text": [
        "\n",
        "[['HG738867.1', 'summary.txt'], ['HG738867.1', 'detail.txt'], ['HG738867.1', 'image.png']]"
       ]
      },
      {
       "output_type": "stream",
       "stream": "stdout",
       "text": [
        "\n",
        "[['HG322950.1', 'summary.txt'], ['HG322950.1', 'detail.txt'], ['HG322950.1', 'image.png']]"
       ]
      },
      {
       "output_type": "stream",
       "stream": "stdout",
       "text": [
        "\n",
        "[['525968348', 'summary.txt'], ['525968348', 'detail.txt'], ['525968348', 'image.png']]"
       ]
      },
      {
       "output_type": "stream",
       "stream": "stdout",
       "text": [
        "\n",
        "[['CP007534.1', 'summary.txt'], ['CP007534.1', 'detail.txt'], ['CP007534.1', 'image.png']]"
       ]
      },
      {
       "output_type": "stream",
       "stream": "stdout",
       "text": [
        "\n",
        "[['545633528', 'summary.txt'], ['545633528', 'detail.txt'], ['545633528', 'image.png']]"
       ]
      },
      {
       "output_type": "stream",
       "stream": "stdout",
       "text": [
        "\n",
        "[['218556939', 'summary.txt'], ['218556939', 'detail.txt'], ['218556939', 'image.png']]"
       ]
      },
      {
       "output_type": "stream",
       "stream": "stdout",
       "text": [
        "\n",
        "[['478476202', 'summary.txt'], ['478476202', 'detail.txt'], ['478476202', 'image.png']]"
       ]
      },
      {
       "output_type": "stream",
       "stream": "stdout",
       "text": [
        "\n",
        "[['479169109', 'summary.txt'], ['479169109', 'detail.txt'], ['479169109', 'image.png']]"
       ]
      },
      {
       "output_type": "stream",
       "stream": "stdout",
       "text": [
        "\n",
        "[['134093294', 'summary.txt'], ['134093294', 'detail.txt'], ['134093294', 'image.png']]"
       ]
      },
      {
       "output_type": "stream",
       "stream": "stdout",
       "text": [
        "\n",
        "[['218888746', 'summary.txt'], ['218888746', 'detail.txt'], ['218888746', 'image.png']]"
       ]
      },
      {
       "output_type": "stream",
       "stream": "stdout",
       "text": [
        "\n",
        "[['CP007250.1', 'summary.txt'], ['CP007250.1', 'detail.txt'], ['CP007250.1', 'image.png']]"
       ]
      },
      {
       "output_type": "stream",
       "stream": "stdout",
       "text": [
        "\n",
        "[['NC_016010.1', 'summary.txt'], ['NC_016010.1', 'detail.txt'], ['NC_016010.1', 'image.png']]"
       ]
      },
      {
       "output_type": "stream",
       "stream": "stdout",
       "text": [
        "\n",
        "[['595583568', 'summary.txt'], ['595583568', 'detail.txt'], ['595583568', 'image.png']]"
       ]
      },
      {
       "output_type": "stream",
       "stream": "stdout",
       "text": [
        "\n",
        "[['CP006698.1', 'summary.txt'], ['CP006698.1', 'detail.txt'], ['CP006698.1', 'image.png']]"
       ]
      },
      {
       "output_type": "stream",
       "stream": "stdout",
       "text": [
        "\n",
        "[['120596833', 'summary.txt'], ['120596833', 'detail.txt'], ['120596833', 'image.png']]"
       ]
      },
      {
       "output_type": "stream",
       "stream": "stdout",
       "text": [
        "\n",
        "[['NC_003919.1', 'summary.txt'], ['NC_003919.1', 'detail.txt'], ['NC_003919.1', 'image.png']]"
       ]
      },
      {
       "output_type": "stream",
       "stream": "stdout",
       "text": [
        "\n",
        "[['319760738', 'summary.txt'], ['319760738', 'detail.txt'], ['319760738', 'image.png']]"
       ]
      },
      {
       "output_type": "stream",
       "stream": "stdout",
       "text": [
        "\n",
        "[['CP007041.1', 'summary.txt'], ['CP007041.1', 'detail.txt'], ['CP007041.1', 'image.png']]"
       ]
      },
      {
       "output_type": "stream",
       "stream": "stdout",
       "text": [
        "\n",
        "[['AP013357.1', 'summary.txt'], ['AP013357.1', 'detail.txt'], ['AP013357.1', 'image.png']]"
       ]
      },
      {
       "output_type": "stream",
       "stream": "stdout",
       "text": [
        "\n",
        "[['643480977', 'summary.txt'], ['643480977', 'detail.txt'], ['643480977', 'image.png']]"
       ]
      },
      {
       "output_type": "stream",
       "stream": "stdout",
       "text": [
        "\n",
        "[['527329219', 'summary.txt'], ['527329219', 'detail.txt'], ['527329219', 'image.png']]"
       ]
      },
      {
       "output_type": "stream",
       "stream": "stdout",
       "text": [
        "\n",
        "[['289549371', 'summary.txt'], ['289549371', 'detail.txt'], ['289549371', 'image.png']]"
       ]
      },
      {
       "output_type": "stream",
       "stream": "stdout",
       "text": [
        "\n",
        "[['15671982', 'summary.txt'], ['15671982', 'detail.txt'], ['15671982', 'image.png']]"
       ]
      },
      {
       "output_type": "stream",
       "stream": "stdout",
       "text": [
        "\n",
        "[['CP007505.1', 'summary.txt'], ['CP007505.1', 'detail.txt'], ['CP007505.1', 'image.png']]"
       ]
      },
      {
       "output_type": "stream",
       "stream": "stdout",
       "text": [
        "\n",
        "[['565643472', 'summary.txt'], ['565643472', 'detail.txt'], ['565643472', 'image.png']]"
       ]
      },
      {
       "output_type": "stream",
       "stream": "stdout",
       "text": [
        "\n",
        "[['526218030', 'summary.txt'], ['526218030', 'detail.txt'], ['526218030', 'image.png']]"
       ]
      },
      {
       "output_type": "stream",
       "stream": "stdout",
       "text": [
        "\n",
        "[['CP007245.1', 'summary.txt'], ['CP007245.1', 'detail.txt'], ['CP007245.1', 'image.png']]"
       ]
      },
      {
       "output_type": "stream",
       "stream": "stdout",
       "text": [
        "\n",
        "[['CP007376.1', 'summary.txt'], ['CP007376.1', 'detail.txt'], ['CP007376.1', 'image.png']]"
       ]
      },
      {
       "output_type": "stream",
       "stream": "stdout",
       "text": [
        "\n",
        "[['94987631', 'summary.txt'], ['94987631', 'detail.txt'], ['94987631', 'image.png']]"
       ]
      },
      {
       "output_type": "stream",
       "stream": "stdout",
       "text": [
        "\n",
        "[['CP007398.1', 'summary.txt'], ['CP007398.1', 'detail.txt'], ['CP007398.1', 'image.png']]"
       ]
      },
      {
       "output_type": "stream",
       "stream": "stdout",
       "text": [
        "\n",
        "[['331265438', 'summary.txt'], ['331265438', 'detail.txt'], ['331265438', 'image.png']]"
       ]
      },
      {
       "output_type": "stream",
       "stream": "stdout",
       "text": [
        "\n",
        "[['538369494', 'summary.txt'], ['538369494', 'detail.txt'], ['538369494', 'image.png']]"
       ]
      },
      {
       "output_type": "stream",
       "stream": "stdout",
       "text": [
        "\n",
        "[['CP006715.1', 'summary.txt'], ['CP006715.1', 'detail.txt'], ['CP006715.1', 'image.png']]"
       ]
      },
      {
       "output_type": "stream",
       "stream": "stdout",
       "text": [
        "\n",
        "[['NC_000913.3', 'summary.txt'], ['NC_000913.3', 'detail.txt'], ['NC_000913.3', 'image.png']]"
       ]
      },
      {
       "output_type": "stream",
       "stream": "stdout",
       "text": [
        "\n",
        "[['CP008896.1', 'summary.txt'], ['CP008896.1', 'detail.txt'], ['CP008896.1', 'image.png']]"
       ]
      },
      {
       "output_type": "stream",
       "stream": "stdout",
       "text": [
        "\n",
        "[['120552944', 'summary.txt'], ['120552944', 'detail.txt'], ['120552944', 'image.png']]"
       ]
      },
      {
       "output_type": "stream",
       "stream": "stdout",
       "text": [
        "\n",
        "[['345297184', 'summary.txt'], ['345297184', 'detail.txt'], ['345297184', 'image.png']]"
       ]
      },
      {
       "output_type": "stream",
       "stream": "stdout",
       "text": [
        "\n",
        "[['CP007270.1', 'summary.txt'], ['CP007270.1', 'detail.txt'], ['CP007270.1', 'image.png']]"
       ]
      },
      {
       "output_type": "stream",
       "stream": "stdout",
       "text": [
        "\n",
        "[['292486492', 'summary.txt'], ['292486492', 'detail.txt'], ['292486492', 'image.png']]"
       ]
      },
      {
       "output_type": "stream",
       "stream": "stdout",
       "text": [
        "\n",
        "[['407479587', 'summary.txt'], ['407479587', 'detail.txt'], ['407479587', 'image.png']]"
       ]
      },
      {
       "output_type": "stream",
       "stream": "stdout",
       "text": [
        "\n",
        "[['57634611', 'summary.txt'], ['57634611', 'detail.txt'], ['57634611', 'image.png']]"
       ]
      },
      {
       "output_type": "stream",
       "stream": "stdout",
       "text": [
        "\n",
        "[['383327320', 'summary.txt'], ['383327320', 'detail.txt'], ['383327320', 'image.png']]"
       ]
      },
      {
       "output_type": "stream",
       "stream": "stdout",
       "text": [
        "\n",
        "[['488650489', 'summary.txt'], ['488650489', 'detail.txt'], ['488650489', 'image.png']]"
       ]
      },
      {
       "output_type": "stream",
       "stream": "stdout",
       "text": [
        "\n",
        "[['NC_016857.1', 'summary.txt'], ['NC_016857.1', 'detail.txt'], ['NC_016857.1', 'image.png']]"
       ]
      },
      {
       "output_type": "stream",
       "stream": "stdout",
       "text": [
        "\n",
        "[['386617516', 'summary.txt'], ['386617516', 'detail.txt'], ['386617516', 'image.png']]"
       ]
      },
      {
       "output_type": "stream",
       "stream": "stdout",
       "text": [
        "\n",
        "[['387128982', 'summary.txt'], ['387128982', 'detail.txt'], ['387128982', 'image.png']]"
       ]
      },
      {
       "output_type": "stream",
       "stream": "stdout",
       "text": [
        "\n",
        "[['384141246', 'summary.txt'], ['384141246', 'detail.txt'], ['384141246', 'image.png']]"
       ]
      },
      {
       "output_type": "stream",
       "stream": "stdout",
       "text": [
        "\n",
        "[['260866153', 'summary.txt'], ['260866153', 'detail.txt'], ['260866153', 'image.png']]"
       ]
      },
      {
       "output_type": "stream",
       "stream": "stdout",
       "text": [
        "\n",
        "[['522665969', 'summary.txt'], ['522665969', 'detail.txt'], ['522665969', 'image.png']]"
       ]
      },
      {
       "output_type": "stream",
       "stream": "stdout",
       "text": [
        "\n",
        "[['302384444', 'summary.txt'], ['302384444', 'detail.txt'], ['302384444', 'image.png']]"
       ]
      },
      {
       "output_type": "stream",
       "stream": "stdout",
       "text": [
        "\n",
        "[['NC_012971.2', 'summary.txt'], ['NC_012971.2', 'detail.txt'], ['NC_012971.2', 'image.png']]"
       ]
      },
      {
       "output_type": "stream",
       "stream": "stdout",
       "text": [
        "\n",
        "[['NC_002488.3', 'summary.txt'], ['NC_002488.3', 'detail.txt'], ['NC_002488.3', 'image.png']]"
       ]
      },
      {
       "output_type": "stream",
       "stream": "stdout",
       "text": [
        "\n",
        "[['CP007469.1', 'summary.txt'], ['CP007469.1', 'detail.txt'], ['CP007469.1', 'image.png']]"
       ]
      },
      {
       "output_type": "stream",
       "stream": "stdout",
       "text": [
        "\n",
        "[['499142348', 'summary.txt'], ['499142348', 'detail.txt'], ['499142348', 'image.png']]"
       ]
      },
      {
       "output_type": "stream",
       "stream": "stdout",
       "text": [
        "\n",
        "[['NC_007086.1', 'summary.txt'], ['NC_007086.1', 'detail.txt'], ['NC_007086.1', 'image.png']]"
       ]
      },
      {
       "output_type": "stream",
       "stream": "stdout",
       "text": [
        "\n",
        "[['643507640', 'summary.txt'], ['643507640', 'detail.txt'], ['643507640', 'image.png']]"
       ]
      },
      {
       "output_type": "stream",
       "stream": "stdout",
       "text": [
        "\n",
        "[['CP007014.1', 'summary.txt'], ['CP007014.1', 'detail.txt'], ['CP007014.1', 'image.png']]"
       ]
      },
      {
       "output_type": "stream",
       "stream": "stdout",
       "text": [
        "\n",
        "[['470469929', 'summary.txt'], ['470469929', 'detail.txt'], ['470469929', 'image.png']]"
       ]
      },
      {
       "output_type": "stream",
       "stream": "stdout",
       "text": [
        "\n",
        "[['218703261', 'summary.txt'], ['218703261', 'detail.txt'], ['218703261', 'image.png']]"
       ]
      },
      {
       "output_type": "stream",
       "stream": "stdout",
       "text": [
        "\n",
        "[['157144296', 'summary.txt'], ['157144296', 'detail.txt'], ['157144296', 'image.png']]"
       ]
      },
      {
       "output_type": "stream",
       "stream": "stdout",
       "text": [
        "\n",
        "[['184156320', 'summary.txt'], ['184156320', 'detail.txt'], ['184156320', 'image.png']]"
       ]
      },
      {
       "output_type": "stream",
       "stream": "stdout",
       "text": [
        "\n",
        "[['CP007391.1', 'summary.txt'], ['CP007391.1', 'detail.txt'], ['CP007391.1', 'image.png']]"
       ]
      },
      {
       "output_type": "stream",
       "stream": "stdout",
       "text": [
        "\n",
        "[['612502010', 'summary.txt'], ['612502010', 'detail.txt'], ['612502010', 'image.png']]"
       ]
      },
      {
       "output_type": "stream",
       "stream": "stdout",
       "text": [
        "\n",
        "[['221230948', 'summary.txt'], ['221230948', 'detail.txt'], ['221230948', 'image.png']]"
       ]
      },
      {
       "output_type": "stream",
       "stream": "stdout",
       "text": [
        "\n",
        "[['407466711', 'summary.txt'], ['407466711', 'detail.txt'], ['407466711', 'image.png']]"
       ]
      },
      {
       "output_type": "stream",
       "stream": "stdout",
       "text": [
        "\n",
        "[['CP003999.1', 'summary.txt'], ['CP003999.1', 'detail.txt'], ['CP003999.1', 'image.png']]"
       ]
      },
      {
       "output_type": "stream",
       "stream": "stdout",
       "text": [
        "\n",
        "[['NC_022364.1', 'summary.txt'], ['NC_022364.1', 'detail.txt'], ['NC_022364.1', 'image.png']]"
       ]
      },
      {
       "output_type": "stream",
       "stream": "stdout",
       "text": [
        "\n",
        "[['CP007355.1', 'summary.txt'], ['CP007355.1', 'detail.txt'], ['CP007355.1', 'image.png']]"
       ]
      },
      {
       "output_type": "stream",
       "stream": "stdout",
       "text": [
        "\n",
        "[['CP007375.1', 'summary.txt'], ['CP007375.1', 'detail.txt'], ['CP007375.1', 'image.png']]"
       ]
      },
      {
       "output_type": "stream",
       "stream": "stdout",
       "text": [
        "\n",
        "[['508126650', 'summary.txt'], ['508126650', 'detail.txt'], ['508126650', 'image.png']]"
       ]
      },
      {
       "output_type": "stream",
       "stream": "stdout",
       "text": [
        "\n",
        "[['CP007246.1', 'summary.txt'], ['CP007246.1', 'detail.txt'], ['CP007246.1', 'image.png']]"
       ]
      },
      {
       "output_type": "stream",
       "stream": "stdout",
       "text": [
        "\n",
        "[['404477334', 'summary.txt'], ['404477334', 'detail.txt'], ['404477334', 'image.png']]"
       ]
      },
      {
       "output_type": "stream",
       "stream": "stdout",
       "text": [
        "\n",
        "[['NC_003295.1', 'summary.txt'], ['NC_003295.1', 'detail.txt'], ['NC_003295.1', 'image.png']]"
       ]
      },
      {
       "output_type": "stream",
       "stream": "stdout",
       "text": [
        "\n",
        "[['558665962', 'summary.txt'], ['558665962', 'detail.txt'], ['558665962', 'image.png']]"
       ]
      },
      {
       "output_type": "stream",
       "stream": "stdout",
       "text": [
        "\n",
        "[['CP008739.1', 'summary.txt'], ['CP008739.1', 'detail.txt'], ['CP008739.1', 'image.png']]"
       ]
      },
      {
       "output_type": "stream",
       "stream": "stdout",
       "text": [
        "\n",
        "[['CP006712.1', 'summary.txt'], ['CP006712.1', 'detail.txt'], ['CP006712.1', 'image.png']]"
       ]
      },
      {
       "output_type": "stream",
       "stream": "stdout",
       "text": [
        "\n",
        "[['386637352', 'summary.txt'], ['386637352', 'detail.txt'], ['386637352', 'image.png']]"
       ]
      },
      {
       "output_type": "stream",
       "stream": "stdout",
       "text": [
        "\n",
        "[['157154711', 'summary.txt'], ['157154711', 'detail.txt'], ['157154711', 'image.png']]"
       ]
      },
      {
       "output_type": "stream",
       "stream": "stdout",
       "text": [
        "\n",
        "[['218547440', 'summary.txt'], ['218547440', 'detail.txt'], ['218547440', 'image.png']]"
       ]
      },
      {
       "output_type": "stream",
       "stream": "stdout",
       "text": [
        "\n",
        "[['430741030', 'summary.txt'], ['430741030', 'detail.txt'], ['430741030', 'image.png']]"
       ]
      },
      {
       "output_type": "stream",
       "stream": "stdout",
       "text": [
        "\n",
        "[['292897734', 'summary.txt'], ['292897734', 'detail.txt'], ['292897734', 'image.png']]"
       ]
      },
      {
       "output_type": "stream",
       "stream": "stdout",
       "text": [
        "\n",
        "[['CP007249.1', 'summary.txt'], ['CP007249.1', 'detail.txt'], ['CP007249.1', 'image.png']]"
       ]
      },
      {
       "output_type": "stream",
       "stream": "stdout",
       "text": [
        "\n",
        "[['388476123', 'summary.txt'], ['388476123', 'detail.txt'], ['388476123', 'image.png']]"
       ]
      },
      {
       "output_type": "stream",
       "stream": "stdout",
       "text": [
        "\n",
        "[['CP006262.1', 'summary.txt'], ['CP006262.1', 'detail.txt'], ['CP006262.1', 'image.png']]"
       ]
      },
      {
       "output_type": "stream",
       "stream": "stdout",
       "text": [
        "\n",
        "[['194447306', 'summary.txt'], ['194447306', 'detail.txt'], ['194447306', 'image.png']]"
       ]
      },
      {
       "output_type": "stream",
       "stream": "stdout",
       "text": [
        "\n",
        "[['333891490', 'summary.txt'], ['333891490', 'detail.txt'], ['333891490', 'image.png']]"
       ]
      },
      {
       "output_type": "stream",
       "stream": "stdout",
       "text": [
        "\n",
        "[['CP007175.1', 'summary.txt'], ['CP007175.1', 'detail.txt'], ['CP007175.1', 'image.png']]"
       ]
      },
      {
       "output_type": "stream",
       "stream": "stdout",
       "text": [
        "\n",
        "[['CP007463.1', 'summary.txt'], ['CP007463.1', 'detail.txt'], ['CP007463.1', 'image.png']]"
       ]
      },
      {
       "output_type": "stream",
       "stream": "stdout",
       "text": [
        "\n",
        "[['CP007273.1', 'summary.txt'], ['CP007273.1', 'detail.txt'], ['CP007273.1', 'image.png']]"
       ]
      },
      {
       "output_type": "stream",
       "stream": "stdout",
       "text": [
        "\n",
        "[['CP007393.1', 'summary.txt'], ['CP007393.1', 'detail.txt'], ['CP007393.1', 'image.png']]"
       ]
      },
      {
       "output_type": "stream",
       "stream": "stdout",
       "text": [
        "\n",
        "[['357383074', 'summary.txt'], ['357383074', 'detail.txt'], ['357383074', 'image.png']]"
       ]
      },
      {
       "output_type": "stream",
       "stream": "stdout",
       "text": [
        "\n",
        "[['549487522', 'summary.txt'], ['549487522', 'detail.txt'], ['549487522', 'image.png']]"
       ]
      },
      {
       "output_type": "stream",
       "stream": "stdout",
       "text": [
        "\n",
        "[['NC_022541.1', 'summary.txt'], ['NC_022541.1', 'detail.txt'], ['NC_022541.1', 'image.png']]"
       ]
      },
      {
       "output_type": "stream",
       "stream": "stdout",
       "text": [
        "\n",
        "[['30061571', 'summary.txt'], ['30061571', 'detail.txt'], ['30061571', 'image.png']]"
       ]
      },
      {
       "output_type": "stream",
       "stream": "stdout",
       "text": [
        "\n",
        "[['CP007298.1', 'summary.txt'], ['CP007298.1', 'detail.txt'], ['CP007298.1', 'image.png']]"
       ]
      },
      {
       "output_type": "stream",
       "stream": "stdout",
       "text": [
        "\n",
        "[['225855735', 'summary.txt'], ['225855735', 'detail.txt'], ['225855735', 'image.png']]"
       ]
      },
      {
       "output_type": "stream",
       "stream": "stdout",
       "text": [
        "\n",
        "[['CP006798.1', 'summary.txt'], ['CP006798.1', 'detail.txt'], ['CP006798.1', 'image.png']]"
       ]
      },
      {
       "output_type": "stream",
       "stream": "stdout",
       "text": [
        "\n",
        "[['116510843', 'summary.txt'], ['116510843', 'detail.txt'], ['116510843', 'image.png']]"
       ]
      },
      {
       "output_type": "stream",
       "stream": "stdout",
       "text": [
        "\n",
        "[['125716887', 'summary.txt'], ['125716887', 'detail.txt'], ['125716887', 'image.png']]"
       ]
      },
      {
       "output_type": "stream",
       "stream": "stdout",
       "text": [
        "\n",
        "[['549478129', 'summary.txt'], ['549478129', 'detail.txt'], ['549478129', 'image.png']]"
       ]
      },
      {
       "output_type": "stream",
       "stream": "stdout",
       "text": [
        "\n",
        "[['170079663', 'summary.txt'], ['170079663', 'detail.txt'], ['170079663', 'image.png']]"
       ]
      },
      {
       "output_type": "stream",
       "stream": "stdout",
       "text": [
        "\n",
        "[['311063459', 'summary.txt'], ['311063459', 'detail.txt'], ['311063459', 'image.png']]"
       ]
      },
      {
       "output_type": "stream",
       "stream": "stdout",
       "text": [
        "\n",
        "[['383494824', 'summary.txt'], ['383494824', 'detail.txt'], ['383494824', 'image.png']]"
       ]
      },
      {
       "output_type": "stream",
       "stream": "stdout",
       "text": [
        "\n",
        "[['161508266', 'summary.txt'], ['161508266', 'detail.txt'], ['161508266', 'image.png']]"
       ]
      },
      {
       "output_type": "stream",
       "stream": "stdout",
       "text": [
        "\n",
        "[['53711291', 'summary.txt'], ['53711291', 'detail.txt'], ['53711291', 'image.png']]"
       ]
      },
      {
       "output_type": "stream",
       "stream": "stdout",
       "text": [
        "\n",
        "[['78355047', 'summary.txt'], ['78355047', 'detail.txt'], ['78355047', 'image.png']]"
       ]
      },
      {
       "output_type": "stream",
       "stream": "stdout",
       "text": [
        "\n",
        "[['38232642', 'summary.txt'], ['38232642', 'detail.txt'], ['38232642', 'image.png']]"
       ]
      },
      {
       "output_type": "stream",
       "stream": "stdout",
       "text": [
        "\n",
        "[['CP007395.1', 'summary.txt'], ['CP007395.1', 'detail.txt'], ['CP007395.1', 'image.png']]"
       ]
      },
      {
       "output_type": "stream",
       "stream": "stdout",
       "text": [
        "\n",
        "[['482897536', 'summary.txt'], ['482897536', 'detail.txt'], ['482897536', 'image.png']]"
       ]
      },
      {
       "output_type": "stream",
       "stream": "stdout",
       "text": [
        "\n",
        "[['386698504', 'summary.txt'], ['386698504', 'detail.txt'], ['386698504', 'image.png']]"
       ]
      },
      {
       "output_type": "stream",
       "stream": "stdout",
       "text": [
        "\n",
        "[['308513210', 'summary.txt'], ['308513210', 'detail.txt'], ['308513210', 'image.png']]"
       ]
      },
      {
       "output_type": "stream",
       "stream": "stdout",
       "text": [
        "\n",
        "[['582020631', 'summary.txt'], ['582020631', 'detail.txt'], ['582020631', 'image.png']]"
       ]
      },
      {
       "output_type": "stream",
       "stream": "stdout",
       "text": [
        "\n",
        "[['375256816', 'summary.txt'], ['375256816', 'detail.txt'], ['375256816', 'image.png']]"
       ]
      },
      {
       "output_type": "stream",
       "stream": "stdout",
       "text": [
        "\n",
        "[['56412276', 'summary.txt'], ['56412276', 'detail.txt'], ['56412276', 'image.png']]"
       ]
      },
      {
       "output_type": "stream",
       "stream": "stdout",
       "text": [
        "\n",
        "[['LK932994.1', 'summary.txt'], ['LK932994.1', 'detail.txt'], ['LK932994.1', 'image.png']]"
       ]
      },
      {
       "output_type": "stream",
       "stream": "stdout",
       "text": [
        "\n",
        "[['CP007403.1', 'summary.txt'], ['CP007403.1', 'detail.txt'], ['CP007403.1', 'image.png']]"
       ]
      },
      {
       "output_type": "stream",
       "stream": "stdout",
       "text": [
        "\n",
        "[['82542618', 'summary.txt'], ['82542618', 'detail.txt'], ['82542618', 'image.png']]"
       ]
      },
      {
       "output_type": "stream",
       "stream": "stdout",
       "text": [
        "\n",
        "[['152983466', 'summary.txt'], ['152983466', 'detail.txt'], ['152983466', 'image.png']]"
       ]
      },
      {
       "output_type": "stream",
       "stream": "stdout",
       "text": [
        "\n",
        "[['386336689', 'summary.txt'], ['386336689', 'detail.txt'], ['386336689', 'image.png']]"
       ]
      },
      {
       "output_type": "stream",
       "stream": "stdout",
       "text": [
        "\n",
        "[['389853198', 'summary.txt'], ['389853198', 'detail.txt'], ['389853198', 'image.png']]"
       ]
      },
      {
       "output_type": "stream",
       "stream": "stdout",
       "text": [
        "\n",
        "[['156932229', 'summary.txt'], ['156932229', 'detail.txt'], ['156932229', 'image.png']]"
       ]
      },
      {
       "output_type": "stream",
       "stream": "stdout",
       "text": [
        "\n",
        "[['57865352', 'summary.txt'], ['57865352', 'detail.txt'], ['57865352', 'image.png']]"
       ]
      },
      {
       "output_type": "stream",
       "stream": "stdout",
       "text": [
        "\n",
        "[['564949884', 'summary.txt'], ['564949884', 'detail.txt'], ['564949884', 'image.png']]"
       ]
      },
      {
       "output_type": "stream",
       "stream": "stdout",
       "text": [
        "\n",
        "[['58579623', 'summary.txt'], ['58579623', 'detail.txt'], ['58579623', 'image.png']]"
       ]
      },
      {
       "output_type": "stream",
       "stream": "stdout",
       "text": [
        "\n",
        "[['71902667', 'summary.txt'], ['71902667', 'detail.txt'], ['71902667', 'image.png']]"
       ]
      },
      {
       "output_type": "stream",
       "stream": "stdout",
       "text": [
        "\n",
        "[['479155735', 'summary.txt'], ['479155735', 'detail.txt'], ['479155735', 'image.png']]"
       ]
      },
      {
       "output_type": "stream",
       "stream": "stdout",
       "text": [
        "\n",
        "[['CP008823.1', 'summary.txt'], ['CP008823.1', 'detail.txt'], ['CP008823.1', 'image.png']]"
       ]
      },
      {
       "output_type": "stream",
       "stream": "stdout",
       "text": [
        "\n",
        "[['NC_017178', 'summary.txt'], ['NC_017178', 'detail.txt'], ['NC_017178', 'image.png']]"
       ]
      },
      {
       "output_type": "stream",
       "stream": "stdout",
       "text": [
        "\n",
        "[['CP007253.1', 'summary.txt'], ['CP007253.1', 'detail.txt'], ['CP007253.1', 'image.png']]"
       ]
      },
      {
       "output_type": "stream",
       "stream": "stdout",
       "text": [
        "\n",
        "[['CP008805.1', 'summary.txt'], ['CP008805.1', 'detail.txt'], ['CP008805.1', 'image.png']]"
       ]
      },
      {
       "output_type": "stream",
       "stream": "stdout",
       "text": [
        "\n",
        "[['386593590', 'summary.txt'], ['386593590', 'detail.txt'], ['386593590', 'image.png']]"
       ]
      },
      {
       "output_type": "stream",
       "stream": "stdout",
       "text": [
        "\n",
        "[['643382501', 'summary.txt'], ['643382501', 'detail.txt'], ['643382501', 'image.png']]"
       ]
      },
      {
       "output_type": "stream",
       "stream": "stdout",
       "text": [
        "\n",
        "[['222154829', 'summary.txt'], ['222154829', 'detail.txt'], ['222154829', 'image.png']]"
       ]
      },
      {
       "output_type": "stream",
       "stream": "stdout",
       "text": [
        "\n",
        "[['325295716', 'summary.txt'], ['325295716', 'detail.txt'], ['325295716', 'image.png']]"
       ]
      },
      {
       "output_type": "stream",
       "stream": "stdout",
       "text": [
        "\n",
        "[['213155370', 'summary.txt'], ['213155370', 'detail.txt'], ['213155370', 'image.png']]"
       ]
      },
      {
       "output_type": "stream",
       "stream": "stdout",
       "text": [
        "\n",
        "[['379019812', 'summary.txt'], ['379019812', 'detail.txt'], ['379019812', 'image.png']]"
       ]
      },
      {
       "output_type": "stream",
       "stream": "stdout",
       "text": [
        "\n",
        "[['537441500', 'summary.txt'], ['537441500', 'detail.txt'], ['537441500', 'image.png']]"
       ]
      },
      {
       "output_type": "stream",
       "stream": "stdout",
       "text": [
        "\n",
        "[['604421168', 'summary.txt'], ['604421168', 'detail.txt'], ['604421168', 'image.png']]"
       ]
      },
      {
       "output_type": "stream",
       "stream": "stdout",
       "text": [
        "\n",
        "[['669185047', 'summary.txt'], ['669185047', 'detail.txt'], ['669185047', 'image.png']]"
       ]
      },
      {
       "output_type": "stream",
       "stream": "stdout",
       "text": [
        "\n",
        "[['387779217', 'summary.txt'], ['387779217', 'detail.txt'], ['387779217', 'image.png']]"
       ]
      },
      {
       "output_type": "stream",
       "stream": "stdout",
       "text": [
        "\n",
        "[['604876398', 'summary.txt'], ['604876398', 'detail.txt'], ['604876398', 'image.png']]"
       ]
      },
      {
       "output_type": "stream",
       "stream": "stdout",
       "text": [
        "\n",
        "[['387823261', 'summary.txt'], ['387823261', 'detail.txt'], ['387823261', 'image.png']]"
       ]
      },
      {
       "output_type": "stream",
       "stream": "stdout",
       "text": [
        "\n",
        "[['307126151', 'summary.txt'], ['307126151', 'detail.txt'], ['307126151', 'image.png']]"
       ]
      },
      {
       "output_type": "stream",
       "stream": "stdout",
       "text": [
        "\n",
        "[['337264537', 'summary.txt'], ['337264537', 'detail.txt'], ['337264537', 'image.png']]"
       ]
      },
      {
       "output_type": "stream",
       "stream": "stdout",
       "text": [
        "\n",
        "[['528816716', 'summary.txt'], ['528816716', 'detail.txt'], ['528816716', 'image.png']]"
       ]
      },
      {
       "output_type": "stream",
       "stream": "stdout",
       "text": [
        "\n",
        "[['21909536', 'summary.txt'], ['21909536', 'detail.txt'], ['21909536', 'image.png']]"
       ]
      },
      {
       "output_type": "stream",
       "stream": "stdout",
       "text": [
        "\n",
        "[['CP007598.1', 'summary.txt'], ['CP007598.1', 'detail.txt'], ['CP007598.1', 'image.png']]"
       ]
      },
      {
       "output_type": "stream",
       "stream": "stdout",
       "text": [
        "\n",
        "[['428778395', 'summary.txt'], ['428778395', 'detail.txt'], ['428778395', 'image.png']]"
       ]
      },
      {
       "output_type": "stream",
       "stream": "stdout",
       "text": [
        "\n",
        "[['171056692', 'summary.txt'], ['171056692', 'detail.txt'], ['171056692', 'image.png']]"
       ]
      },
      {
       "output_type": "stream",
       "stream": "stdout",
       "text": [
        "\n",
        "[['CP005995.1', 'summary.txt'], ['CP005995.1', 'detail.txt'], ['CP005995.1', 'image.png']]"
       ]
      },
      {
       "output_type": "stream",
       "stream": "stdout",
       "text": [
        "\n",
        "[['407930685', 'summary.txt'], ['407930685', 'detail.txt'], ['407930685', 'image.png']]"
       ]
      },
      {
       "output_type": "stream",
       "stream": "stdout",
       "text": [
        "\n",
        "[['CP007377.1', 'summary.txt'], ['CP007377.1', 'detail.txt'], ['CP007377.1', 'image.png']]"
       ]
      },
      {
       "output_type": "stream",
       "stream": "stdout",
       "text": [
        "\n",
        "[['HG428755.1', 'summary.txt'], ['HG428755.1', 'detail.txt'], ['HG428755.1', 'image.png']]"
       ]
      },
      {
       "output_type": "stream",
       "stream": "stdout",
       "text": [
        "\n",
        "[['CP008827.1', 'summary.txt'], ['CP008827.1', 'detail.txt'], ['CP008827.1', 'image.png']]"
       ]
      },
      {
       "output_type": "stream",
       "stream": "stdout",
       "text": [
        "\n",
        "[['FO681494.1', 'summary.txt'], ['FO681494.1', 'detail.txt'], ['FO681494.1', 'image.png']]"
       ]
      },
      {
       "output_type": "stream",
       "stream": "stdout",
       "text": [
        "\n",
        "[['387141638', 'summary.txt'], ['387141638', 'detail.txt'], ['387141638', 'image.png']]"
       ]
      },
      {
       "output_type": "stream",
       "stream": "stdout",
       "text": [
        "\n",
        "[['163854304', 'summary.txt'], ['163854304', 'detail.txt'], ['163854304', 'image.png']]"
       ]
      },
      {
       "output_type": "stream",
       "stream": "stdout",
       "text": [
        "\n",
        "[['644018811', 'summary.txt'], ['644018811', 'detail.txt'], ['644018811', 'image.png']]"
       ]
      },
      {
       "output_type": "stream",
       "stream": "stdout",
       "text": [
        "\n",
        "[['386612163', 'summary.txt'], ['386612163', 'detail.txt'], ['386612163', 'image.png']]"
       ]
      },
      {
       "output_type": "stream",
       "stream": "stdout",
       "text": [
        "\n",
        "[['340397867', 'summary.txt'], ['340397867', 'detail.txt'], ['340397867', 'image.png']]"
       ]
      },
      {
       "output_type": "stream",
       "stream": "stdout",
       "text": [
        "\n",
        "[['CP007404.1', 'summary.txt'], ['CP007404.1', 'detail.txt'], ['CP007404.1', 'image.png']]"
       ]
      },
      {
       "output_type": "stream",
       "stream": "stdout",
       "text": [
        "\n",
        "[['16445223', 'summary.txt'], ['16445223', 'detail.txt'], ['16445223', 'image.png']]"
       ]
      },
      {
       "output_type": "stream",
       "stream": "stdout",
       "text": [
        "\n",
        "[['392976867', 'summary.txt'], ['392976867', 'detail.txt'], ['392976867', 'image.png']]"
       ]
      },
      {
       "output_type": "stream",
       "stream": "stdout",
       "text": [
        "\n",
        "[['399533820', 'summary.txt'], ['399533820', 'detail.txt'], ['399533820', 'image.png']]"
       ]
      },
      {
       "output_type": "stream",
       "stream": "stdout",
       "text": [
        "\n",
        "[['471265562', 'summary.txt'], ['471265562', 'detail.txt'], ['471265562', 'image.png']]"
       ]
      },
      {
       "output_type": "stream",
       "stream": "stdout",
       "text": [
        "\n",
        "[['651859679', 'summary.txt'], ['651859679', 'detail.txt'], ['651859679', 'image.png']]"
       ]
      },
      {
       "output_type": "stream",
       "stream": "stdout",
       "text": [
        "\n",
        "[['71909814', 'summary.txt'], ['71909814', 'detail.txt'], ['71909814', 'image.png']]"
       ]
      },
      {
       "output_type": "stream",
       "stream": "stdout",
       "text": [
        "\n",
        "[['CP007397.1', 'summary.txt'], ['CP007397.1', 'detail.txt'], ['CP007397.1', 'image.png']]"
       ]
      },
      {
       "output_type": "stream",
       "stream": "stdout",
       "text": [
        "\n",
        "[['241661625', 'summary.txt'], ['241661625', 'detail.txt'], ['241661625', 'image.png']]"
       ]
      },
      {
       "output_type": "stream",
       "stream": "stdout",
       "text": [
        "\n",
        "[['88193823', 'summary.txt'], ['88193823', 'detail.txt'], ['88193823', 'image.png']]"
       ]
      },
      {
       "output_type": "stream",
       "stream": "stdout",
       "text": [
        "\n",
        "[['643987992', 'summary.txt'], ['643987992', 'detail.txt'], ['643987992', 'image.png']]"
       ]
      },
      {
       "output_type": "stream",
       "stream": "stdout",
       "text": [
        "\n",
        "[['260853213', 'summary.txt'], ['260853213', 'detail.txt'], ['260853213', 'image.png']]"
       ]
      },
      {
       "output_type": "stream",
       "stream": "stdout",
       "text": [
        "\n",
        "[['CP007400.1', 'summary.txt'], ['CP007400.1', 'detail.txt'], ['CP007400.1', 'image.png']]"
       ]
      },
      {
       "output_type": "stream",
       "stream": "stdout",
       "text": [
        "\n",
        "[['386343608', 'summary.txt'], ['386343608', 'detail.txt'], ['386343608', 'image.png']]"
       ]
      },
      {
       "output_type": "stream",
       "stream": "stdout",
       "text": [
        "\n",
        "[['169832377', 'summary.txt'], ['169832377', 'detail.txt'], ['169832377', 'image.png']]"
       ]
      },
      {
       "output_type": "stream",
       "stream": "stdout",
       "text": [
        "\n",
        "[['226942170', 'summary.txt'], ['226942170', 'detail.txt'], ['226942170', 'image.png']]"
       ]
      },
      {
       "output_type": "stream",
       "stream": "stdout",
       "text": [
        "\n",
        "[['386589256', 'summary.txt'], ['386589256', 'detail.txt'], ['386589256', 'image.png']]"
       ]
      },
      {
       "output_type": "stream",
       "stream": "stdout",
       "text": [
        "\n",
        "[['CP008957.1', 'summary.txt'], ['CP008957.1', 'detail.txt'], ['CP008957.1', 'image.png']]"
       ]
      },
      {
       "output_type": "stream",
       "stream": "stdout",
       "text": [
        "\n",
        "[['389875858', 'summary.txt'], ['389875858', 'detail.txt'], ['389875858', 'image.png']]"
       ]
      },
      {
       "output_type": "stream",
       "stream": "stdout",
       "text": [
        "\n",
        "[['387601291', 'summary.txt'], ['387601291', 'detail.txt'], ['387601291', 'image.png']]"
       ]
      },
      {
       "output_type": "stream",
       "stream": "stdout",
       "text": [
        "\n",
        "[['29140543', 'summary.txt'], ['29140543', 'detail.txt'], ['29140543', 'image.png']]"
       ]
      },
      {
       "output_type": "stream",
       "stream": "stdout",
       "text": [
        "\n",
        "[['CP007401.1', 'summary.txt'], ['CP007401.1', 'detail.txt'], ['CP007401.1', 'image.png']]"
       ]
      },
      {
       "output_type": "stream",
       "stream": "stdout",
       "text": [
        "\n",
        "[]"
       ]
      },
      {
       "output_type": "stream",
       "stream": "stdout",
       "text": [
        "\n",
        "[['161501984', 'summary.txt'], ['161501984', 'detail.txt'], ['161501984', 'image.png']]\n",
        "[['525945526', 'summary.txt'], ['525945526', 'detail.txt'], ['525945526', 'image.png']]"
       ]
      },
      {
       "output_type": "stream",
       "stream": "stdout",
       "text": [
        "\n",
        "[['55821993', 'summary.txt'], ['55821993', 'detail.txt'], ['55821993', 'image.png']]"
       ]
      },
      {
       "output_type": "stream",
       "stream": "stdout",
       "text": [
        "\n",
        "[['379704392', 'summary.txt'], ['379704392', 'detail.txt'], ['379704392', 'image.png']]"
       ]
      },
      {
       "output_type": "stream",
       "stream": "stdout",
       "text": [
        "\n",
        "[['374337044', 'summary.txt'], ['374337044', 'detail.txt'], ['374337044', 'image.png']]"
       ]
      },
      {
       "output_type": "stream",
       "stream": "stdout",
       "text": [
        "\n",
        "[['651868701', 'summary.txt'], ['651868701', 'detail.txt'], ['651868701', 'image.png']]"
       ]
      },
      {
       "output_type": "stream",
       "stream": "stdout",
       "text": [
        "\n",
        "[['CP007394.1', 'summary.txt'], ['CP007394.1', 'detail.txt'], ['CP007394.1', 'image.png']]"
       ]
      },
      {
       "output_type": "stream",
       "stream": "stdout",
       "text": [
        "\n",
        "[['LK931502.1', 'summary.txt'], ['LK931502.1', 'detail.txt'], ['LK931502.1', 'image.png']]"
       ]
      },
      {
       "output_type": "stream",
       "stream": "stdout",
       "text": [
        "\n",
        "[['319891290', 'summary.txt'], ['319891290', 'detail.txt'], ['319891290', 'image.png']]"
       ]
      },
      {
       "output_type": "stream",
       "stream": "stdout",
       "text": [
        "\n",
        "[['197283915', 'summary.txt'], ['197283915', 'detail.txt'], ['197283915', 'image.png']]"
       ]
      },
      {
       "output_type": "stream",
       "stream": "stdout",
       "text": [
        "\n",
        "[['21229478', 'summary.txt'], ['21229478', 'detail.txt'], ['21229478', 'image.png']]"
       ]
      },
      {
       "output_type": "stream",
       "stream": "stdout",
       "text": [
        "\n",
        "[['440285501', 'summary.txt'], ['440285501', 'detail.txt'], ['440285501', 'image.png']]"
       ]
      },
      {
       "output_type": "stream",
       "stream": "stdout",
       "text": [
        "\n",
        "[['414075311', 'summary.txt'], ['414075311', 'detail.txt'], ['414075311', 'image.png']]"
       ]
      },
      {
       "output_type": "stream",
       "stream": "stdout",
       "text": [
        "\n",
        "[['CP007297.1', 'summary.txt'], ['CP007297.1', 'detail.txt'], ['CP007297.1', 'image.png']]"
       ]
      },
      {
       "output_type": "stream",
       "stream": "stdout",
       "text": [
        "\n",
        "[['198241740', 'summary.txt'], ['198241740', 'detail.txt'], ['198241740', 'image.png']]"
       ]
      },
      {
       "output_type": "stream",
       "stream": "stdout",
       "text": [
        "\n",
        "[['CP007468.1', 'summary.txt'], ['CP007468.1', 'detail.txt'], ['CP007468.1', 'image.png']]"
       ]
      },
      {
       "output_type": "stream",
       "stream": "stdout",
       "text": [
        "\n",
        "[['NC_010943.1', 'summary.txt'], ['NC_010943.1', 'detail.txt'], ['NC_010943.1', 'image.png']]"
       ]
      },
      {
       "output_type": "stream",
       "stream": "stdout",
       "text": [
        "\n",
        "[['387880559', 'summary.txt'], ['387880559', 'detail.txt'], ['387880559', 'image.png']]"
       ]
      },
      {
       "output_type": "stream",
       "stream": "stdout",
       "text": [
        "\n",
        "[['CP007359.1', 'summary.txt'], ['CP007359.1', 'detail.txt'], ['CP007359.1', 'image.png']]"
       ]
      },
      {
       "output_type": "stream",
       "stream": "stdout",
       "text": [
        "\n",
        "[['664682453', 'summary.txt'], ['664682453', 'detail.txt'], ['664682453', 'image.png']]"
       ]
      },
      {
       "output_type": "stream",
       "stream": "stdout",
       "text": [
        "\n",
        "[['387787130', 'summary.txt'], ['387787130', 'detail.txt'], ['387787130', 'image.png']]"
       ]
      },
      {
       "output_type": "stream",
       "stream": "stdout",
       "text": [
        "\n",
        "[['657121522', 'summary.txt'], ['657121522', 'detail.txt'], ['657121522', 'image.png']]"
       ]
      },
      {
       "output_type": "stream",
       "stream": "stdout",
       "text": [
        "\n",
        "[['469816339', 'summary.txt'], ['469816339', 'detail.txt'], ['469816339', 'image.png']]"
       ]
      },
      {
       "output_type": "stream",
       "stream": "stdout",
       "text": [
        "\n",
        "[['384425691', 'summary.txt'], ['384425691', 'detail.txt'], ['384425691', 'image.png']]"
       ]
      },
      {
       "output_type": "stream",
       "stream": "stdout",
       "text": [
        "\n",
        "[['339492077', 'summary.txt'], ['339492077', 'detail.txt'], ['339492077', 'image.png']]"
       ]
      },
      {
       "output_type": "stream",
       "stream": "stdout",
       "text": [
        "\n",
        "[['153010078', 'summary.txt'], ['153010078', 'detail.txt'], ['153010078', 'image.png']]"
       ]
      },
      {
       "output_type": "stream",
       "stream": "stdout",
       "text": [
        "\n",
        "[['CP007799.1', 'summary.txt'], ['CP007799.1', 'detail.txt'], ['CP007799.1', 'image.png']]"
       ]
      },
      {
       "output_type": "stream",
       "stream": "stdout",
       "text": [
        "\n",
        "[['610395799', 'summary.txt'], ['610395799', 'detail.txt'], ['610395799', 'image.png']]"
       ]
      },
      {
       "output_type": "stream",
       "stream": "stdout",
       "text": [
        "\n",
        "[['444350194', 'summary.txt'], ['444350194', 'detail.txt'], ['444350194', 'image.png']]"
       ]
      },
      {
       "output_type": "stream",
       "stream": "stdout",
       "text": [
        "\n",
        "[['CP007390.1', 'summary.txt'], ['CP007390.1', 'detail.txt'], ['CP007390.1', 'image.png']]"
       ]
      },
      {
       "output_type": "stream",
       "stream": "stdout",
       "text": [
        "\n",
        "[['CP007631.1', 'summary.txt'], ['CP007631.1', 'detail.txt'], ['CP007631.1', 'image.png']]"
       ]
      },
      {
       "output_type": "stream",
       "stream": "stdout",
       "text": [
        "\n",
        "[['319779749', 'summary.txt'], ['319779749', 'detail.txt'], ['319779749', 'image.png']]"
       ]
      },
      {
       "output_type": "stream",
       "stream": "stdout",
       "text": [
        "\n",
        "[['60679597', 'summary.txt'], ['60679597', 'detail.txt'], ['60679597', 'image.png']]"
       ]
      },
      {
       "output_type": "stream",
       "stream": "stdout",
       "text": [
        "\n",
        "[['387605479', 'summary.txt'], ['387605479', 'detail.txt'], ['387605479', 'image.png']]"
       ]
      },
      {
       "output_type": "stream",
       "stream": "stdout",
       "text": [
        "\n",
        "[['384546269', 'summary.txt'], ['384546269', 'detail.txt'], ['384546269', 'image.png']]"
       ]
      },
      {
       "output_type": "stream",
       "stream": "stdout",
       "text": [
        "\n",
        "[['CP007380.1', 'summary.txt'], ['CP007380.1', 'detail.txt'], ['CP007380.1', 'image.png']]"
       ]
      },
      {
       "output_type": "stream",
       "stream": "stdout",
       "text": [
        "\n",
        "[['CP007727.1', 'summary.txt'], ['CP007727.1', 'detail.txt'], ['CP007727.1', 'image.png']]"
       ]
      },
      {
       "output_type": "stream",
       "stream": "stdout",
       "text": [
        "\n",
        "[['538349851', 'summary.txt'], ['538349851', 'detail.txt'], ['538349851', 'image.png']]"
       ]
      },
      {
       "output_type": "stream",
       "stream": "stdout",
       "text": [
        "\n",
        "[['378987404', 'summary.txt'], ['378987404', 'detail.txt'], ['378987404', 'image.png']]"
       ]
      },
      {
       "output_type": "stream",
       "stream": "stdout",
       "text": [
        "\n",
        "[['482892482', 'summary.txt'], ['482892482', 'detail.txt'], ['482892482', 'image.png']]"
       ]
      },
      {
       "output_type": "stream",
       "stream": "stdout",
       "text": [
        "\n",
        "[['26245917', 'summary.txt'], ['26245917', 'detail.txt'], ['26245917', 'image.png']]"
       ]
      },
      {
       "output_type": "stream",
       "stream": "stdout",
       "text": [
        "\n",
        "[['554642795', 'summary.txt'], ['554642795', 'detail.txt'], ['554642795', 'image.png']]"
       ]
      },
      {
       "output_type": "stream",
       "stream": "stdout",
       "text": [
        "\n",
        "[['225860012', 'summary.txt'], ['225860012', 'detail.txt'], ['225860012', 'image.png']]"
       ]
      },
      {
       "output_type": "stream",
       "stream": "stdout",
       "text": [
        "\n",
        "[['NC_013974.1', 'summary.txt'], ['NC_013974.1', 'detail.txt'], ['NC_013974.1', 'image.png']]"
       ]
      },
      {
       "output_type": "stream",
       "stream": "stdout",
       "text": [
        "\n",
        "[['253771435', 'summary.txt'], ['253771435', 'detail.txt'], ['253771435', 'image.png']]"
       ]
      },
      {
       "output_type": "stream",
       "stream": "stdout",
       "text": [
        "\n",
        "[['CP004081.1', 'summary.txt'], ['CP004081.1', 'detail.txt'], ['CP004081.1', 'image.png']]"
       ]
      },
      {
       "output_type": "stream",
       "stream": "stdout",
       "text": [
        "\n",
        "[['187927112', 'summary.txt'], ['187927112', 'detail.txt'], ['187927112', 'image.png']]"
       ]
      },
      {
       "output_type": "stream",
       "stream": "stdout",
       "text": [
        "\n",
        "[['384868588', 'summary.txt'], ['384868588', 'detail.txt'], ['384868588', 'image.png']]"
       ]
      },
      {
       "output_type": "stream",
       "stream": "stdout",
       "text": [
        "\n",
        "[['CP007804.2', 'summary.txt'], ['CP007804.2', 'detail.txt'], ['CP007804.2', 'image.png']]"
       ]
      },
      {
       "output_type": "stream",
       "stream": "stdout",
       "text": [
        "\n",
        "[['94308945', 'summary.txt'], ['94308945', 'detail.txt'], ['94308945', 'image.png']]"
       ]
      },
      {
       "output_type": "stream",
       "stream": "stdout",
       "text": [
        "\n",
        "[['217976200', 'summary.txt'], ['217976200', 'detail.txt'], ['217976200', 'image.png']]"
       ]
      },
      {
       "output_type": "stream",
       "stream": "stdout",
       "text": [
        "\n",
        "[['428765681', 'summary.txt'], ['428765681', 'detail.txt'], ['428765681', 'image.png']]"
       ]
      },
      {
       "output_type": "stream",
       "stream": "stdout",
       "text": [
        "\n",
        "[['397655102', 'summary.txt'], ['397655102', 'detail.txt'], ['397655102', 'image.png']]"
       ]
      },
      {
       "output_type": "stream",
       "stream": "stdout",
       "text": [
        "\n",
        "[['187730020', 'summary.txt'], ['187730020', 'detail.txt'], ['187730020', 'image.png']]"
       ]
      },
      {
       "output_type": "stream",
       "stream": "stdout",
       "text": [
        "\n",
        "[['CP007385.1', 'summary.txt'], ['CP007385.1', 'detail.txt'], ['CP007385.1', 'image.png']]"
       ]
      },
      {
       "output_type": "stream",
       "stream": "stdout",
       "text": [
        "\n",
        "[['19745201', 'summary.txt'], ['19745201', 'detail.txt'], ['19745201', 'image.png']]"
       ]
      },
      {
       "output_type": "stream",
       "stream": "stdout",
       "text": [
        "\n",
        "[['LK931482.1', 'summary.txt'], ['LK931482.1', 'detail.txt'], ['LK931482.1', 'image.png']]"
       ]
      },
      {
       "output_type": "stream",
       "stream": "stdout",
       "text": [
        "\n",
        "[['CP007374.1', 'summary.txt'], ['CP007374.1', 'detail.txt'], ['CP007374.1', 'image.png']]"
       ]
      },
      {
       "output_type": "stream",
       "stream": "stdout",
       "text": [
        "\n",
        "[['CP007392.1', 'summary.txt'], ['CP007392.1', 'detail.txt'], ['CP007392.1', 'image.png']]"
       ]
      },
      {
       "output_type": "stream",
       "stream": "stdout",
       "text": [
        "\n",
        "[['431929462', 'summary.txt'], ['431929462', 'detail.txt'], ['431929462', 'image.png']]"
       ]
      },
      {
       "output_type": "stream",
       "stream": "stdout",
       "text": [
        "\n",
        "[['NC_012967.1', 'summary.txt'], ['NC_012967.1', 'detail.txt'], ['NC_012967.1', 'image.png']]"
       ]
      },
      {
       "output_type": "stream",
       "stream": "stdout",
       "text": [
        "\n",
        "[['330814956', 'summary.txt'], ['330814956', 'detail.txt'], ['330814956', 'image.png']]"
       ]
      },
      {
       "output_type": "stream",
       "stream": "stdout",
       "text": [
        "\n",
        "[['317050199', 'summary.txt'], ['317050199', 'detail.txt'], ['317050199', 'image.png']]"
       ]
      },
      {
       "output_type": "stream",
       "stream": "stdout",
       "text": [
        "\n",
        "[['386716467', 'summary.txt'], ['386716467', 'detail.txt'], ['386716467', 'image.png']]"
       ]
      },
      {
       "output_type": "stream",
       "stream": "stdout",
       "text": [
        "\n",
        "[['512697424', 'summary.txt'], ['512697424', 'detail.txt'], ['512697424', 'image.png']]"
       ]
      },
      {
       "output_type": "stream",
       "stream": "stdout",
       "text": [
        "\n",
        "[['CP007023.1', 'summary.txt'], ['CP007023.1', 'detail.txt'], ['CP007023.1', 'image.png']]"
       ]
      },
      {
       "output_type": "stream",
       "stream": "stdout",
       "text": [
        "\n",
        "[['644285749', 'summary.txt'], ['644285749', 'detail.txt'], ['644285749', 'image.png']]"
       ]
      },
      {
       "output_type": "stream",
       "stream": "stdout",
       "text": [
        "\n",
        "[['220933193', 'summary.txt'], ['220933193', 'detail.txt'], ['220933193', 'image.png']]"
       ]
      },
      {
       "output_type": "stream",
       "stream": "stdout",
       "text": [
        "\n",
        "[['182682970', 'summary.txt'], ['182682970', 'detail.txt'], ['182682970', 'image.png']]"
       ]
      },
      {
       "output_type": "stream",
       "stream": "stdout",
       "text": [
        "\n",
        "[['AP014565.1', 'summary.txt'], ['AP014565.1', 'detail.txt'], ['AP014565.1', 'image.png']]"
       ]
      },
      {
       "output_type": "stream",
       "stream": "stdout",
       "text": [
        "\n",
        "[['552628837', 'summary.txt'], ['552628837', 'detail.txt'], ['552628837', 'image.png']]"
       ]
      },
      {
       "output_type": "stream",
       "stream": "stdout",
       "text": [
        "\n",
        "[['635291785', 'summary.txt'], ['635291785', 'detail.txt'], ['635291785', 'image.png']]"
       ]
      },
      {
       "output_type": "stream",
       "stream": "stdout",
       "text": [
        "\n",
        "[['525814190', 'summary.txt'], ['525814190', 'detail.txt'], ['525814190', 'image.png']]"
       ]
      },
      {
       "output_type": "stream",
       "stream": "stdout",
       "text": [
        "\n",
        "[['522612259', 'summary.txt'], ['522612259', 'detail.txt'], ['522612259', 'image.png']]"
       ]
      },
      {
       "output_type": "stream",
       "stream": "stdout",
       "text": [
        "\n",
        "[['387828053', 'summary.txt'], ['387828053', 'detail.txt'], ['387828053', 'image.png']]"
       ]
      },
      {
       "output_type": "stream",
       "stream": "stdout",
       "text": [
        "\n",
        "[['552737301', 'summary.txt'], ['552737301', 'detail.txt'], ['552737301', 'image.png']]"
       ]
      },
      {
       "output_type": "stream",
       "stream": "stdout",
       "text": [
        "\n",
        "[['296100371', 'summary.txt'], ['296100371', 'detail.txt'], ['296100371', 'image.png']]"
       ]
      },
      {
       "output_type": "stream",
       "stream": "stdout",
       "text": [
        "\n",
        "[['407685798', 'summary.txt'], ['407685798', 'detail.txt'], ['407685798', 'image.png']]"
       ]
      },
      {
       "output_type": "stream",
       "stream": "stdout",
       "text": [
        "\n",
        "[['CP006569.1', 'summary.txt'], ['CP006569.1', 'detail.txt'], ['CP006569.1', 'image.png']]"
       ]
      },
      {
       "output_type": "stream",
       "stream": "stdout",
       "text": [
        "\n",
        "[['387878539', 'summary.txt'], ['387878539', 'detail.txt'], ['387878539', 'image.png']]"
       ]
      },
      {
       "output_type": "stream",
       "stream": "stdout",
       "text": [
        "\n",
        "[['525808973', 'summary.txt'], ['525808973', 'detail.txt'], ['525808973', 'image.png']]"
       ]
      },
      {
       "output_type": "stream",
       "stream": "stdout",
       "text": [
        "\n",
        "[['326402148', 'summary.txt'], ['326402148', 'detail.txt'], ['326402148', 'image.png']]"
       ]
      },
      {
       "output_type": "stream",
       "stream": "stdout",
       "text": [
        "\n",
        "[['376286528', 'summary.txt'], ['376286528', 'detail.txt'], ['376286528', 'image.png']]"
       ]
      },
      {
       "output_type": "stream",
       "stream": "stdout",
       "text": [
        "\n",
        "[['146337175', 'summary.txt'], ['146337175', 'detail.txt'], ['146337175', 'image.png']]"
       ]
      },
      {
       "output_type": "stream",
       "stream": "stdout",
       "text": [
        "\n",
        "[['110804074', 'summary.txt'], ['110804074', 'detail.txt'], ['110804074', 'image.png']]"
       ]
      },
      {
       "output_type": "stream",
       "stream": "stdout",
       "text": [
        "\n",
        "[['521210823', 'summary.txt'], ['521210823', 'detail.txt'], ['521210823', 'image.png']]"
       ]
      },
      {
       "output_type": "stream",
       "stream": "stdout",
       "text": [
        "\n",
        "[['260842239', 'summary.txt'], ['260842239', 'detail.txt'], ['260842239', 'image.png']]"
       ]
      },
      {
       "output_type": "stream",
       "stream": "stdout",
       "text": [
        "\n",
        "[['385829589', 'summary.txt'], ['385829589', 'detail.txt'], ['385829589', 'image.png']]"
       ]
      },
      {
       "output_type": "stream",
       "stream": "stdout",
       "text": [
        "\n",
        "[['HF571988.1', 'summary.txt'], ['HF571988.1', 'detail.txt'], ['HF571988.1', 'image.png']]"
       ]
      },
      {
       "output_type": "stream",
       "stream": "stdout",
       "text": [
        "\n",
        "[['FO203501.1', 'summary.txt'], ['FO203501.1', 'detail.txt'], ['FO203501.1', 'image.png']]"
       ]
      },
      {
       "output_type": "stream",
       "stream": "stdout",
       "text": [
        "\n",
        "[['407936729', 'summary.txt'], ['407936729', 'detail.txt'], ['407936729', 'image.png']]"
       ]
      },
      {
       "output_type": "stream",
       "stream": "stdout",
       "text": [
        "\n",
        "[['NC_017175.1', 'summary.txt'], ['NC_017175.1', 'detail.txt'], ['NC_017175.1', 'image.png']]"
       ]
      },
      {
       "output_type": "stream",
       "stream": "stdout",
       "text": [
        "\n",
        "[['CP007361.1', 'summary.txt'], ['CP007361.1', 'detail.txt'], ['CP007361.1', 'image.png']]"
       ]
      },
      {
       "output_type": "stream",
       "stream": "stdout",
       "text": [
        "\n",
        "[['568306739', 'summary.txt'], ['568306739', 'detail.txt'], ['568306739', 'image.png']]"
       ]
      },
      {
       "output_type": "stream",
       "stream": "stdout",
       "text": [
        "\n",
        "[['148259021', 'summary.txt'], ['148259021', 'detail.txt'], ['148259021', 'image.png']]"
       ]
      },
      {
       "output_type": "stream",
       "stream": "stdout",
       "text": [
        "\n",
        "[['229606122', 'summary.txt'], ['229606122', 'detail.txt'], ['229606122', 'image.png']]"
       ]
      },
      {
       "output_type": "stream",
       "stream": "stdout",
       "text": [
        "\n",
        "[['507098404', 'summary.txt'], ['507098404', 'detail.txt'], ['507098404', 'image.png']]"
       ]
      },
      {
       "output_type": "stream",
       "stream": "stdout",
       "text": [
        "\n",
        "[['56475432', 'summary.txt'], ['56475432', 'detail.txt'], ['56475432', 'image.png']]"
       ]
      },
      {
       "output_type": "stream",
       "stream": "stdout",
       "text": [
        "\n",
        "[['344205421', 'summary.txt'], ['344205421', 'detail.txt'], ['344205421', 'image.png']]"
       ]
      },
      {
       "output_type": "stream",
       "stream": "stdout",
       "text": [
        "\n",
        "[['385780298', 'summary.txt'], ['385780298', 'detail.txt'], ['385780298', 'image.png']]"
       ]
      },
      {
       "output_type": "stream",
       "stream": "stdout",
       "text": [
        "\n",
        "[['CP007224.1', 'summary.txt'], ['CP007224.1', 'detail.txt'], ['CP007224.1', 'image.png']]"
       ]
      },
      {
       "output_type": "stream",
       "stream": "stdout",
       "text": [
        "\n",
        "[['566716565', 'summary.txt'], ['566716565', 'detail.txt'], ['566716565', 'image.png']]"
       ]
      },
      {
       "output_type": "stream",
       "stream": "stdout",
       "text": [
        "\n",
        "[['HF969015.2', 'summary.txt'], ['HF969015.2', 'detail.txt'], ['HF969015.2', 'image.png']]"
       ]
      },
      {
       "output_type": "stream",
       "stream": "stdout",
       "text": [
        "\n",
        "[['CP007382.1', 'summary.txt'], ['CP007382.1', 'detail.txt'], ['CP007382.1', 'image.png']]"
       ]
      },
      {
       "output_type": "stream",
       "stream": "stdout",
       "text": [
        "\n",
        "[['311103224', 'summary.txt'], ['311103224', 'detail.txt'], ['311103224', 'image.png']]"
       ]
      },
      {
       "output_type": "stream",
       "stream": "stdout",
       "text": [
        "\n",
        "[['664782987', 'summary.txt'], ['664782987', 'detail.txt'], ['664782987', 'image.png']]"
       ]
      },
      {
       "output_type": "stream",
       "stream": "stdout",
       "text": [
        "\n",
        "[['CP007254.1', 'summary.txt'], ['CP007254.1', 'detail.txt'], ['CP007254.1', 'image.png']]"
       ]
      },
      {
       "output_type": "stream",
       "stream": "stdout",
       "text": [
        "\n",
        "[['378448274', 'summary.txt'], ['378448274', 'detail.txt'], ['378448274', 'image.png']]"
       ]
      },
      {
       "output_type": "stream",
       "stream": "stdout",
       "text": [
        "\n",
        "[['162960844', 'summary.txt'], ['162960844', 'detail.txt'], ['162960844', 'image.png']]"
       ]
      },
      {
       "output_type": "stream",
       "stream": "stdout",
       "text": [
        "\n",
        "[['522648624', 'summary.txt'], ['522648624', 'detail.txt'], ['522648624', 'image.png']]"
       ]
      },
      {
       "output_type": "stream",
       "stream": "stdout",
       "text": [
        "\n",
        "[['117918459', 'summary.txt'], ['117918459', 'detail.txt'], ['117918459', 'image.png']]"
       ]
      },
      {
       "output_type": "stream",
       "stream": "stdout",
       "text": [
        "\n",
        "[['CP007333.1', 'summary.txt'], ['CP007333.1', 'detail.txt'], ['CP007333.1', 'image.png']]"
       ]
      },
      {
       "output_type": "stream",
       "stream": "stdout",
       "text": [
        "\n",
        "[['NC_016822', 'summary.txt'], ['NC_016822', 'detail.txt'], ['NC_016822', 'image.png']]"
       ]
      },
      {
       "output_type": "stream",
       "stream": "stdout",
       "text": [
        "\n",
        "[['387615344', 'summary.txt'], ['387615344', 'detail.txt'], ['387615344', 'image.png']]"
       ]
      },
      {
       "output_type": "stream",
       "stream": "stdout",
       "text": [
        "\n",
        "[['21281729', 'summary.txt'], ['21281729', 'detail.txt'], ['21281729', 'image.png']]"
       ]
      },
      {
       "output_type": "stream",
       "stream": "stdout",
       "text": [
        "\n",
        "[['110640213', 'summary.txt'], ['110640213', 'detail.txt'], ['110640213', 'image.png']]"
       ]
      },
      {
       "output_type": "stream",
       "stream": "stdout",
       "text": [
        "\n",
        "[['387610477', 'summary.txt'], ['387610477', 'detail.txt'], ['387610477', 'image.png']]"
       ]
      },
      {
       "output_type": "stream",
       "stream": "stdout",
       "text": [
        "\n",
        "[['514064966', 'summary.txt'], ['514064966', 'detail.txt'], ['514064966', 'image.png']]"
       ]
      },
      {
       "output_type": "stream",
       "stream": "stdout",
       "text": [
        "\n",
        "[['134096620', 'summary.txt'], ['134096620', 'detail.txt'], ['134096620', 'image.png']]"
       ]
      },
      {
       "output_type": "stream",
       "stream": "stdout",
       "text": [
        "\n",
        "[['563651606', 'summary.txt'], ['563651606', 'detail.txt'], ['563651606', 'image.png']]"
       ]
      },
      {
       "output_type": "stream",
       "stream": "stdout",
       "text": [
        "\n",
        "[['170738367', 'summary.txt'], ['170738367', 'detail.txt'], ['170738367', 'image.png']]"
       ]
      },
      {
       "output_type": "stream",
       "stream": "stdout",
       "text": [
        "\n",
        "[['CP007405.1', 'summary.txt'], ['CP007405.1', 'detail.txt'], ['CP007405.1', 'image.png']]"
       ]
      },
      {
       "output_type": "stream",
       "stream": "stdout",
       "text": [
        "\n",
        "[['386607309', 'summary.txt'], ['386607309', 'detail.txt'], ['386607309', 'image.png']]"
       ]
      },
      {
       "output_type": "stream",
       "stream": "stdout",
       "text": [
        "\n",
        "[['87159884', 'summary.txt'], ['87159884', 'detail.txt'], ['87159884', 'image.png']]"
       ]
      },
      {
       "output_type": "stream",
       "stream": "stdout",
       "text": [
        "\n",
        "[['386361880', 'summary.txt'], ['386361880', 'detail.txt'], ['386361880', 'image.png']]"
       ]
      },
      {
       "output_type": "stream",
       "stream": "stdout",
       "text": [
        "\n",
        "[['374307319', 'summary.txt'], ['374307319', 'detail.txt'], ['374307319', 'image.png']]"
       ]
      },
      {
       "output_type": "stream",
       "stream": "stdout",
       "text": [
        "\n",
        "[['269201690', 'summary.txt'], ['269201690', 'detail.txt'], ['269201690', 'image.png']]"
       ]
      },
      {
       "output_type": "stream",
       "stream": "stdout",
       "text": [
        "\n",
        "[['186893344', 'summary.txt'], ['186893344', 'detail.txt'], ['186893344', 'image.png']]"
       ]
      },
      {
       "output_type": "stream",
       "stream": "stdout",
       "text": [
        "\n",
        "[['384417079', 'summary.txt'], ['384417079', 'detail.txt'], ['384417079', 'image.png']]"
       ]
      },
      {
       "output_type": "stream",
       "stream": "stdout",
       "text": [
        "\n",
        "[['CP007356.1', 'summary.txt'], ['CP007356.1', 'detail.txt'], ['CP007356.1', 'image.png']]"
       ]
      },
      {
       "output_type": "stream",
       "stream": "stdout",
       "text": [
        "\n",
        "[['CP007176.1', 'summary.txt'], ['CP007176.1', 'detail.txt'], ['CP007176.1', 'image.png']]"
       ]
      },
      {
       "output_type": "stream",
       "stream": "stdout",
       "text": [
        "\n",
        "[['568151185', 'summary.txt'], ['568151185', 'detail.txt'], ['568151185', 'image.png']]"
       ]
      },
      {
       "output_type": "stream",
       "stream": "stdout",
       "text": [
        "\n",
        "[['378710836', 'summary.txt'], ['378710836', 'detail.txt'], ['378710836', 'image.png']]"
       ]
      },
      {
       "output_type": "stream",
       "stream": "stdout",
       "text": [
        "\n",
        "[['378982542', 'summary.txt'], ['378982542', 'detail.txt'], ['378982542', 'image.png']]"
       ]
      },
      {
       "output_type": "stream",
       "stream": "stdout",
       "text": [
        "\n",
        "[['512538239', 'summary.txt'], ['512538239', 'detail.txt'], ['512538239', 'image.png']]"
       ]
      },
      {
       "output_type": "stream",
       "stream": "stdout",
       "text": [
        "\n",
        "[['378697983', 'summary.txt'], ['378697983', 'detail.txt'], ['378697983', 'image.png']]"
       ]
      },
      {
       "output_type": "stream",
       "stream": "stdout",
       "text": [
        "\n",
        "[['197247352', 'summary.txt'], ['197247352', 'detail.txt'], ['197247352', 'image.png']]"
       ]
      },
      {
       "output_type": "stream",
       "stream": "stdout",
       "text": [
        "\n",
        "[['197361212', 'summary.txt'], ['197361212', 'detail.txt'], ['197361212', 'image.png']]"
       ]
      },
      {
       "output_type": "stream",
       "stream": "stdout",
       "text": [
        "\n",
        "[['CP007247.1', 'summary.txt'], ['CP007247.1', 'detail.txt'], ['CP007247.1', 'image.png']]"
       ]
      },
      {
       "output_type": "stream",
       "stream": "stdout",
       "text": [
        "\n",
        "[['238899406', 'summary.txt'], ['238899406', 'detail.txt'], ['238899406', 'image.png']]"
       ]
      },
      {
       "output_type": "stream",
       "stream": "stdout",
       "text": [
        "\n",
        "[['170018061', 'summary.txt'], ['170018061', 'detail.txt'], ['170018061', 'image.png']]"
       ]
      },
      {
       "output_type": "stream",
       "stream": "stdout",
       "text": [
        "\n",
        "[['CP007396.1', 'summary.txt'], ['CP007396.1', 'detail.txt'], ['CP007396.1', 'image.png']]"
       ]
      },
      {
       "output_type": "stream",
       "stream": "stdout",
       "text": [
        "\n",
        "[['528981796', 'summary.txt'], ['528981796', 'detail.txt'], ['528981796', 'image.png']]"
       ]
      },
      {
       "output_type": "stream",
       "stream": "stdout",
       "text": [
        "\n",
        "[['224475494', 'summary.txt'], ['224475494', 'detail.txt'], ['224475494', 'image.png']]"
       ]
      },
      {
       "output_type": "stream",
       "stream": "stdout",
       "text": [
        "\n",
        "[['CP007438.1', 'summary.txt'], ['CP007438.1', 'detail.txt'], ['CP007438.1', 'image.png']]"
       ]
      },
      {
       "output_type": "stream",
       "stream": "stdout",
       "text": [
        "\n",
        "[['126697566', 'summary.txt'], ['126697566', 'detail.txt'], ['126697566', 'image.png']]"
       ]
      },
      {
       "output_type": "stream",
       "stream": "stdout",
       "text": [
        "\n",
        "[['151220212', 'summary.txt'], ['151220212', 'detail.txt'], ['151220212', 'image.png']]"
       ]
      },
      {
       "output_type": "stream",
       "stream": "stdout",
       "text": [
        "\n",
        "[['170679574', 'summary.txt'], ['170679574', 'detail.txt'], ['170679574', 'image.png']]"
       ]
      },
      {
       "output_type": "stream",
       "stream": "stdout",
       "text": [
        "\n",
        "[['387760314', 'summary.txt'], ['387760314', 'detail.txt'], ['387760314', 'image.png']]"
       ]
      },
      {
       "output_type": "stream",
       "stream": "stdout",
       "text": [
        "\n",
        "[['549728080', 'summary.txt'], ['549728080', 'detail.txt'], ['549728080', 'image.png']]"
       ]
      },
      {
       "output_type": "stream",
       "stream": "stdout",
       "text": [
        "\n",
        "[['57165207', 'summary.txt'], ['57165207', 'detail.txt'], ['57165207', 'image.png']]"
       ]
      },
      {
       "output_type": "stream",
       "stream": "stdout",
       "text": [
        "\n",
        "[['568125122', 'summary.txt'], ['568125122', 'detail.txt'], ['568125122', 'image.png']]"
       ]
      },
      {
       "output_type": "stream",
       "stream": "stdout",
       "text": [
        "\n",
        "[['291280824', 'summary.txt'], ['291280824', 'detail.txt'], ['291280824', 'image.png']]"
       ]
      },
      {
       "output_type": "stream",
       "stream": "stdout",
       "text": [
        "\n",
        "[['CP005998.1', 'summary.txt'], ['CP005998.1', 'detail.txt'], ['CP005998.1', 'image.png']]"
       ]
      },
      {
       "output_type": "stream",
       "stream": "stdout",
       "text": [
        "\n",
        "[['146309667', 'summary.txt'], ['146309667', 'detail.txt'], ['146309667', 'image.png']]"
       ]
      },
      {
       "output_type": "stream",
       "stream": "stdout",
       "text": [
        "\n",
        "[['HG916765.1', 'summary.txt'], ['HG916765.1', 'detail.txt'], ['HG916765.1', 'image.png']]"
       ]
      },
      {
       "output_type": "stream",
       "stream": "stdout",
       "text": [
        "\n",
        "[['CP007133.1', 'summary.txt'], ['CP007133.1', 'detail.txt'], ['CP007133.1', 'image.png']]"
       ]
      },
      {
       "output_type": "stream",
       "stream": "stdout",
       "text": [
        "\n",
        "[['529232713', 'summary.txt'], ['529232713', 'detail.txt'], ['529232713', 'image.png']]"
       ]
      },
      {
       "output_type": "stream",
       "stream": "stdout",
       "text": [
        "\n",
        "[['440228796', 'summary.txt'], ['440228796', 'detail.txt'], ['440228796', 'image.png']]"
       ]
      },
      {
       "output_type": "stream",
       "stream": "stdout",
       "text": [
        "\n",
        "[['CP007408.1', 'summary.txt'], ['CP007408.1', 'detail.txt'], ['CP007408.1', 'image.png']]"
       ]
      },
      {
       "output_type": "stream",
       "stream": "stdout",
       "text": [
        "\n",
        "[['283856168', 'summary.txt'], ['283856168', 'detail.txt'], ['283856168', 'image.png']]"
       ]
      },
      {
       "output_type": "stream",
       "stream": "stdout",
       "text": [
        "\n",
        "[['218698419', 'summary.txt'], ['218698419', 'detail.txt'], ['218698419', 'image.png']]"
       ]
      },
      {
       "output_type": "stream",
       "stream": "stdout",
       "text": [
        "\n",
        "[['538357775', 'summary.txt'], ['538357775', 'detail.txt'], ['538357775', 'image.png']]"
       ]
      },
      {
       "output_type": "stream",
       "stream": "stdout",
       "text": [
        "\n",
        "[['55820103', 'summary.txt'], ['55820103', 'detail.txt'], ['55820103', 'image.png']]"
       ]
      },
      {
       "output_type": "stream",
       "stream": "stdout",
       "text": [
        "\n",
        "[['337277607', 'summary.txt'], ['337277607', 'detail.txt'], ['337277607', 'image.png']]"
       ]
      },
      {
       "output_type": "stream",
       "stream": "stdout",
       "text": [
        "\n",
        "[['U14003.1', 'summary.txt'], ['U14003.1', 'detail.txt'], ['U14003.1', 'image.png']]"
       ]
      },
      {
       "output_type": "stream",
       "stream": "stdout",
       "text": [
        "\n",
        "[['298501502', 'summary.txt'], ['298501502', 'detail.txt'], ['298501502', 'image.png']]"
       ]
      },
      {
       "output_type": "stream",
       "stream": "stdout",
       "text": [
        "\n",
        "[['387149188', 'summary.txt'], ['387149188', 'detail.txt'], ['387149188', 'image.png']]"
       ]
      },
      {
       "output_type": "stream",
       "stream": "stdout",
       "text": [
        "\n",
        "[['CP006819.1', 'summary.txt'], ['CP006819.1', 'detail.txt'], ['CP006819.1', 'image.png']]"
       ]
      },
      {
       "output_type": "stream",
       "stream": "stdout",
       "text": [
        "\n",
        "[['209395693', 'summary.txt'], ['209395693', 'detail.txt'], ['209395693', 'image.png']]"
       ]
      },
      {
       "output_type": "stream",
       "stream": "stdout",
       "text": [
        "\n",
        "[['387908808', 'summary.txt'], ['387908808', 'detail.txt'], ['387908808', 'image.png']]"
       ]
      },
      {
       "output_type": "stream",
       "stream": "stdout",
       "text": [
        "\n",
        "[['CP007024.1', 'summary.txt'], ['CP007024.1', 'detail.txt'], ['CP007024.1', 'image.png']]"
       ]
      },
      {
       "output_type": "stream",
       "stream": "stdout",
       "text": [
        "\n",
        "[['514407635', 'summary.txt'], ['514407635', 'detail.txt'], ['514407635', 'image.png']]"
       ]
      },
      {
       "output_type": "stream",
       "stream": "stdout",
       "text": [
        "\n",
        "[['385839818', 'summary.txt'], ['385839818', 'detail.txt'], ['385839818', 'image.png']]"
       ]
      },
      {
       "output_type": "stream",
       "stream": "stdout",
       "text": [
        "\n",
        "[['CP007252.1', 'summary.txt'], ['CP007252.1', 'detail.txt'], ['CP007252.1', 'image.png']]"
       ]
      },
      {
       "output_type": "stream",
       "stream": "stdout",
       "text": [
        "\n",
        "[['HG941718.1', 'summary.txt'], ['HG941718.1', 'detail.txt'], ['HG941718.1', 'image.png']]"
       ]
      },
      {
       "output_type": "stream",
       "stream": "stdout",
       "text": [
        "\n",
        "[['471332236', 'summary.txt'], ['471332236', 'detail.txt'], ['471332236', 'image.png']]"
       ]
      },
      {
       "output_type": "stream",
       "stream": "stdout",
       "text": [
        "\n",
        "[['CP007447.1', 'summary.txt'], ['CP007447.1', 'detail.txt'], ['CP007447.1', 'image.png']]"
       ]
      },
      {
       "output_type": "stream",
       "stream": "stdout",
       "text": [
        "\n",
        "[['307128764', 'summary.txt'], ['307128764', 'detail.txt'], ['307128764', 'image.png']]"
       ]
      },
      {
       "output_type": "stream",
       "stream": "stdout",
       "text": [
        "\n",
        "[['124265193', 'summary.txt'], ['124265193', 'detail.txt'], ['124265193', 'image.png']]"
       ]
      },
      {
       "output_type": "stream",
       "stream": "stdout",
       "text": [
        "\n",
        "[['410480139', 'summary.txt'], ['410480139', 'detail.txt'], ['410480139', 'image.png']]"
       ]
      },
      {
       "output_type": "stream",
       "stream": "stdout",
       "text": [
        "\n",
        "[['330822653', 'summary.txt'], ['330822653', 'detail.txt'], ['330822653', 'image.png']]"
       ]
      },
      {
       "output_type": "stream",
       "stream": "stdout",
       "text": [
        "\n",
        "[['559996969', 'summary.txt'], ['559996969', 'detail.txt'], ['559996969', 'image.png']]"
       ]
      },
      {
       "output_type": "stream",
       "stream": "stdout",
       "text": [
        "\n",
        "[['AP014622.1', 'summary.txt'], ['AP014622.1', 'detail.txt'], ['AP014622.1', 'image.png']]"
       ]
      },
      {
       "output_type": "stream",
       "stream": "stdout",
       "text": [
        "\n",
        "[['449306535', 'summary.txt'], ['449306535', 'detail.txt'], ['449306535', 'image.png']]"
       ]
      },
      {
       "output_type": "stream",
       "stream": "stdout",
       "text": [
        "\n",
        "[['116048575', 'summary.txt'], ['116048575', 'detail.txt'], ['116048575', 'image.png']]"
       ]
      },
      {
       "output_type": "stream",
       "stream": "stdout",
       "text": [
        "\n",
        "[['281490498', 'summary.txt'], ['281490498', 'detail.txt'], ['281490498', 'image.png']]"
       ]
      },
      {
       "output_type": "stream",
       "stream": "stdout",
       "text": [
        "\n",
        "[['525855729', 'summary.txt'], ['525855729', 'detail.txt'], ['525855729', 'image.png']]"
       ]
      },
      {
       "output_type": "stream",
       "stream": "stdout",
       "text": [
        "\n",
        "[['253750923', 'summary.txt'], ['253750923', 'detail.txt'], ['253750923', 'image.png']]"
       ]
      },
      {
       "output_type": "stream",
       "stream": "stdout",
       "text": [
        "\n",
        "[['386602643', 'summary.txt'], ['386602643', 'detail.txt'], ['386602643', 'image.png']]"
       ]
      },
      {
       "output_type": "stream",
       "stream": "stdout",
       "text": [
        "\n",
        "[['CP007465.1', 'summary.txt'], ['CP007465.1', 'detail.txt'], ['CP007465.1', 'image.png']]"
       ]
      },
      {
       "output_type": "stream",
       "stream": "stdout",
       "text": [
        "\n",
        "[['392427891', 'summary.txt'], ['392427891', 'detail.txt'], ['392427891', 'image.png']]"
       ]
      },
      {
       "output_type": "stream",
       "stream": "stdout",
       "text": [
        "\n",
        "[['110645304', 'summary.txt'], ['110645304', 'detail.txt'], ['110645304', 'image.png']]"
       ]
      },
      {
       "output_type": "stream",
       "stream": "stdout",
       "text": [
        "\n",
        "[['188574270', 'summary.txt'], ['188574270', 'detail.txt'], ['188574270', 'image.png']]"
       ]
      },
      {
       "output_type": "stream",
       "stream": "stdout",
       "text": [
        "\n",
        "[['CP007025.1', 'summary.txt'], ['CP007025.1', 'detail.txt'], ['CP007025.1', 'image.png']]"
       ]
      },
      {
       "output_type": "stream",
       "stream": "stdout",
       "text": [
        "\n",
        "[['386632422', 'summary.txt'], ['386632422', 'detail.txt'], ['386632422', 'image.png']]"
       ]
      },
      {
       "output_type": "stream",
       "stream": "stdout",
       "text": [
        "\n",
        "[['644621386', 'summary.txt'], ['644621386', 'detail.txt'], ['644621386', 'image.png']]"
       ]
      },
      {
       "output_type": "stream",
       "stream": "stdout",
       "text": [
        "\n",
        "[['37678184', 'summary.txt'], ['37678184', 'detail.txt'], ['37678184', 'image.png']]"
       ]
      },
      {
       "output_type": "stream",
       "stream": "stdout",
       "text": [
        "\n",
        "[['194363778', 'summary.txt'], ['194363778', 'detail.txt'], ['194363778', 'image.png']]"
       ]
      },
      {
       "output_type": "stream",
       "stream": "stdout",
       "text": [
        "\n",
        "[['16758993', 'summary.txt'], ['16758993', 'detail.txt'], ['16758993', 'image.png']]"
       ]
      },
      {
       "output_type": "stream",
       "stream": "stdout",
       "text": [
        "\n",
        "[['74310614', 'summary.txt'], ['74310614', 'detail.txt'], ['74310614', 'image.png']]"
       ]
      },
      {
       "output_type": "stream",
       "stream": "stdout",
       "text": [
        "\n",
        "[['CP006027.1', 'summary.txt'], ['CP006027.1', 'detail.txt'], ['CP006027.1', 'image.png']]"
       ]
      },
      {
       "output_type": "stream",
       "stream": "stdout",
       "text": [
        "\n",
        "[['407693844', 'summary.txt'], ['407693844', 'detail.txt'], ['407693844', 'image.png']]"
       ]
      },
      {
       "output_type": "stream",
       "stream": "stdout",
       "text": [
        "\n",
        "[['156978331', 'summary.txt'], ['156978331', 'detail.txt'], ['156978331', 'image.png']]"
       ]
      },
      {
       "output_type": "stream",
       "stream": "stdout",
       "text": [
        "\n",
        "[['90960990', 'summary.txt'], ['90960990', 'detail.txt'], ['90960990', 'image.png']]"
       ]
      },
      {
       "output_type": "stream",
       "stream": "stdout",
       "text": [
        "\n",
        "[['643620356', 'summary.txt'], ['643620356', 'detail.txt'], ['643620356', 'image.png']]"
       ]
      },
      {
       "output_type": "stream",
       "stream": "stdout",
       "text": [
        "\n",
        "[['154250456', 'summary.txt'], ['154250456', 'detail.txt'], ['154250456', 'image.png']]"
       ]
      },
      {
       "output_type": "stream",
       "stream": "stdout",
       "text": [
        "\n",
        "[['146317663', 'summary.txt'], ['146317663', 'detail.txt'], ['146317663', 'image.png']]"
       ]
      },
      {
       "output_type": "stream",
       "stream": "stdout",
       "text": [
        "\n",
        "[['146319850', 'summary.txt'], ['146319850', 'detail.txt'], ['146319850', 'image.png']]"
       ]
      },
      {
       "output_type": "stream",
       "stream": "stdout",
       "text": [
        "\n",
        "[['488652559', 'summary.txt'], ['488652559', 'detail.txt'], ['488652559', 'image.png']]"
       ]
      },
      {
       "output_type": "stream",
       "stream": "stdout",
       "text": [
        "\n",
        "[['CP007581.1', 'summary.txt'], ['CP007581.1', 'detail.txt'], ['CP007581.1', 'image.png']]"
       ]
      },
      {
       "output_type": "stream",
       "stream": "stdout",
       "text": [
        "\n",
        "[['251781468', 'summary.txt'], ['251781468', 'detail.txt'], ['251781468', 'image.png']]"
       ]
      },
      {
       "output_type": "stream",
       "stream": "stdout",
       "text": [
        "\n",
        "[['CP007147.1', 'summary.txt'], ['CP007147.1', 'detail.txt'], ['CP007147.1', 'image.png']]"
       ]
      },
      {
       "output_type": "stream",
       "stream": "stdout",
       "text": [
        "\n",
        "[['84621657', 'summary.txt'], ['84621657', 'detail.txt'], ['84621657', 'image.png']]"
       ]
      },
      {
       "output_type": "stream",
       "stream": "stdout",
       "text": [
        "\n",
        "[['121592436', 'summary.txt'], ['121592436', 'detail.txt'], ['121592436', 'image.png']]"
       ]
      },
      {
       "output_type": "stream",
       "stream": "stdout",
       "text": [
        "\n",
        "[['378443454', 'summary.txt'], ['378443454', 'detail.txt'], ['378443454', 'image.png']]"
       ]
      },
      {
       "output_type": "stream",
       "stream": "stdout",
       "text": [
        "\n",
        "[['194733902', 'summary.txt'], ['194733902', 'detail.txt'], ['194733902', 'image.png']]"
       ]
      },
      {
       "output_type": "stream",
       "stream": "stdout",
       "text": [
        "\n",
        "[['157159467', 'summary.txt'], ['157159467', 'detail.txt'], ['157159467', 'image.png']]"
       ]
      },
      {
       "output_type": "stream",
       "stream": "stdout",
       "text": [
        "\n",
        "[['319785620', 'summary.txt'], ['319785620', 'detail.txt'], ['319785620', 'image.png']]"
       ]
      },
      {
       "output_type": "stream",
       "stream": "stdout",
       "text": [
        "\n",
        "[['452119554', 'summary.txt'], ['452119554', 'detail.txt'], ['452119554', 'image.png']]"
       ]
      },
      {
       "output_type": "stream",
       "stream": "stdout",
       "text": [
        "\n",
        "[['482902549', 'summary.txt'], ['482902549', 'detail.txt'], ['482902549', 'image.png']]"
       ]
      },
      {
       "output_type": "stream",
       "stream": "stdout",
       "text": [
        "\n",
        "[['CP006580.1', 'summary.txt'], ['CP006580.1', 'detail.txt'], ['CP006580.1', 'image.png']]"
       ]
      },
      {
       "output_type": "stream",
       "stream": "stdout",
       "text": [
        "\n",
        "[['222109225', 'summary.txt'], ['222109225', 'detail.txt'], ['222109225', 'image.png']]"
       ]
      },
      {
       "output_type": "stream",
       "stream": "stdout",
       "text": [
        "\n",
        "[['644643714', 'summary.txt'], ['644643714', 'detail.txt'], ['644643714', 'image.png']]"
       ]
      },
      {
       "output_type": "stream",
       "stream": "stdout",
       "text": [
        "\n",
        "[['387122089', 'summary.txt'], ['387122089', 'detail.txt'], ['387122089', 'image.png']]"
       ]
      },
      {
       "output_type": "stream",
       "stream": "stdout",
       "text": [
        "\n",
        "[['522567641', 'summary.txt'], ['522567641', 'detail.txt'], ['522567641', 'image.png']]"
       ]
      },
      {
       "output_type": "stream",
       "stream": "stdout",
       "text": [
        "\n",
        "[['CP006984.1', 'summary.txt'], ['CP006984.1', 'detail.txt'], ['CP006984.1', 'image.png']]"
       ]
      },
      {
       "output_type": "stream",
       "stream": "stdout",
       "text": [
        "\n",
        "[['49482253', 'summary.txt'], ['49482253', 'detail.txt'], ['49482253', 'image.png']]"
       ]
      },
      {
       "output_type": "stream",
       "stream": "stdout",
       "text": [
        "\n",
        "[['397698583', 'summary.txt'], ['397698583', 'detail.txt'], ['397698583', 'image.png']]"
       ]
      },
      {
       "output_type": "stream",
       "stream": "stdout",
       "text": [
        "\n",
        "[['CP007378.1', 'summary.txt'], ['CP007378.1', 'detail.txt'], ['CP007378.1', 'image.png']]"
       ]
      },
      {
       "output_type": "stream",
       "stream": "stdout",
       "text": [
        "\n",
        "[['328946930', 'summary.txt'], ['328946930', 'detail.txt'], ['328946930', 'image.png']]"
       ]
      },
      {
       "output_type": "stream",
       "stream": "stdout",
       "text": [
        "\n",
        "[['82775382', 'summary.txt'], ['82775382', 'detail.txt'], ['82775382', 'image.png']]"
       ]
      },
      {
       "output_type": "stream",
       "stream": "stdout",
       "text": [
        "\n",
        "[['CP007406.1', 'summary.txt'], ['CP007406.1', 'detail.txt'], ['CP007406.1', 'image.png']]"
       ]
      },
      {
       "output_type": "stream",
       "stream": "stdout",
       "text": [
        "\n",
        "[['604033795', 'summary.txt'], ['604033795', 'detail.txt'], ['604033795', 'image.png']]"
       ]
      },
      {
       "output_type": "stream",
       "stream": "stdout",
       "text": [
        "\n",
        "[['116626972', 'summary.txt'], ['116626972', 'detail.txt'], ['116626972', 'image.png']]"
       ]
      },
      {
       "output_type": "stream",
       "stream": "stdout",
       "text": [
        "\n",
        "[['28894912', 'summary.txt'], ['28894912', 'detail.txt'], ['28894912', 'image.png']]"
       ]
      },
      {
       "output_type": "stream",
       "stream": "stdout",
       "text": [
        "\n",
        "[['538353400', 'summary.txt'], ['538353400', 'detail.txt'], ['538353400', 'image.png']]"
       ]
      },
      {
       "output_type": "stream",
       "stream": "stdout",
       "text": [
        "\n",
        "[['27466918', 'summary.txt'], ['27466918', 'detail.txt'], ['27466918', 'image.png']]"
       ]
      },
      {
       "output_type": "stream",
       "stream": "stdout",
       "text": [
        "\n",
        "[['409913960', 'summary.txt'], ['409913960', 'detail.txt'], ['409913960', 'image.png']]"
       ]
      },
      {
       "output_type": "stream",
       "stream": "stdout",
       "text": [
        "\n"
       ]
      }
     ],
     "prompt_number": 68
    },
    {
     "cell_type": "code",
     "collapsed": false,
     "input": [],
     "language": "python",
     "metadata": {},
     "outputs": []
    }
   ],
   "metadata": {}
  }
 ]
}