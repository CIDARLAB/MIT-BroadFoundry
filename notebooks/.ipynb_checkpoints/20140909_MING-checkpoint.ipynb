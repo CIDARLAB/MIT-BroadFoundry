{
 "metadata": {
  "name": "",
  "signature": "sha256:15a1441a9826693d3c8e8df7640e26cfd186494a7c688845dd469fb8e8b7d369"
 },
 "nbformat": 3,
 "nbformat_minor": 0,
 "worksheets": []
}