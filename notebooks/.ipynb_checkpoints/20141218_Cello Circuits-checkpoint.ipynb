{
 "metadata": {
  "name": "",
  "signature": "sha256:a9542bbf45cc61a5998f8a38ea93728a48c4d6253d1b510fb60dff0d9d90ed66"
 },
 "nbformat": 3,
 "nbformat_minor": 0,
 "worksheets": [
  {
   "cells": [
    {
     "cell_type": "code",
     "collapsed": false,
     "input": [
      "import interact"
     ],
     "language": "python",
     "metadata": {},
     "outputs": [
      {
       "output_type": "stream",
       "stream": "stderr",
       "text": [
        "/usr/lib/pymodules/python2.7/matplotlib/__init__.py:1173: UserWarning:  This call to matplotlib.use() has no effect\n",
        "because the backend has already been chosen;\n",
        "matplotlib.use() must be called *before* pylab, matplotlib.pyplot,\n",
        "or matplotlib.backends is imported for the first time.\n",
        "\n",
        "  warnings.warn(_use_error_msg)\n"
       ]
      }
     ],
     "prompt_number": 1
    },
    {
     "cell_type": "code",
     "collapsed": false,
     "input": [
      "rm clotho.db"
     ],
     "language": "python",
     "metadata": {},
     "outputs": [],
     "prompt_number": 2
    },
    {
     "cell_type": "code",
     "collapsed": false,
     "input": [
      "connect = interact.connection(sqldb='clotho.db')"
     ],
     "language": "python",
     "metadata": {},
     "outputs": [],
     "prompt_number": 3
    },
    {
     "cell_type": "code",
     "collapsed": false,
     "input": [
      "connect.import_parts(interact.parse_data(open('../library_generation/projects/cello/parts.tab', \"U\")))"
     ],
     "language": "python",
     "metadata": {},
     "outputs": [
      {
       "output_type": "stream",
       "stream": "stdout",
       "text": [
        "['name:pHlyIIR']\n",
        "{'name': 'pHlyIIR'}\n",
        "['name:pQacR']\n",
        "{'name': 'pQacR'}\n",
        "['name:pSrpR']\n",
        "{'name': 'pSrpR'}\n",
        "['name:pLitR']\n",
        "{'name': 'pLitR'}\n",
        "['name:pBM3R1']\n",
        "{'name': 'pBM3R1'}\n",
        "['name:pPhlF']\n",
        "{'name': 'pPhlF'}\n"
       ]
      }
     ],
     "prompt_number": 4
    },
    {
     "cell_type": "code",
     "collapsed": true,
     "input": [
      "connect.import_designs(interact.parse_data(open('../library_generation/projects/cello/designs.tab', \"U\")))"
     ],
     "language": "python",
     "metadata": {},
     "outputs": [
      {
       "output_type": "stream",
       "stream": "stdout",
       "text": [
        "['name:input_pTet']\n",
        "{'name': 'input_pTet'}\n",
        "['name:RiboJ51']\n",
        "{'name': 'RiboJ51'}\n",
        "['name:js2_hlyiir']\n",
        "{'name': 'js2_hlyiir'}\n",
        "['name:HlyIIR_js']\n",
        "{'name': 'HlyIIR_js'}\n",
        "['name:ECK120033736']\n",
        "{'name': 'ECK120033736'}\n",
        "['name:input_pTet']\n",
        "{'name': 'input_pTet'}\n",
        "['name:RiboJ51']\n",
        "{'name': 'RiboJ51'}\n",
        "['name:js2_hlyiir']\n",
        "{'name': 'js2_hlyiir'}\n",
        "['name:HlyIIR_js']\n",
        "{'name': 'HlyIIR_js'}\n",
        "['name:ECK120033736']\n",
        "{'name': 'ECK120033736'}\n",
        "['name:input_pBAD']\n",
        "{'name': 'input_pBAD'}\n",
        "['name:RiboJ10']\n",
        "{'name': 'RiboJ10'}\n",
        "['name:an3_srpr']\n",
        "{'name': 'an3_srpr'}\n",
        "['name:SrpR']\n",
        "{'name': 'SrpR'}\n",
        "['name:ECK120029600']\n",
        "{'name': 'ECK120029600'}\n",
        "['name:input_pBAD']\n",
        "{'name': 'input_pBAD'}\n",
        "['name:RiboJ10']\n",
        "{'name': 'RiboJ10'}\n",
        "['name:an3_srpr']\n",
        "{'name': 'an3_srpr'}\n",
        "['name:SrpR']\n",
        "{'name': 'SrpR'}\n",
        "['name:ECK120029600']\n",
        "{'name': 'ECK120029600'}\n",
        "['name:input_pTac']\n",
        "{'name': 'input_pTac'}\n",
        "['name:SarJ']\n",
        "{'name': 'SarJ'}\n",
        "['name:js2_bm3r1']\n",
        "{'name': 'js2_bm3r1'}\n",
        "['name:BM3R1']\n",
        "{'name': 'BM3R1'}\n",
        "['name:L3S2P11']\n",
        "{'name': 'L3S2P11'}\n",
        "['name:input_pTac']\n",
        "{'name': 'input_pTac'}\n",
        "['name:SarJ']\n",
        "{'name': 'SarJ'}\n",
        "['name:js2_bm3r1']\n",
        "{'name': 'js2_bm3r1'}\n",
        "['name:BM3R1']\n",
        "{'name': 'BM3R1'}\n",
        "['name:L3S2P11']"
       ]
      },
      {
       "output_type": "stream",
       "stream": "stdout",
       "text": [
        "\n",
        "{'name': 'L3S2P11'}\n",
        "['name:pSrpR']\n",
        "{'name': 'pSrpR'}\n",
        "['name:pHlyIIR']\n",
        "{'name': 'pHlyIIR'}\n",
        "['name:RiboJ60']\n",
        "{'name': 'RiboJ60'}\n",
        "['name:js_qacr']\n",
        "{'name': 'js_qacr'}\n",
        "['name:QacR']\n",
        "{'name': 'QacR'}\n",
        "['name:ECK120010818']\n",
        "{'name': 'ECK120010818'}\n",
        "['name:pSrpR']\n",
        "{'name': 'pSrpR'}\n",
        "['name:pHlyIIR']\n",
        "{'name': 'pHlyIIR'}\n",
        "['name:RiboJ60']\n",
        "{'name': 'RiboJ60'}\n",
        "['name:js_qacr']\n",
        "{'name': 'js_qacr'}\n",
        "['name:QacR']\n",
        "{'name': 'QacR'}\n",
        "['name:ECK120010818']\n",
        "{'name': 'ECK120010818'}\n",
        "['name:pQacR']\n",
        "{'name': 'pQacR'}\n",
        "['name:PlmJ']\n",
        "{'name': 'PlmJ'}\n",
        "['name:an2_litr']\n",
        "{'name': 'an2_litr'}\n",
        "['name:LitR']\n",
        "{'name': 'LitR'}\n",
        "['name:L3S2P24']\n",
        "{'name': 'L3S2P24'}\n",
        "['name:pQacR']\n",
        "{'name': 'pQacR'}\n",
        "['name:PlmJ']\n",
        "{'name': 'PlmJ'}\n",
        "['name:an2_litr']\n",
        "{'name': 'an2_litr'}\n",
        "['name:LitR']\n",
        "{'name': 'LitR'}\n",
        "['name:L3S2P24']\n",
        "{'name': 'L3S2P24'}\n",
        "['name:pBM3R1']\n",
        "{'name': 'pBM3R1'}\n",
        "['name:pLitR']\n",
        "{'name': 'pLitR'}\n",
        "['name:RiboJ53']\n",
        "{'name': 'RiboJ53'}\n",
        "['name:an1_phlf']\n",
        "{'name': 'an1_phlf'}\n",
        "['name:PhlF']\n",
        "{'name': 'PhlF'}\n",
        "['name:ECK120033737']\n",
        "{'name': 'ECK120033737'}\n",
        "['name:pBM3R1']"
       ]
      },
      {
       "output_type": "stream",
       "stream": "stdout",
       "text": [
        "\n",
        "{'name': 'pBM3R1'}\n",
        "['name:pLitR']\n",
        "{'name': 'pLitR'}\n",
        "['name:RiboJ53']\n",
        "{'name': 'RiboJ53'}\n",
        "['name:an1_phlf']\n",
        "{'name': 'an1_phlf'}\n",
        "['name:PhlF']\n",
        "{'name': 'PhlF'}\n",
        "['name:ECK120033737']\n",
        "{'name': 'ECK120033737'}\n",
        "['name:pPhlF']"
       ]
      },
      {
       "output_type": "stream",
       "stream": "stdout",
       "text": [
        "\n",
        "{'name': 'pPhlF'}\n",
        "['name:output_YFP']\n",
        "{'name': 'output_YFP'}\n",
        "1000"
       ]
      },
      {
       "output_type": "stream",
       "stream": "stdout",
       "text": [
        "  of  46080\n",
        "2000"
       ]
      },
      {
       "output_type": "stream",
       "stream": "stdout",
       "text": [
        "  of  46080\n",
        "3000"
       ]
      },
      {
       "output_type": "stream",
       "stream": "stdout",
       "text": [
        "  of  46080\n",
        "4000"
       ]
      },
      {
       "output_type": "stream",
       "stream": "stdout",
       "text": [
        "  of  46080\n",
        "5000"
       ]
      },
      {
       "output_type": "stream",
       "stream": "stdout",
       "text": [
        "  of  46080\n",
        "6000"
       ]
      },
      {
       "output_type": "stream",
       "stream": "stdout",
       "text": [
        "  of  46080\n",
        "7000"
       ]
      },
      {
       "output_type": "stream",
       "stream": "stdout",
       "text": [
        "  of  46080\n",
        "8000"
       ]
      },
      {
       "output_type": "stream",
       "stream": "stdout",
       "text": [
        "  of  46080\n",
        "9000"
       ]
      },
      {
       "output_type": "stream",
       "stream": "stdout",
       "text": [
        "  of  46080\n",
        "10000"
       ]
      },
      {
       "output_type": "stream",
       "stream": "stdout",
       "text": [
        "  of  46080\n",
        "11000"
       ]
      },
      {
       "output_type": "stream",
       "stream": "stdout",
       "text": [
        "  of  46080\n",
        "12000"
       ]
      },
      {
       "output_type": "stream",
       "stream": "stdout",
       "text": [
        "  of  46080\n",
        "13000"
       ]
      },
      {
       "output_type": "stream",
       "stream": "stdout",
       "text": [
        "  of  46080\n",
        "14000"
       ]
      },
      {
       "output_type": "stream",
       "stream": "stdout",
       "text": [
        "  of  46080\n",
        "15000"
       ]
      },
      {
       "output_type": "stream",
       "stream": "stdout",
       "text": [
        "  of  46080\n",
        "16000"
       ]
      },
      {
       "output_type": "stream",
       "stream": "stdout",
       "text": [
        "  of  46080\n",
        "17000"
       ]
      },
      {
       "output_type": "stream",
       "stream": "stdout",
       "text": [
        "  of  46080\n",
        "18000"
       ]
      },
      {
       "output_type": "stream",
       "stream": "stdout",
       "text": [
        "  of  46080\n",
        "19000"
       ]
      },
      {
       "output_type": "stream",
       "stream": "stdout",
       "text": [
        "  of  46080\n",
        "20000"
       ]
      },
      {
       "output_type": "stream",
       "stream": "stdout",
       "text": [
        "  of  46080\n",
        "21000"
       ]
      },
      {
       "output_type": "stream",
       "stream": "stdout",
       "text": [
        "  of  46080\n",
        "22000"
       ]
      },
      {
       "output_type": "stream",
       "stream": "stdout",
       "text": [
        "  of  46080\n",
        "23000"
       ]
      },
      {
       "output_type": "stream",
       "stream": "stdout",
       "text": [
        "  of  46080\n",
        "24000"
       ]
      },
      {
       "output_type": "stream",
       "stream": "stdout",
       "text": [
        "  of  46080\n",
        "25000"
       ]
      },
      {
       "output_type": "stream",
       "stream": "stdout",
       "text": [
        "  of  46080\n",
        "26000"
       ]
      },
      {
       "output_type": "stream",
       "stream": "stdout",
       "text": [
        "  of  46080\n",
        "27000"
       ]
      },
      {
       "output_type": "stream",
       "stream": "stdout",
       "text": [
        "  of  46080\n",
        "28000"
       ]
      },
      {
       "output_type": "stream",
       "stream": "stdout",
       "text": [
        "  of  46080\n",
        "29000"
       ]
      },
      {
       "output_type": "stream",
       "stream": "stdout",
       "text": [
        "  of  46080\n",
        "30000"
       ]
      },
      {
       "output_type": "stream",
       "stream": "stdout",
       "text": [
        "  of  46080\n",
        "31000"
       ]
      },
      {
       "output_type": "stream",
       "stream": "stdout",
       "text": [
        "  of  46080\n",
        "32000"
       ]
      },
      {
       "output_type": "stream",
       "stream": "stdout",
       "text": [
        "  of  46080\n",
        "33000"
       ]
      },
      {
       "output_type": "stream",
       "stream": "stdout",
       "text": [
        "  of  46080\n",
        "34000"
       ]
      },
      {
       "output_type": "stream",
       "stream": "stdout",
       "text": [
        "  of  46080\n",
        "35000"
       ]
      },
      {
       "output_type": "stream",
       "stream": "stdout",
       "text": [
        "  of  46080\n",
        "36000"
       ]
      },
      {
       "output_type": "stream",
       "stream": "stdout",
       "text": [
        "  of  46080\n",
        "37000"
       ]
      },
      {
       "output_type": "stream",
       "stream": "stdout",
       "text": [
        "  of  46080\n",
        "38000"
       ]
      },
      {
       "output_type": "stream",
       "stream": "stdout",
       "text": [
        "  of  46080\n",
        "39000"
       ]
      },
      {
       "output_type": "stream",
       "stream": "stdout",
       "text": [
        "  of  46080\n",
        "40000"
       ]
      },
      {
       "output_type": "stream",
       "stream": "stdout",
       "text": [
        "  of  46080\n",
        "41000"
       ]
      },
      {
       "output_type": "stream",
       "stream": "stdout",
       "text": [
        "  of  46080\n",
        "42000"
       ]
      },
      {
       "output_type": "stream",
       "stream": "stdout",
       "text": [
        "  of  46080\n",
        "43000"
       ]
      },
      {
       "output_type": "stream",
       "stream": "stdout",
       "text": [
        "  of  46080\n",
        "44000"
       ]
      },
      {
       "output_type": "stream",
       "stream": "stdout",
       "text": [
        "  of  46080\n",
        "45000"
       ]
      },
      {
       "output_type": "stream",
       "stream": "stdout",
       "text": [
        "  of  46080\n",
        "46000"
       ]
      },
      {
       "output_type": "stream",
       "stream": "stdout",
       "text": [
        "  of  46080\n"
       ]
      }
     ],
     "prompt_number": 5
    },
    {
     "cell_type": "code",
     "collapsed": false,
     "input": [
      "import dnaplotlib"
     ],
     "language": "python",
     "metadata": {},
     "outputs": [],
     "prompt_number": 6
    },
    {
     "cell_type": "code",
     "collapsed": false,
     "input": [
      "import random"
     ],
     "language": "python",
     "metadata": {},
     "outputs": [],
     "prompt_number": 7
    },
    {
     "cell_type": "code",
     "collapsed": false,
     "input": [
      "len(connect.designs)"
     ],
     "language": "python",
     "metadata": {},
     "outputs": [
      {
       "metadata": {},
       "output_type": "pyout",
       "prompt_number": 8,
       "text": [
        "46080"
       ]
      }
     ],
     "prompt_number": 8
    },
    {
     "cell_type": "code",
     "collapsed": false,
     "input": [
      "import random"
     ],
     "language": "python",
     "metadata": {},
     "outputs": [],
     "prompt_number": 10
    },
    {
     "cell_type": "code",
     "collapsed": false,
     "input": [
      "names, designs, regs = zip(*[des.plot() for des in random.sample(connect.designs, 50)])"
     ],
     "language": "python",
     "metadata": {},
     "outputs": []
    },
    {
     "cell_type": "code",
     "collapsed": false,
     "input": [
      "figure(figsize=(30, 200))\n",
      "axes = []\n",
      "for num in range(len(designs)):\n",
      "    axes.append(subplot(len(designs), 1, num+1))\n",
      "dnaplotlib.plot_sbol_designs(axes, designs, regulations=regs)"
     ],
     "language": "python",
     "metadata": {},
     "outputs": []
    },
    {
     "cell_type": "code",
     "collapsed": false,
     "input": [],
     "language": "python",
     "metadata": {},
     "outputs": [],
     "prompt_number": 9
    },
    {
     "cell_type": "code",
     "collapsed": false,
     "input": [],
     "language": "python",
     "metadata": {},
     "outputs": [],
     "prompt_number": 23
    },
    {
     "cell_type": "code",
     "collapsed": false,
     "input": [],
     "language": "python",
     "metadata": {},
     "outputs": [],
     "prompt_number": 23
    },
    {
     "cell_type": "code",
     "collapsed": false,
     "input": [],
     "language": "python",
     "metadata": {},
     "outputs": [],
     "prompt_number": 23
    },
    {
     "cell_type": "code",
     "collapsed": false,
     "input": [],
     "language": "python",
     "metadata": {},
     "outputs": [],
     "prompt_number": 23
    },
    {
     "cell_type": "code",
     "collapsed": false,
     "input": [],
     "language": "python",
     "metadata": {},
     "outputs": [],
     "prompt_number": 32
    }
   ],
   "metadata": {}
  }
 ]
}