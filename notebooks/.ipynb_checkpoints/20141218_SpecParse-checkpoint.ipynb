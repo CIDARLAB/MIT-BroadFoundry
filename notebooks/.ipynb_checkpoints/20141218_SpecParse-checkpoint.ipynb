{
 "metadata": {
  "name": "",
  "signature": "sha256:e716b88c46337dbb5174fbb3fd6013a32c1a3a5af01339fbfc90ae58b69dfcb6"
 },
 "nbformat": 3,
 "nbformat_minor": 0,
 "worksheets": [
  {
   "cells": [
    {
     "cell_type": "code",
     "collapsed": false,
     "input": [
      "spec = \"((A*B*C)*(D*E))+F\""
     ],
     "language": "python",
     "metadata": {},
     "outputs": [],
     "prompt_number": 1
    },
    {
     "cell_type": "code",
     "collapsed": false,
     "input": [
      "simple = \"hello*there*woot\""
     ],
     "language": "python",
     "metadata": {},
     "outputs": [],
     "prompt_number": 2
    },
    {
     "cell_type": "code",
     "collapsed": false,
     "input": [
      "import itertools"
     ],
     "language": "python",
     "metadata": {},
     "outputs": [],
     "prompt_number": 3
    },
    {
     "cell_type": "code",
     "collapsed": false,
     "input": [
      "import re"
     ],
     "language": "python",
     "metadata": {},
     "outputs": [],
     "prompt_number": 4
    },
    {
     "cell_type": "code",
     "collapsed": false,
     "input": [
      "def parens(spec):\n",
      "    if len([c for c in spec if c in \"()+*_~\"]) == 0:\n",
      "        return [spec]\n",
      "    new = []\n",
      "    prev_counter = 0\n",
      "    counter = 0\n",
      "    save = True\n",
      "    for char in re.split(\"([()+*_~])\", spec):\n",
      "        if not char:\n",
      "            continue\n",
      "        if char == \"(\":\n",
      "            counter += 1\n",
      "            if prev_counter == 0:\n",
      "                save = False\n",
      "                new.append([])\n",
      "        if char == \")\":\n",
      "            counter -= 1\n",
      "            if prev_counter == 1:\n",
      "                save = False\n",
      "                \n",
      "        if counter == 0 and prev_counter == 0:\n",
      "            new.append(char)\n",
      "        else:\n",
      "            if save:\n",
      "                new[-1].append(char)\n",
      "            \n",
      "        if not save:\n",
      "            save = True\n",
      "        prev_counter = counter\n",
      "    return [\"\".join(n) for n in new]"
     ],
     "language": "python",
     "metadata": {},
     "outputs": [],
     "prompt_number": 5
    },
    {
     "cell_type": "code",
     "collapsed": false,
     "input": [
      "parens(spec)"
     ],
     "language": "python",
     "metadata": {},
     "outputs": [
      {
       "metadata": {},
       "output_type": "pyout",
       "prompt_number": 6,
       "text": [
        "['(A*B*C)*(D*E)', '+', 'F']"
       ]
      }
     ],
     "prompt_number": 6
    },
    {
     "cell_type": "code",
     "collapsed": false,
     "input": [
      "parens(parens(spec)[0])"
     ],
     "language": "python",
     "metadata": {},
     "outputs": [
      {
       "metadata": {},
       "output_type": "pyout",
       "prompt_number": 7,
       "text": [
        "['A*B*C', '*', 'D*E']"
       ]
      }
     ],
     "prompt_number": 7
    },
    {
     "cell_type": "code",
     "collapsed": false,
     "input": [
      "def get(thing):\n",
      "    return [thing]"
     ],
     "language": "python",
     "metadata": {},
     "outputs": [],
     "prompt_number": 106
    },
    {
     "cell_type": "code",
     "collapsed": false,
     "input": [
      "def star(group):\n",
      "    print 'group', group\n",
      "    for c in itertools.permutations([spec_parse(list(g)[0]) for k,g in itertools.groupby(group,lambda x: x == '*') if not k]):\n",
      "        print list(itertools.chain(*c))\n",
      "    perms = [list(itertools.chain(*c)) for c in itertools.permutations([spec_parse(list(g)[0]) for k,g in itertools.groupby(group,\n",
      "                                                                                lambda x: x == '*') if not k])]\n",
      "    print 'perms', perms\n",
      "    return perms"
     ],
     "language": "python",
     "metadata": {},
     "outputs": [],
     "prompt_number": 121
    },
    {
     "cell_type": "code",
     "collapsed": false,
     "input": [
      "def plus(group):\n",
      "    combs = list(itertools.product([spec_parse(list(g)[0]) for k,g in itertools.groupby(group, lambda x: x == '+') if not k]))\n",
      "    print 'combs', combs\n",
      "    return combs"
     ],
     "language": "python",
     "metadata": {},
     "outputs": [],
     "prompt_number": 118
    },
    {
     "cell_type": "code",
     "collapsed": false,
     "input": [
      "def spec_parse(spec):\n",
      "    separated = parens(spec)\n",
      "    if '*' in separated:\n",
      "        return star(separated)\n",
      "    elif '+' in separated:\n",
      "        return plus(separated)\n",
      "    elif \"(\" in separated[0] or '*' in separated[0] or '+' in separated[0]:\n",
      "        return spec_parse(separated[0])\n",
      "    else:\n",
      "        return get(separated[0])"
     ],
     "language": "python",
     "metadata": {},
     "outputs": [],
     "prompt_number": 119
    },
    {
     "cell_type": "code",
     "collapsed": false,
     "input": [
      "for d in spec_parse(spec):\n",
      "    print 'blah', d"
     ],
     "language": "python",
     "metadata": {},
     "outputs": [
      {
       "output_type": "stream",
       "stream": "stdout",
       "text": [
        "['A', 'B', 'C']\n",
        "['A', 'C', 'B']\n",
        "['B', 'A', 'C']\n",
        "['B', 'C', 'A']\n",
        "['C', 'A', 'B']\n",
        "['C', 'B', 'A']\n",
        "perms [['A', 'B', 'C'], ['A', 'C', 'B'], ['B', 'A', 'C'], ['B', 'C', 'A'], ['C', 'A', 'B'], ['C', 'B', 'A']]\n",
        "['D', 'E']\n",
        "['E', 'D']\n",
        "perms [['D', 'E'], ['E', 'D']]\n",
        "[['A', 'B', 'C'], ['A', 'C', 'B'], ['B', 'A', 'C'], ['B', 'C', 'A'], ['C', 'A', 'B'], ['C', 'B', 'A'], ['D', 'E'], ['E', 'D']]\n",
        "[['D', 'E'], ['E', 'D'], ['A', 'B', 'C'], ['A', 'C', 'B'], ['B', 'A', 'C'], ['B', 'C', 'A'], ['C', 'A', 'B'], ['C', 'B', 'A']]\n",
        "['A', 'B', 'C']\n",
        "['A', 'C', 'B']\n",
        "['B', 'A', 'C']\n",
        "['B', 'C', 'A']\n",
        "['C', 'A', 'B']\n",
        "['C', 'B', 'A']\n",
        "perms [['A', 'B', 'C'], ['A', 'C', 'B'], ['B', 'A', 'C'], ['B', 'C', 'A'], ['C', 'A', 'B'], ['C', 'B', 'A']]\n",
        "['D', 'E']\n",
        "['E', 'D']\n",
        "perms [['D', 'E'], ['E', 'D']]\n",
        "perms [[['A', 'B', 'C'], ['A', 'C', 'B'], ['B', 'A', 'C'], ['B', 'C', 'A'], ['C', 'A', 'B'], ['C', 'B', 'A'], ['D', 'E'], ['E', 'D']], [['D', 'E'], ['E', 'D'], ['A', 'B', 'C'], ['A', 'C', 'B'], ['B', 'A', 'C'], ['B', 'C', 'A'], ['C', 'A', 'B'], ['C', 'B', 'A']]]\n",
        "combs [([[['A', 'B', 'C'], ['A', 'C', 'B'], ['B', 'A', 'C'], ['B', 'C', 'A'], ['C', 'A', 'B'], ['C', 'B', 'A'], ['D', 'E'], ['E', 'D']], [['D', 'E'], ['E', 'D'], ['A', 'B', 'C'], ['A', 'C', 'B'], ['B', 'A', 'C'], ['B', 'C', 'A'], ['C', 'A', 'B'], ['C', 'B', 'A']]],), (['F'],)]\n",
        "blah ([[['A', 'B', 'C'], ['A', 'C', 'B'], ['B', 'A', 'C'], ['B', 'C', 'A'], ['C', 'A', 'B'], ['C', 'B', 'A'], ['D', 'E'], ['E', 'D']], [['D', 'E'], ['E', 'D'], ['A', 'B', 'C'], ['A', 'C', 'B'], ['B', 'A', 'C'], ['B', 'C', 'A'], ['C', 'A', 'B'], ['C', 'B', 'A']]],)\n",
        "blah (['F'],)\n"
       ]
      }
     ],
     "prompt_number": 122
    },
    {
     "cell_type": "code",
     "collapsed": false,
     "input": [],
     "language": "python",
     "metadata": {},
     "outputs": []
    }
   ],
   "metadata": {}
  }
 ]
}