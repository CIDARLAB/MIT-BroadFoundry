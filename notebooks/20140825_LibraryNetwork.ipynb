{
 "metadata": {
  "name": "",
  "signature": "sha256:5d8cc3af2d489f6cd1a7cc867ceeca123397db790de7f255f34cc9784d8360eb"
 },
 "nbformat": 3,
 "nbformat_minor": 0,
 "worksheets": [
  {
   "cells": [
    {
     "cell_type": "code",
     "collapsed": false,
     "input": [
      "f = open(\"../../../act/parts.tab\", \"U\")"
     ],
     "language": "python",
     "metadata": {},
     "outputs": [],
     "prompt_number": 88
    },
    {
     "cell_type": "code",
     "collapsed": false,
     "input": [
      "parts = []"
     ],
     "language": "python",
     "metadata": {},
     "outputs": [],
     "prompt_number": 89
    },
    {
     "cell_type": "code",
     "collapsed": false,
     "input": [
      "for line in f:\n",
      "    line = line.strip()\n",
      "    if line.startswith(\">\"):\n",
      "        part = dict()\n",
      "        line = line[1:].split(\"\\t\")\n",
      "        for pair in line:\n",
      "            pair = pair.split(\"=\", 1)\n",
      "            part[pair[0]] = pair[1]\n",
      "        parts.append(part)\n",
      "    else:\n",
      "        parts[-1].setdefault('meta', [])\n",
      "        parts[-1]['meta'].append(dict([pair.split(\"=\", 1) for pair in line.strip(\"\\t\").split(\"\\t\", 1)]))"
     ],
     "language": "python",
     "metadata": {},
     "outputs": [],
     "prompt_number": 90
    },
    {
     "cell_type": "code",
     "collapsed": false,
     "input": [
      "substrates = dict()"
     ],
     "language": "python",
     "metadata": {},
     "outputs": [],
     "prompt_number": 91
    },
    {
     "cell_type": "code",
     "collapsed": false,
     "input": [
      "products = dict()"
     ],
     "language": "python",
     "metadata": {},
     "outputs": [],
     "prompt_number": 92
    },
    {
     "cell_type": "code",
     "collapsed": false,
     "input": [
      "cosubs = dict()"
     ],
     "language": "python",
     "metadata": {},
     "outputs": [],
     "prompt_number": 93
    },
    {
     "cell_type": "code",
     "collapsed": false,
     "input": [
      "coprods = dict()"
     ],
     "language": "python",
     "metadata": {},
     "outputs": [],
     "prompt_number": 94
    },
    {
     "cell_type": "code",
     "collapsed": false,
     "input": [
      "for part in parts:\n",
      "    for m in part['meta']:\n",
      "        if 'protein' not in part:\n",
      "            continue\n",
      "        if 'substrate' in m:\n",
      "            substrates.setdefault(part['protein'], dict())\n",
      "            substrates[part['protein']][m['substrate']] = m['product']\n",
      "            products.setdefault(part['protein'], dict())\n",
      "            products[part['protein']][m['product']] = m['substrate']\n",
      "        if 'cosub' in m:\n",
      "            cosubs.setdefault(part['protein'], dict())\n",
      "            cosubs[part['protein']][m['cosub']] = m['coprod']\n",
      "            coprods.setdefault(part['protein'], dict())\n",
      "            coprods[part['protein']][m['coprod']] = m['cosub']"
     ],
     "language": "python",
     "metadata": {},
     "outputs": [],
     "prompt_number": 95
    },
    {
     "cell_type": "code",
     "collapsed": false,
     "input": [
      "import networkx as nx"
     ],
     "language": "python",
     "metadata": {},
     "outputs": [],
     "prompt_number": 96
    },
    {
     "cell_type": "code",
     "collapsed": false,
     "input": [
      "g = nx.DiGraph()"
     ],
     "language": "python",
     "metadata": {},
     "outputs": [],
     "prompt_number": 112
    },
    {
     "cell_type": "code",
     "collapsed": false,
     "input": [
      "for part in parts:\n",
      "    if 'protein' not in part:\n",
      "        continue\n",
      "    abb = part['abb'] if 'abb' in part else ''\n",
      "    host = part['host'] if 'host' in part else ''\n",
      "    enzyme = part['enzyme'] if 'enzyme' in part else ''\n",
      "    g.add_node(part['protein'], name=abb, enzyme=enzyme, abb=abb, host=host, t=1)"
     ],
     "language": "python",
     "metadata": {},
     "outputs": [],
     "prompt_number": 113
    },
    {
     "cell_type": "code",
     "collapsed": false,
     "input": [
      "for part in substrates:\n",
      "    for sub in substrates[part].keys():\n",
      "        if sub not in g:\n",
      "            g.add_node(sub, name=sub, t=2)\n",
      "for part in products:\n",
      "    for prod in products[part].keys():\n",
      "        if prod not in g:\n",
      "            g.add_node(prod, name=prod, t=2)\n",
      "for part in cosubs:\n",
      "    for cosub in cosubs[part].keys():\n",
      "        if cosub not in g:\n",
      "            g.add_node(cosub, name=cosub, t=2)\n",
      "for part in coprods:\n",
      "    for coprod in coprods[part].keys():\n",
      "        if coprod not in g:\n",
      "            g.add_node(coprod, name=coprod, t=2)"
     ],
     "language": "python",
     "metadata": {},
     "outputs": [],
     "prompt_number": 114
    },
    {
     "cell_type": "code",
     "collapsed": false,
     "input": [
      "for part in substrates:\n",
      "    for sub, prod in substrates[part].items():\n",
      "        g.add_edge(sub, part, weight=2)\n",
      "        g.add_edge(part, prod, weight=2)\n",
      "for part in cosubs:\n",
      "    for cosub, coprod in cosubs[part].items():\n",
      "        g.add_edge(cosub, part, weight=1)\n",
      "        g.add_edge(part, coprod, weight=1)"
     ],
     "language": "python",
     "metadata": {},
     "outputs": [],
     "prompt_number": 115
    },
    {
     "cell_type": "code",
     "collapsed": false,
     "input": [
      "nx.write_dot(g, 'network.dot')"
     ],
     "language": "python",
     "metadata": {},
     "outputs": [],
     "prompt_number": 116
    },
    {
     "cell_type": "code",
     "collapsed": false,
     "input": [],
     "language": "python",
     "metadata": {},
     "outputs": []
    }
   ],
   "metadata": {}
  }
 ]
}