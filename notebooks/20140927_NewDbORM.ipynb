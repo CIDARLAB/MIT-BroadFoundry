{
 "metadata": {
  "name": "",
  "signature": "sha256:d865fef711728b61da424c722b0c8064618d1f9daf2da498d26ee7785b07b56d"
 },
 "nbformat": 3,
 "nbformat_minor": 0,
 "worksheets": [
  {
   "cells": [
    {
     "cell_type": "code",
     "collapsed": false,
     "input": [
      "cd .."
     ],
     "language": "python",
     "metadata": {},
     "outputs": [
      {
       "output_type": "stream",
       "stream": "stdout",
       "text": [
        "/media/storage/EG/MIT-BROAD/library_generation\n"
       ]
      }
     ],
     "prompt_number": 1
    },
    {
     "cell_type": "code",
     "collapsed": false,
     "input": [
      "from sqlalchemy.orm import sessionmaker"
     ],
     "language": "python",
     "metadata": {},
     "outputs": [],
     "prompt_number": 2
    },
    {
     "cell_type": "code",
     "collapsed": false,
     "input": [
      "rm ./test.db"
     ],
     "language": "python",
     "metadata": {},
     "outputs": [],
     "prompt_number": 3
    },
    {
     "cell_type": "code",
     "collapsed": false,
     "input": [
      "import dbmap"
     ],
     "language": "python",
     "metadata": {},
     "outputs": [],
     "prompt_number": 4
    },
    {
     "cell_type": "code",
     "collapsed": false,
     "input": [
      "engine = dbmap.connect(\"./test.db\", 'test')\n",
      "Session = sessionmaker(bind=engine)\n",
      "session = Session"
     ],
     "language": "python",
     "metadata": {},
     "outputs": [],
     "prompt_number": 5
    },
    {
     "cell_type": "code",
     "collapsed": false,
     "input": [
      "f = open(\"../../act/parts.tab\", \"U\")"
     ],
     "language": "python",
     "metadata": {},
     "outputs": [],
     "prompt_number": 6
    },
    {
     "cell_type": "code",
     "collapsed": false,
     "input": [
      "parts = []"
     ],
     "language": "python",
     "metadata": {},
     "outputs": [],
     "prompt_number": 7
    },
    {
     "cell_type": "code",
     "collapsed": false,
     "input": [
      "def parse_line(pairs):\n",
      "    line_parts = dict()\n",
      "    for pair in pairs:\n",
      "        pair = pair.split(\"=\", 1)\n",
      "        line_parts[pair[0]] = pair[1]\n",
      "    return line_parts"
     ],
     "language": "python",
     "metadata": {},
     "outputs": [],
     "prompt_number": 8
    },
    {
     "cell_type": "code",
     "collapsed": false,
     "input": [
      "for line in f:\n",
      "    line = line.strip()\n",
      "    if line.startswith(\">\"):\n",
      "        part_dict = parse_line(line[1:].split(\"\\t\"))\n",
      "        part = dbmap.Part(part_dict)\n",
      "        parts.append(part)\n",
      "    else:\n",
      "        meta = parse_line(line.strip(\"\\t\").split(\"\\t\"))\n",
      "        rxn = dbmap.Rxn(meta)\n",
      "        parts[-1].rxns.append(rxn)"
     ],
     "language": "python",
     "metadata": {},
     "outputs": [
      {
       "ename": "SyntaxError",
       "evalue": "unexpected EOF while parsing (<string>, line 1)",
       "output_type": "pyerr",
       "traceback": [
        "\u001b[1;36m  File \u001b[1;32m\"<string>\"\u001b[1;36m, line \u001b[1;32m1\u001b[0m\n\u001b[1;33m    `Tube\u001b[0m\n\u001b[1;37m        ^\u001b[0m\n\u001b[1;31mSyntaxError\u001b[0m\u001b[1;31m:\u001b[0m unexpected EOF while parsing\n"
       ]
      }
     ],
     "prompt_number": 9
    },
    {
     "cell_type": "code",
     "collapsed": false,
     "input": [
      "part = parts[0]"
     ],
     "language": "python",
     "metadata": {},
     "outputs": [],
     "prompt_number": 29
    },
    {
     "cell_type": "code",
     "collapsed": false,
     "input": [
      "part.rxns[0].product"
     ],
     "language": "python",
     "metadata": {},
     "outputs": [
      {
       "metadata": {},
       "output_type": "pyout",
       "prompt_number": 33,
       "text": [
        "'MELATONIN'"
       ]
      }
     ],
     "prompt_number": 33
    },
    {
     "cell_type": "code",
     "collapsed": false,
     "input": [],
     "language": "python",
     "metadata": {},
     "outputs": []
    },
    {
     "cell_type": "code",
     "collapsed": false,
     "input": [],
     "language": "python",
     "metadata": {},
     "outputs": []
    },
    {
     "cell_type": "code",
     "collapsed": false,
     "input": [],
     "language": "python",
     "metadata": {},
     "outputs": []
    },
    {
     "cell_type": "code",
     "collapsed": false,
     "input": [],
     "language": "python",
     "metadata": {},
     "outputs": []
    },
    {
     "cell_type": "code",
     "collapsed": false,
     "input": [
      "substrates = dict()"
     ],
     "language": "python",
     "metadata": {},
     "outputs": [],
     "prompt_number": 14
    },
    {
     "cell_type": "code",
     "collapsed": false,
     "input": [
      "products = dict()"
     ],
     "language": "python",
     "metadata": {},
     "outputs": [],
     "prompt_number": 92
    },
    {
     "cell_type": "code",
     "collapsed": false,
     "input": [
      "cosubs = dict()"
     ],
     "language": "python",
     "metadata": {},
     "outputs": [],
     "prompt_number": 93
    },
    {
     "cell_type": "code",
     "collapsed": false,
     "input": [
      "coprods = dict()"
     ],
     "language": "python",
     "metadata": {},
     "outputs": [],
     "prompt_number": 94
    },
    {
     "cell_type": "code",
     "collapsed": false,
     "input": [
      "for part in parts:\n",
      "    for m in part['meta']:\n",
      "        if 'protein' not in part:\n",
      "            continue\n",
      "        if 'substrate' in m:\n",
      "            substrates.setdefault(part['protein'], dict())\n",
      "            substrates[part['protein']][m['substrate']] = m['product']\n",
      "            products.setdefault(part['protein'], dict())\n",
      "            products[part['protein']][m['product']] = m['substrate']\n",
      "        if 'cosub' in m:\n",
      "            cosubs.setdefault(part['protein'], dict())\n",
      "            cosubs[part['protein']][m['cosub']] = m['coprod']\n",
      "            coprods.setdefault(part['protein'], dict())\n",
      "            coprods[part['protein']][m['coprod']] = m['cosub']"
     ],
     "language": "python",
     "metadata": {},
     "outputs": [],
     "prompt_number": 95
    },
    {
     "cell_type": "code",
     "collapsed": false,
     "input": [
      "import networkx as nx"
     ],
     "language": "python",
     "metadata": {},
     "outputs": [],
     "prompt_number": 96
    },
    {
     "cell_type": "code",
     "collapsed": false,
     "input": [
      "g = nx.DiGraph()"
     ],
     "language": "python",
     "metadata": {},
     "outputs": [],
     "prompt_number": 112
    },
    {
     "cell_type": "code",
     "collapsed": false,
     "input": [
      "for part in parts:\n",
      "    if 'protein' not in part:\n",
      "        continue\n",
      "    abb = part['abb'] if 'abb' in part else ''\n",
      "    host = part['host'] if 'host' in part else ''\n",
      "    enzyme = part['enzyme'] if 'enzyme' in part else ''\n",
      "    g.add_node(part['protein'], name=abb, enzyme=enzyme, abb=abb, host=host, t=1)"
     ],
     "language": "python",
     "metadata": {},
     "outputs": [],
     "prompt_number": 113
    },
    {
     "cell_type": "code",
     "collapsed": false,
     "input": [
      "for part in substrates:\n",
      "    for sub in substrates[part].keys():\n",
      "        if sub not in g:\n",
      "            g.add_node(sub, name=sub, t=2)\n",
      "for part in products:\n",
      "    for prod in products[part].keys():\n",
      "        if prod not in g:\n",
      "            g.add_node(prod, name=prod, t=2)\n",
      "for part in cosubs:\n",
      "    for cosub in cosubs[part].keys():\n",
      "        if cosub not in g:\n",
      "            g.add_node(cosub, name=cosub, t=2)\n",
      "for part in coprods:\n",
      "    for coprod in coprods[part].keys():\n",
      "        if coprod not in g:\n",
      "            g.add_node(coprod, name=coprod, t=2)"
     ],
     "language": "python",
     "metadata": {},
     "outputs": [],
     "prompt_number": 114
    },
    {
     "cell_type": "code",
     "collapsed": false,
     "input": [
      "for part in substrates:\n",
      "    for sub, prod in substrates[part].items():\n",
      "        g.add_edge(sub, part, weight=2)\n",
      "        g.add_edge(part, prod, weight=2)\n",
      "for part in cosubs:\n",
      "    for cosub, coprod in cosubs[part].items():\n",
      "        g.add_edge(cosub, part, weight=1)\n",
      "        g.add_edge(part, coprod, weight=1)"
     ],
     "language": "python",
     "metadata": {},
     "outputs": [],
     "prompt_number": 115
    },
    {
     "cell_type": "code",
     "collapsed": false,
     "input": [
      "nx.write_dot(g, 'network.dot')"
     ],
     "language": "python",
     "metadata": {},
     "outputs": [],
     "prompt_number": 116
    },
    {
     "cell_type": "code",
     "collapsed": false,
     "input": [],
     "language": "python",
     "metadata": {},
     "outputs": []
    }
   ],
   "metadata": {}
  }
 ]
}