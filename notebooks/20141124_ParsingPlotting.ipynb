{
 "metadata": {
  "name": "",
  "signature": "sha256:4630a7d40708499c7198bdc55a195fc71ac1dd52466e0fe619c9c5c09fb56a9d"
 },
 "nbformat": 3,
 "nbformat_minor": 0,
 "worksheets": [
  {
   "cells": [
    {
     "cell_type": "code",
     "collapsed": false,
     "input": [
      "import dbmap"
     ],
     "language": "python",
     "metadata": {},
     "outputs": [],
     "prompt_number": 1
    },
    {
     "cell_type": "code",
     "collapsed": false,
     "input": [
      "import interact"
     ],
     "language": "python",
     "metadata": {},
     "outputs": [],
     "prompt_number": 2
    },
    {
     "cell_type": "code",
     "collapsed": false,
     "input": [
      "f = interact.connection('test21', 'test21')"
     ],
     "language": "python",
     "metadata": {},
     "outputs": [],
     "prompt_number": 3
    },
    {
     "cell_type": "code",
     "collapsed": false,
     "input": [
      "f.import_parts(interact.parse_data(open('../library_generation/projects/test/parts.tab')))"
     ],
     "language": "python",
     "metadata": {},
     "outputs": [
      {
       "output_type": "stream",
       "stream": "stdout",
       "text": [
        "{'length': '100', 'type': 'Promoter', 'name': 'ProA'}\n",
        "{'length': '4', 'type': 'Scar', 'name': 'ATGC'}\n",
        "{'length': '200', 'type': 'CDS', 'name': 'CDS1'}\n",
        "{'length': '100', 'type': 'Terminator', 'name': 'TermA'}\n"
       ]
      }
     ],
     "prompt_number": 4
    },
    {
     "cell_type": "code",
     "collapsed": false,
     "input": [
      "mp = f.mdb['parts']"
     ],
     "language": "python",
     "metadata": {},
     "outputs": [],
     "prompt_number": 5
    },
    {
     "cell_type": "code",
     "collapsed": false,
     "input": [
      "mp"
     ],
     "language": "python",
     "metadata": {},
     "outputs": [
      {
       "metadata": {},
       "output_type": "pyout",
       "prompt_number": 6,
       "text": [
        "Collection(Database(MongoClient('localhost', 27017), u'test21'), u'parts')"
       ]
      }
     ],
     "prompt_number": 6
    },
    {
     "cell_type": "code",
     "collapsed": false,
     "input": [
      "list(mp.find())"
     ],
     "language": "python",
     "metadata": {},
     "outputs": [
      {
       "metadata": {},
       "output_type": "pyout",
       "prompt_number": 7,
       "text": [
        "[{u'_id': ObjectId('547393c6446f524515b12466'), u'pid': 1},\n",
        " {u'_id': ObjectId('547393c6446f524515b12467'), u'pid': 2},\n",
        " {u'_id': ObjectId('547393c6446f524515b12468'), u'pid': 3},\n",
        " {u'_id': ObjectId('547393c6446f524515b12469'), u'pid': 4},\n",
        " {u'_id': ObjectId('547393e7446f524522f91b9b'), u'pid': 1},\n",
        " {u'_id': ObjectId('547393e7446f524522f91b9c'), u'pid': 2},\n",
        " {u'_id': ObjectId('547393e7446f524522f91b9d'), u'pid': 3},\n",
        " {u'_id': ObjectId('547393e7446f524522f91b9e'), u'pid': 4},\n",
        " {u'_id': ObjectId('547393ee446f52452f650b13'), u'pid': 1},\n",
        " {u'_id': ObjectId('547393ee446f52452f650b14'), u'pid': 2},\n",
        " {u'_id': ObjectId('547393ee446f52452f650b15'), u'pid': 3},\n",
        " {u'_id': ObjectId('547393ee446f52452f650b16'), u'pid': 4},\n",
        " {u'_id': ObjectId('54739403446f52453d59df81'), u'pid': 1},\n",
        " {u'_id': ObjectId('54739403446f52453d59df82'), u'pid': 2},\n",
        " {u'_id': ObjectId('54739403446f52453d59df83'), u'pid': 3},\n",
        " {u'_id': ObjectId('54739403446f52453d59df84'), u'pid': 4}]"
       ]
      }
     ],
     "prompt_number": 7
    },
    {
     "cell_type": "code",
     "collapsed": false,
     "input": [
      "f.session.query(dbmap.Part).filter(dbmap.Part.name=='TermA').all()"
     ],
     "language": "python",
     "metadata": {},
     "outputs": [
      {
       "metadata": {},
       "output_type": "pyout",
       "prompt_number": 8,
       "text": [
        "[<dbmap.Part at 0x7ff752e65d10>]"
       ]
      }
     ],
     "prompt_number": 8
    },
    {
     "cell_type": "code",
     "collapsed": false,
     "input": [
      "f.load_db()"
     ],
     "language": "python",
     "metadata": {},
     "outputs": [],
     "prompt_number": 9
    },
    {
     "cell_type": "code",
     "collapsed": false,
     "input": [
      "f.import_designs(interact.parse_data(open('../library_generation/projects/test/designs.tab')))"
     ],
     "language": "python",
     "metadata": {},
     "outputs": [],
     "prompt_number": 10
    },
    {
     "cell_type": "code",
     "collapsed": false,
     "input": [
      "f.load_db()"
     ],
     "language": "python",
     "metadata": {},
     "outputs": [],
     "prompt_number": 11
    },
    {
     "cell_type": "code",
     "collapsed": false,
     "input": [
      "f.designs"
     ],
     "language": "python",
     "metadata": {},
     "outputs": [
      {
       "metadata": {},
       "output_type": "pyout",
       "prompt_number": 12,
       "text": [
        "[<dbmap.Design at 0x7ff752e89790>]"
       ]
      }
     ],
     "prompt_number": 12
    },
    {
     "cell_type": "code",
     "collapsed": false,
     "input": [
      "f.parts"
     ],
     "language": "python",
     "metadata": {},
     "outputs": [
      {
       "metadata": {},
       "output_type": "pyout",
       "prompt_number": 13,
       "text": [
        "[<dbmap.Part at 0x7ff752ecadd0>,\n",
        " <dbmap.Part at 0x7ff75313d390>,\n",
        " <dbmap.Part at 0x7ff752eca610>,\n",
        " <dbmap.Part at 0x7ff752e65d10>]"
       ]
      }
     ],
     "prompt_number": 13
    },
    {
     "cell_type": "code",
     "collapsed": false,
     "input": [
      "f.session.query(dbmap.Design).all()"
     ],
     "language": "python",
     "metadata": {},
     "outputs": [
      {
       "metadata": {},
       "output_type": "pyout",
       "prompt_number": 14,
       "text": [
        "[<dbmap.Design at 0x7ff752e89790>]"
       ]
      }
     ],
     "prompt_number": 14
    },
    {
     "cell_type": "code",
     "collapsed": false,
     "input": [
      "d = f.designs[0]"
     ],
     "language": "python",
     "metadata": {},
     "outputs": [],
     "prompt_number": 15
    },
    {
     "cell_type": "code",
     "collapsed": false,
     "input": [
      "d.designparts"
     ],
     "language": "python",
     "metadata": {},
     "outputs": [
      {
       "metadata": {},
       "output_type": "pyout",
       "prompt_number": 16,
       "text": [
        "[<dbmap.DesignPart at 0x7ff752e8ee50>,\n",
        " <dbmap.DesignPart at 0x7ff752e1c150>,\n",
        " <dbmap.DesignPart at 0x7ff752e1c090>,\n",
        " <dbmap.DesignPart at 0x7ff752e1c350>]"
       ]
      }
     ],
     "prompt_number": 16
    },
    {
     "cell_type": "code",
     "collapsed": false,
     "input": [
      "d.designparts[3].start"
     ],
     "language": "python",
     "metadata": {},
     "outputs": [
      {
       "metadata": {},
       "output_type": "pyout",
       "prompt_number": 17,
       "text": [
        "305"
       ]
      }
     ],
     "prompt_number": 17
    },
    {
     "cell_type": "code",
     "collapsed": false,
     "input": [
      "design = d.plot()"
     ],
     "language": "python",
     "metadata": {},
     "outputs": [],
     "prompt_number": 23
    },
    {
     "cell_type": "code",
     "collapsed": false,
     "input": [
      "d.plot()"
     ],
     "language": "python",
     "metadata": {},
     "outputs": [
      {
       "metadata": {},
       "output_type": "pyout",
       "prompt_number": 24,
       "text": [
        "('test1',\n",
        " [{'end': 100,\n",
        "   'fwd': True,\n",
        "   'name': u'ProA',\n",
        "   'opts': {u'_id': ObjectId('547393c6446f524515b12466'), u'pid': 1},\n",
        "   'start': 1,\n",
        "   'type': u'Promoter'},\n",
        "  {'end': 104,\n",
        "   'fwd': True,\n",
        "   'name': u'ATGC',\n",
        "   'opts': {u'_id': ObjectId('547393c6446f524515b12467'), u'pid': 2},\n",
        "   'start': 101,\n",
        "   'type': u'Scar'},\n",
        "  {'end': 304,\n",
        "   'fwd': True,\n",
        "   'name': u'CDS1',\n",
        "   'opts': {u'_id': ObjectId('547393c6446f524515b12468'), u'pid': 3},\n",
        "   'start': 105,\n",
        "   'type': u'CDS'},\n",
        "  {'end': 404,\n",
        "   'fwd': True,\n",
        "   'name': u'TermA',\n",
        "   'opts': {u'_id': ObjectId('547393c6446f524515b12469'), u'pid': 4},\n",
        "   'start': 305,\n",
        "   'type': u'Terminator'}])"
       ]
      }
     ],
     "prompt_number": 24
    },
    {
     "cell_type": "code",
     "collapsed": false,
     "input": [
      "import dnaplotlib as dpl"
     ],
     "language": "python",
     "metadata": {},
     "outputs": [],
     "prompt_number": 19
    },
    {
     "cell_type": "code",
     "collapsed": false,
     "input": [
      "import plot_SBOL_designs as plsbol"
     ],
     "language": "python",
     "metadata": {},
     "outputs": [],
     "prompt_number": 33
    },
    {
     "cell_type": "code",
     "collapsed": false,
     "input": [
      "dr = dpl.DNARenderer()"
     ],
     "language": "python",
     "metadata": {},
     "outputs": [],
     "prompt_number": 20
    },
    {
     "cell_type": "code",
     "collapsed": false,
     "input": [
      "reg_renderers = dr.std_reg_renderers()\n",
      "part_renderers = dr.SBOL_part_renderers()"
     ],
     "language": "python",
     "metadata": {},
     "outputs": [],
     "prompt_number": 25
    },
    {
     "cell_type": "code",
     "collapsed": false,
     "input": [
      "pl_params = plsbol.load_plot_parameters(\"../library_generation/projects/alec_circuit/plot_parameters.csv\")"
     ],
     "language": "python",
     "metadata": {},
     "outputs": [],
     "prompt_number": 34
    },
    {
     "cell_type": "code",
     "collapsed": false,
     "input": [
      "plsbol.plot_dna(design, pl_param)"
     ],
     "language": "python",
     "metadata": {},
     "outputs": [
      {
       "metadata": {},
       "output_type": "display_data",
       "text": [
        "<matplotlib.figure.Figure at 0x7ff752e65c50>"
       ]
      }
     ],
     "prompt_number": 21
    },
    {
     "cell_type": "code",
     "collapsed": false,
     "input": [
      "ax = fig.add_subplot(1,1,1)"
     ],
     "language": "python",
     "metadata": {},
     "outputs": [],
     "prompt_number": 22
    },
    {
     "cell_type": "code",
     "collapsed": false,
     "input": [
      "dr.renderDNA(ax, design[1], part_renderers)"
     ],
     "language": "python",
     "metadata": {},
     "outputs": [
      {
       "metadata": {},
       "output_type": "pyout",
       "prompt_number": 30,
       "text": [
        "(0, 61.0)"
       ]
      }
     ],
     "prompt_number": 30
    },
    {
     "cell_type": "code",
     "collapsed": false,
     "input": [
      "fig.savefig('test.pdf')"
     ],
     "language": "python",
     "metadata": {},
     "outputs": [],
     "prompt_number": 32
    },
    {
     "cell_type": "code",
     "collapsed": false,
     "input": [],
     "language": "python",
     "metadata": {},
     "outputs": []
    }
   ],
   "metadata": {}
  }
 ]
}