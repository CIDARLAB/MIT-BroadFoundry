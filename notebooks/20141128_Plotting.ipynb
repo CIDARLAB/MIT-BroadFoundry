{
 "metadata": {
  "name": "",
  "signature": "sha256:5cf2b7bfbb00aa3fef8dcd1244a1ef2edba6ef76f5b392df5d748a65b2db7833"
 },
 "nbformat": 3,
 "nbformat_minor": 0,
 "worksheets": [
  {
   "cells": [
    {
     "cell_type": "code",
     "collapsed": false,
     "input": [
      "%matplotlib inline"
     ],
     "language": "python",
     "metadata": {},
     "outputs": [],
     "prompt_number": 1
    },
    {
     "cell_type": "code",
     "collapsed": false,
     "input": [
      "import dbmap"
     ],
     "language": "python",
     "metadata": {},
     "outputs": [],
     "prompt_number": 2
    },
    {
     "cell_type": "code",
     "collapsed": false,
     "input": [
      "dbmap.Part.__tablename__"
     ],
     "language": "python",
     "metadata": {},
     "outputs": [
      {
       "metadata": {},
       "output_type": "pyout",
       "prompt_number": 3,
       "text": [
        "'parts'"
       ]
      }
     ],
     "prompt_number": 3
    },
    {
     "cell_type": "code",
     "collapsed": false,
     "input": [
      "import interact"
     ],
     "language": "python",
     "metadata": {},
     "outputs": [
      {
       "output_type": "stream",
       "stream": "stderr",
       "text": [
        "/usr/lib/pymodules/python2.7/matplotlib/__init__.py:1173: UserWarning:  This call to matplotlib.use() has no effect\n",
        "because the backend has already been chosen;\n",
        "matplotlib.use() must be called *before* pylab, matplotlib.pyplot,\n",
        "or matplotlib.backends is imported for the first time.\n",
        "\n",
        "  warnings.warn(_use_error_msg)\n"
       ]
      }
     ],
     "prompt_number": 4
    },
    {
     "cell_type": "code",
     "collapsed": false,
     "input": [
      "f = interact.connection('test26', 'test26')"
     ],
     "language": "python",
     "metadata": {},
     "outputs": [],
     "prompt_number": 5
    },
    {
     "cell_type": "code",
     "collapsed": false,
     "input": [
      "f.import_parts(interact.parse_data(open('../library_generation/projects/test/parts.tab')))"
     ],
     "language": "python",
     "metadata": {},
     "outputs": [
      {
       "output_type": "stream",
       "stream": "stdout",
       "text": [
        "{'length': '100', 'type': 'Promoter', 'name': 'ProA'}\n",
        "{'length': '4', 'type': 'Scar', 'name': 'ATGC'}"
       ]
      },
      {
       "output_type": "stream",
       "stream": "stdout",
       "text": [
        "\n",
        "{'length': '200', 'type': 'CDS', 'name': 'CDS1'}\n",
        "{'length': '100', 'type': 'Terminator', 'name': 'TermA'}\n"
       ]
      }
     ],
     "prompt_number": 6
    },
    {
     "cell_type": "code",
     "collapsed": false,
     "input": [
      "mp = f.mdb['parts']"
     ],
     "language": "python",
     "metadata": {},
     "outputs": [],
     "prompt_number": 7
    },
    {
     "cell_type": "code",
     "collapsed": false,
     "input": [
      "mp"
     ],
     "language": "python",
     "metadata": {},
     "outputs": [
      {
       "metadata": {},
       "output_type": "pyout",
       "prompt_number": 8,
       "text": [
        "Collection(Database(MongoClient('localhost', 27017), u'test26'), u'parts')"
       ]
      }
     ],
     "prompt_number": 8
    },
    {
     "cell_type": "code",
     "collapsed": false,
     "input": [
      "list(mp.find())"
     ],
     "language": "python",
     "metadata": {},
     "outputs": [
      {
       "metadata": {},
       "output_type": "pyout",
       "prompt_number": 9,
       "text": [
        "[{u'_id': ObjectId('5478cec0446f52739a513805'), u'pid': 1},\n",
        " {u'_id': ObjectId('5478cec0446f52739a513806'), u'pid': 2},\n",
        " {u'_id': ObjectId('5478cec0446f52739a513807'), u'pid': 3},\n",
        " {u'_id': ObjectId('5478cec0446f52739a513808'), u'pid': 4}]"
       ]
      }
     ],
     "prompt_number": 9
    },
    {
     "cell_type": "code",
     "collapsed": false,
     "input": [
      "f.session.query(dbmap.Part).filter(dbmap.Part.name=='TermA').all()"
     ],
     "language": "python",
     "metadata": {},
     "outputs": [
      {
       "metadata": {},
       "output_type": "pyout",
       "prompt_number": 10,
       "text": [
        "[<dbmap.Part at 0x7fe8dc85cc50>]"
       ]
      }
     ],
     "prompt_number": 10
    },
    {
     "cell_type": "code",
     "collapsed": false,
     "input": [
      "parts = f.dict_match(dbmap.Part, {'name':'TermA'})"
     ],
     "language": "python",
     "metadata": {},
     "outputs": [
      {
       "output_type": "stream",
       "stream": "stdout",
       "text": [
        "mongo []\n",
        "sql ['name']\n",
        "ids [{u'_id': ObjectId('5478cec0446f52739a513805')}, {u'_id': ObjectId('5478cec0446f52739a513806')}, {u'_id': ObjectId('5478cec0446f52739a513807')}, {u'_id': ObjectId('5478cec0446f52739a513808')}]\n"
       ]
      }
     ],
     "prompt_number": 11
    },
    {
     "cell_type": "code",
     "collapsed": false,
     "input": [
      "[part.name for part in parts]"
     ],
     "language": "python",
     "metadata": {},
     "outputs": [
      {
       "metadata": {},
       "output_type": "pyout",
       "prompt_number": 12,
       "text": [
        "[u'TermA']"
       ]
      }
     ],
     "prompt_number": 12
    },
    {
     "cell_type": "code",
     "collapsed": false,
     "input": [
      "dbmap.Part.defined"
     ],
     "language": "python",
     "metadata": {},
     "outputs": [
      {
       "metadata": {},
       "output_type": "pyout",
       "prompt_number": 13,
       "text": [
        "['pid',\n",
        " 'ec',\n",
        " 'host',\n",
        " 'protein',\n",
        " 'dna',\n",
        " 'type',\n",
        " 'accession',\n",
        " 'enzyme',\n",
        " 'name',\n",
        " 'version',\n",
        " 'length']"
       ]
      }
     ],
     "prompt_number": 13
    },
    {
     "cell_type": "code",
     "collapsed": false,
     "input": [
      "f.load_db()"
     ],
     "language": "python",
     "metadata": {},
     "outputs": [],
     "prompt_number": 14
    },
    {
     "cell_type": "code",
     "collapsed": false,
     "input": [
      "f.import_designs(interact.parse_data(open('../library_generation/projects/test/designs.tab')))"
     ],
     "language": "python",
     "metadata": {},
     "outputs": [
      {
       "output_type": "stream",
       "stream": "stdout",
       "text": [
        "mongo []\n",
        "sql ['name']\n",
        "ids [{u'_id': ObjectId('5478cec0446f52739a513805')}, {u'_id': ObjectId('5478cec0446f52739a513806')}, {u'_id': ObjectId('5478cec0446f52739a513807')}, {u'_id': ObjectId('5478cec0446f52739a513808')}]\n",
        "mongo []\n",
        "sql ['name']\n",
        "ids [{u'_id': ObjectId('5478cec0446f52739a513805')}, {u'_id': ObjectId('5478cec0446f52739a513806')}, {u'_id': ObjectId('5478cec0446f52739a513807')}, {u'_id': ObjectId('5478cec0446f52739a513808')}]\n",
        "mongo []\n",
        "sql ['name']\n",
        "ids [{u'_id': ObjectId('5478cec0446f52739a513805')}, {u'_id': ObjectId('5478cec0446f52739a513806')}, {u'_id': ObjectId('5478cec0446f52739a513807')}, {u'_id': ObjectId('5478cec0446f52739a513808')}]\n",
        "mongo []\n",
        "sql ['name']\n",
        "ids [{u'_id': ObjectId('5478cec0446f52739a513805')}, {u'_id': ObjectId('5478cec0446f52739a513806')}, {u'_id': ObjectId('5478cec0446f52739a513807')}, {u'_id': ObjectId('5478cec0446f52739a513808')}]\n"
       ]
      }
     ],
     "prompt_number": 15
    },
    {
     "cell_type": "code",
     "collapsed": false,
     "input": [
      "f.load_db()"
     ],
     "language": "python",
     "metadata": {},
     "outputs": [],
     "prompt_number": 16
    },
    {
     "cell_type": "code",
     "collapsed": false,
     "input": [
      "f.designs"
     ],
     "language": "python",
     "metadata": {},
     "outputs": [
      {
       "metadata": {},
       "output_type": "pyout",
       "prompt_number": 17,
       "text": [
        "[<dbmap.Design at 0x7fe8dc820bd0>]"
       ]
      }
     ],
     "prompt_number": 17
    },
    {
     "cell_type": "code",
     "collapsed": false,
     "input": [
      "f.parts"
     ],
     "language": "python",
     "metadata": {},
     "outputs": [
      {
       "metadata": {},
       "output_type": "pyout",
       "prompt_number": 18,
       "text": [
        "[<dbmap.Part at 0x7fe8dc7f37d0>,\n",
        " <dbmap.Part at 0x7fe8dcb5a910>,\n",
        " <dbmap.Part at 0x7fe8dc7f3750>,\n",
        " <dbmap.Part at 0x7fe8dc85cc50>]"
       ]
      }
     ],
     "prompt_number": 18
    },
    {
     "cell_type": "code",
     "collapsed": false,
     "input": [
      "f.session.query(dbmap.Design).all()"
     ],
     "language": "python",
     "metadata": {},
     "outputs": [
      {
       "metadata": {},
       "output_type": "pyout",
       "prompt_number": 19,
       "text": [
        "[<dbmap.Design at 0x7fe8dc820bd0>]"
       ]
      }
     ],
     "prompt_number": 19
    },
    {
     "cell_type": "code",
     "collapsed": false,
     "input": [
      "d = f.designs[0]"
     ],
     "language": "python",
     "metadata": {},
     "outputs": [],
     "prompt_number": 20
    },
    {
     "cell_type": "code",
     "collapsed": false,
     "input": [
      "d.designparts"
     ],
     "language": "python",
     "metadata": {},
     "outputs": [
      {
       "metadata": {},
       "output_type": "pyout",
       "prompt_number": 21,
       "text": [
        "[<dbmap.DesignPart at 0x7fe8dc828310>,\n",
        " <dbmap.DesignPart at 0x7fe8dc828150>,\n",
        " <dbmap.DesignPart at 0x7fe8dc8282d0>,\n",
        " <dbmap.DesignPart at 0x7fe8dc828590>]"
       ]
      }
     ],
     "prompt_number": 21
    },
    {
     "cell_type": "code",
     "collapsed": false,
     "input": [
      "d.designparts[3].start"
     ],
     "language": "python",
     "metadata": {},
     "outputs": [
      {
       "metadata": {},
       "output_type": "pyout",
       "prompt_number": 22,
       "text": [
        "305"
       ]
      }
     ],
     "prompt_number": 22
    },
    {
     "cell_type": "code",
     "collapsed": false,
     "input": [
      "design = d.plot()"
     ],
     "language": "python",
     "metadata": {},
     "outputs": [],
     "prompt_number": 23
    },
    {
     "cell_type": "code",
     "collapsed": false,
     "input": [
      "d.__tablename__"
     ],
     "language": "python",
     "metadata": {},
     "outputs": [
      {
       "metadata": {},
       "output_type": "pyout",
       "prompt_number": 24,
       "text": [
        "'designs'"
       ]
      }
     ],
     "prompt_number": 24
    },
    {
     "cell_type": "code",
     "collapsed": false,
     "input": [
      "import dnaplotlib"
     ],
     "language": "python",
     "metadata": {},
     "outputs": [],
     "prompt_number": 33
    },
    {
     "cell_type": "code",
     "collapsed": false,
     "input": [
      "reload(dnaplotlib)"
     ],
     "language": "python",
     "metadata": {},
     "outputs": [
      {
       "metadata": {},
       "output_type": "pyout",
       "prompt_number": 34,
       "text": [
        "<module 'dnaplotlib' from '/media/storage/EG/code/dnaplotlib/dnaplotlib.py'>"
       ]
      }
     ],
     "prompt_number": 34
    },
    {
     "cell_type": "code",
     "collapsed": false,
     "input": [
      "design[1]"
     ],
     "language": "python",
     "metadata": {},
     "outputs": [
      {
       "metadata": {},
       "output_type": "pyout",
       "prompt_number": 41,
       "text": [
        "[{'end': 14.0,\n",
        "  'fwd': True,\n",
        "  'name': u'ProA',\n",
        "  'opts': {u'_id': ObjectId('5478cec0446f52739a513805'), u'pid': 1},\n",
        "  'start': 0,\n",
        "  'type': u'Promoter'},\n",
        " {'end': 24.0,\n",
        "  'fwd': True,\n",
        "  'name': u'ATGC',\n",
        "  'opts': {u'_id': ObjectId('5478cec0446f52739a513806'), u'pid': 2},\n",
        "  'start': 14.0,\n",
        "  'type': u'Scar'},\n",
        " {'end': 56.0,\n",
        "  'fwd': True,\n",
        "  'name': u'CDS1',\n",
        "  'opts': {u'_id': ObjectId('5478cec0446f52739a513807'), u'pid': 3},\n",
        "  'start': 24.0,\n",
        "  'type': u'CDS'},\n",
        " {'end': 68.0,\n",
        "  'fwd': True,\n",
        "  'name': u'TermA',\n",
        "  'opts': {u'_id': ObjectId('5478cec0446f52739a513808'), u'pid': 4},\n",
        "  'start': 56.0,\n",
        "  'type': u'Terminator'}]"
       ]
      }
     ],
     "prompt_number": 41
    },
    {
     "cell_type": "code",
     "collapsed": false,
     "input": [],
     "language": "python",
     "metadata": {},
     "outputs": []
    },
    {
     "cell_type": "code",
     "collapsed": false,
     "input": [
      "fig = plt.figure()"
     ],
     "language": "python",
     "metadata": {},
     "outputs": [
      {
       "metadata": {},
       "output_type": "display_data",
       "text": [
        "<matplotlib.figure.Figure at 0x7fe8dc74b610>"
       ]
      }
     ],
     "prompt_number": 61
    },
    {
     "cell_type": "code",
     "collapsed": false,
     "input": [
      "ax = fig.add_subplot(1,1,1)"
     ],
     "language": "python",
     "metadata": {},
     "outputs": [],
     "prompt_number": 62
    },
    {
     "cell_type": "code",
     "collapsed": false,
     "input": [
      "print ax"
     ],
     "language": "python",
     "metadata": {},
     "outputs": [
      {
       "output_type": "stream",
       "stream": "stdout",
       "text": [
        "Axes(0.125,0.125;0.775x0.775)\n"
       ]
      }
     ],
     "prompt_number": 63
    },
    {
     "cell_type": "code",
     "collapsed": false,
     "input": [
      "dnaplotlib.plot_sbol_designs([ax], [design[1]])"
     ],
     "language": "python",
     "metadata": {},
     "outputs": [
      {
       "metadata": {},
       "output_type": "pyout",
       "prompt_number": 64,
       "text": [
        "([-0.68, 68.68], [-35, 35])"
       ]
      }
     ],
     "prompt_number": 64
    },
    {
     "cell_type": "code",
     "collapsed": false,
     "input": [
      "fig.savefig(\"test.pdf\")"
     ],
     "language": "python",
     "metadata": {},
     "outputs": [],
     "prompt_number": 68
    },
    {
     "cell_type": "code",
     "collapsed": false,
     "input": [
      "plt.close('all')"
     ],
     "language": "python",
     "metadata": {},
     "outputs": [],
     "prompt_number": 60
    },
    {
     "cell_type": "code",
     "collapsed": false,
     "input": [],
     "language": "python",
     "metadata": {},
     "outputs": []
    }
   ],
   "metadata": {}
  }
 ]
}