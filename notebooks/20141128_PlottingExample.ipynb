{
 "metadata": {
  "name": "",
  "signature": "sha256:f8070a00cab3158b83aec54a7592b4a538038b35c624034bac57866284100879"
 },
 "nbformat": 3,
 "nbformat_minor": 0,
 "worksheets": [
  {
   "cells": [
    {
     "cell_type": "code",
     "collapsed": false,
     "input": [
      "import dbmap"
     ],
     "language": "python",
     "metadata": {},
     "outputs": [],
     "prompt_number": 2
    },
    {
     "cell_type": "code",
     "collapsed": false,
     "input": [
      "dbmap.Part.__tablename__"
     ],
     "language": "python",
     "metadata": {},
     "outputs": [
      {
       "metadata": {},
       "output_type": "pyout",
       "prompt_number": 3,
       "text": [
        "'parts'"
       ]
      }
     ],
     "prompt_number": 3
    },
    {
     "cell_type": "code",
     "collapsed": false,
     "input": [
      "import interact"
     ],
     "language": "python",
     "metadata": {},
     "outputs": [
      {
       "output_type": "stream",
       "stream": "stderr",
       "text": [
        "/usr/lib/pymodules/python2.7/matplotlib/__init__.py:1173: UserWarning:  This call to matplotlib.use() has no effect\n",
        "because the backend has already been chosen;\n",
        "matplotlib.use() must be called *before* pylab, matplotlib.pyplot,\n",
        "or matplotlib.backends is imported for the first time.\n",
        "\n",
        "  warnings.warn(_use_error_msg)\n"
       ]
      }
     ],
     "prompt_number": 4
    },
    {
     "cell_type": "code",
     "collapsed": false,
     "input": [
      "f = interact.connection('alec8', 'alec8')"
     ],
     "language": "python",
     "metadata": {},
     "outputs": [],
     "prompt_number": 61
    },
    {
     "cell_type": "code",
     "collapsed": false,
     "input": [
      "f.import_parts(interact.parse_data(open('../library_generation/projects/alec_circuit/part_information.csv', \"U\")))"
     ],
     "language": "python",
     "metadata": {},
     "outputs": [
      {
       "output_type": "stream",
       "stream": "stdout",
       "text": [
        "{'label_x_offset': -2.0, 'part_name': 'C_AmtR', 'color': [1.0, 0.75, 0.17], 'label': 'AmtR', 'length': 35.0, 'label_style': 'italic', 'linewidth': 1.0, 'type': 'CDS', 'label_y_offset': -0.5}\n",
        "{'label_x_offset': -2.0, 'part_name': 'C_LitR', 'color': [0.38, 0.82, 0.32], 'label': 'LitR', 'length': 35.0, 'label_style': 'italic', 'linewidth': 1.0, 'type': 'CDS', 'label_y_offset': -0.5}\n",
        "{'label_x_offset': -2.0, 'part_name': 'C_BM3R1', 'color': [0.95, 0.3, 0.25], 'label': 'BM3R1', 'length': 35.0, 'label_style': 'italic', 'linewidth': 1.0, 'type': 'CDS', 'label_y_offset': -0.5}"
       ]
      },
      {
       "output_type": "stream",
       "stream": "stdout",
       "text": [
        "\n",
        "{'label_x_offset': -2.0, 'part_name': 'C_SrpR', 'color': [0.38, 0.65, 0.87], 'label': 'SrpR', 'length': 35.0, 'label_style': 'italic', 'linewidth': 1.0, 'type': 'CDS', 'label_y_offset': -0.5}\n",
        "{'label_x_offset': -2.0, 'part_name': 'C_PhlF', 'color': [0.55, 0.35, 0.64], 'label': 'PhlF', 'length': 35.0, 'label_style': 'italic', 'linewidth': 1.0, 'type': 'CDS', 'label_y_offset': -0.5}\n",
        "{'label_x_offset': -2.0, 'part_name': 'C_YFP', 'color': [0.98, 0.97, 0.35], 'label': 'YFP', 'length': 35.0, 'label_style': 'italic', 'linewidth': 1.0, 'type': 'CDS', 'label_y_offset': -0.5}\n",
        "{'end_pad': 6.0, 'part_name': 'P_Tac', 'label': 'pTac', 'start_pad': 6.0, 'type': 'Promoter', 'label_y_offset': -9.0}\n",
        "{'end_pad': 6.0, 'part_name': 'P_Tet', 'label': 'pTet', 'start_pad': 6.0, 'type': 'Promoter', 'label_y_offset': -9.0}\n",
        "{'end_pad': 6.0, 'part_name': 'P_BAD', 'label': 'pBAD', 'start_pad': 6.0, 'type': 'Promoter', 'label_y_offset': -9.0}\n",
        "{'color': [0.95, 0.3, 0.25], 'type': 'Promoter', 'part_name': 'P_BM3R1'}\n",
        "{'color': [1.0, 0.75, 0.17], 'type': 'Promoter', 'part_name': 'P_AmtR'}\n",
        "{'color': [0.38, 0.82, 0.32], 'type': 'Promoter', 'part_name': 'P_LitR'}\n",
        "{'color': [0.38, 0.65, 0.87], 'type': 'Promoter', 'part_name': 'P_SrpR'}\n",
        "{'color': [0.55, 0.35, 0.64], 'type': 'Promoter', 'part_name': 'P_PhlF'}\n",
        "{'linewidth': 1.0, 'type': 'Ribozyme', 'part_name': 'Z_Rib'}\n",
        "{'type': 'Terminator', 'part_name': 'T_Ter'}\n",
        "{'color': [0.0, 0.0, 0.0], 'type': 'RBS', 'part_name': 'R_RBS'}\n",
        "{'color': [1.0, 0.75, 0.17], 'type': 'RBS', 'part_name': 'R_AmtR'}\n",
        "{'color': [0.38, 0.82, 0.32], 'type': 'RBS', 'part_name': 'R_LitR'}\n",
        "{'color': [0.95, 0.3, 0.25], 'type': 'RBS', 'part_name': 'R_BM3R1'}\n",
        "{'color': [0.38, 0.65, 0.87], 'type': 'RBS', 'part_name': 'R_SrpR'}\n",
        "{'color': [0.55, 0.35, 0.64], 'type': 'RBS', 'part_name': 'R_PhlF'}\n",
        "{'color': [0.98, 0.97, 0.35], 'type': 'RBS', 'part_name': 'R_YFP'}\n"
       ]
      }
     ],
     "prompt_number": 62
    },
    {
     "cell_type": "code",
     "collapsed": false,
     "input": [
      "mp = f.mdb['parts']"
     ],
     "language": "python",
     "metadata": {},
     "outputs": [],
     "prompt_number": 63
    },
    {
     "cell_type": "code",
     "collapsed": false,
     "input": [
      "mp"
     ],
     "language": "python",
     "metadata": {},
     "outputs": [
      {
       "metadata": {},
       "output_type": "pyout",
       "prompt_number": 64,
       "text": [
        "Collection(Database(MongoClient('localhost', 27017), u'alec7'), u'parts')"
       ]
      }
     ],
     "prompt_number": 64
    },
    {
     "cell_type": "code",
     "collapsed": false,
     "input": [
      "list(mp.find())"
     ],
     "language": "python",
     "metadata": {},
     "outputs": [
      {
       "metadata": {},
       "output_type": "pyout",
       "prompt_number": 65,
       "text": [
        "[{u'_id': ObjectId('54794d4e446f52753ca6d79a'),\n",
        "  u'color': [1.0, 0.75, 0.17],\n",
        "  u'label': u'AmtR',\n",
        "  u'label_style': u'italic',\n",
        "  u'label_x_offset': -2.0,\n",
        "  u'label_y_offset': -0.5,\n",
        "  u'linewidth': 1.0,\n",
        "  u'part_name': u'C_AmtR',\n",
        "  u'pid': 1},\n",
        " {u'_id': ObjectId('54794d4e446f52753ca6d79b'),\n",
        "  u'color': [0.38, 0.82, 0.32],\n",
        "  u'label': u'LitR',\n",
        "  u'label_style': u'italic',\n",
        "  u'label_x_offset': -2.0,\n",
        "  u'label_y_offset': -0.5,\n",
        "  u'linewidth': 1.0,\n",
        "  u'part_name': u'C_LitR',\n",
        "  u'pid': 2},\n",
        " {u'_id': ObjectId('54794d4e446f52753ca6d79c'),\n",
        "  u'color': [0.95, 0.3, 0.25],\n",
        "  u'label': u'BM3R1',\n",
        "  u'label_style': u'italic',\n",
        "  u'label_x_offset': -2.0,\n",
        "  u'label_y_offset': -0.5,\n",
        "  u'linewidth': 1.0,\n",
        "  u'part_name': u'C_BM3R1',\n",
        "  u'pid': 3},\n",
        " {u'_id': ObjectId('54794d4e446f52753ca6d79d'),\n",
        "  u'color': [0.38, 0.65, 0.87],\n",
        "  u'label': u'SrpR',\n",
        "  u'label_style': u'italic',\n",
        "  u'label_x_offset': -2.0,\n",
        "  u'label_y_offset': -0.5,\n",
        "  u'linewidth': 1.0,\n",
        "  u'part_name': u'C_SrpR',\n",
        "  u'pid': 4},\n",
        " {u'_id': ObjectId('54794d4e446f52753ca6d79e'),\n",
        "  u'color': [0.55, 0.35, 0.64],\n",
        "  u'label': u'PhlF',\n",
        "  u'label_style': u'italic',\n",
        "  u'label_x_offset': -2.0,\n",
        "  u'label_y_offset': -0.5,\n",
        "  u'linewidth': 1.0,\n",
        "  u'part_name': u'C_PhlF',\n",
        "  u'pid': 5},\n",
        " {u'_id': ObjectId('54794d4e446f52753ca6d79f'),\n",
        "  u'color': [0.98, 0.97, 0.35],\n",
        "  u'label': u'YFP',\n",
        "  u'label_style': u'italic',\n",
        "  u'label_x_offset': -2.0,\n",
        "  u'label_y_offset': -0.5,\n",
        "  u'linewidth': 1.0,\n",
        "  u'part_name': u'C_YFP',\n",
        "  u'pid': 6},\n",
        " {u'_id': ObjectId('54794d4e446f52753ca6d7a0'),\n",
        "  u'end_pad': 6.0,\n",
        "  u'label': u'pTac',\n",
        "  u'label_y_offset': -9.0,\n",
        "  u'part_name': u'P_Tac',\n",
        "  u'pid': 7,\n",
        "  u'start_pad': 6.0},\n",
        " {u'_id': ObjectId('54794d4e446f52753ca6d7a1'),\n",
        "  u'end_pad': 6.0,\n",
        "  u'label': u'pTet',\n",
        "  u'label_y_offset': -9.0,\n",
        "  u'part_name': u'P_Tet',\n",
        "  u'pid': 8,\n",
        "  u'start_pad': 6.0},\n",
        " {u'_id': ObjectId('54794d4e446f52753ca6d7a2'),\n",
        "  u'end_pad': 6.0,\n",
        "  u'label': u'pBAD',\n",
        "  u'label_y_offset': -9.0,\n",
        "  u'part_name': u'P_BAD',\n",
        "  u'pid': 9,\n",
        "  u'start_pad': 6.0},\n",
        " {u'_id': ObjectId('54794d4e446f52753ca6d7a3'),\n",
        "  u'color': [0.95, 0.3, 0.25],\n",
        "  u'part_name': u'P_BM3R1',\n",
        "  u'pid': 10},\n",
        " {u'_id': ObjectId('54794d4e446f52753ca6d7a4'),\n",
        "  u'color': [1.0, 0.75, 0.17],\n",
        "  u'part_name': u'P_AmtR',\n",
        "  u'pid': 11},\n",
        " {u'_id': ObjectId('54794d4e446f52753ca6d7a5'),\n",
        "  u'color': [0.38, 0.82, 0.32],\n",
        "  u'part_name': u'P_LitR',\n",
        "  u'pid': 12},\n",
        " {u'_id': ObjectId('54794d4e446f52753ca6d7a6'),\n",
        "  u'color': [0.38, 0.65, 0.87],\n",
        "  u'part_name': u'P_SrpR',\n",
        "  u'pid': 13},\n",
        " {u'_id': ObjectId('54794d4e446f52753ca6d7a7'),\n",
        "  u'color': [0.55, 0.35, 0.64],\n",
        "  u'part_name': u'P_PhlF',\n",
        "  u'pid': 14},\n",
        " {u'_id': ObjectId('54794d4e446f52753ca6d7a8'),\n",
        "  u'linewidth': 1.0,\n",
        "  u'part_name': u'Z_Rib',\n",
        "  u'pid': 15},\n",
        " {u'_id': ObjectId('54794d4e446f52753ca6d7a9'),\n",
        "  u'part_name': u'T_Ter',\n",
        "  u'pid': 16},\n",
        " {u'_id': ObjectId('54794d4e446f52753ca6d7aa'),\n",
        "  u'color': [0.0, 0.0, 0.0],\n",
        "  u'part_name': u'R_RBS',\n",
        "  u'pid': 17},\n",
        " {u'_id': ObjectId('54794d4e446f52753ca6d7ab'),\n",
        "  u'color': [1.0, 0.75, 0.17],\n",
        "  u'part_name': u'R_AmtR',\n",
        "  u'pid': 18},\n",
        " {u'_id': ObjectId('54794d4e446f52753ca6d7ac'),\n",
        "  u'color': [0.38, 0.82, 0.32],\n",
        "  u'part_name': u'R_LitR',\n",
        "  u'pid': 19},\n",
        " {u'_id': ObjectId('54794d4e446f52753ca6d7ad'),\n",
        "  u'color': [0.95, 0.3, 0.25],\n",
        "  u'part_name': u'R_BM3R1',\n",
        "  u'pid': 20},\n",
        " {u'_id': ObjectId('54794d4e446f52753ca6d7ae'),\n",
        "  u'color': [0.38, 0.65, 0.87],\n",
        "  u'part_name': u'R_SrpR',\n",
        "  u'pid': 21},\n",
        " {u'_id': ObjectId('54794d4e446f52753ca6d7af'),\n",
        "  u'color': [0.55, 0.35, 0.64],\n",
        "  u'part_name': u'R_PhlF',\n",
        "  u'pid': 22},\n",
        " {u'_id': ObjectId('54794d4e446f52753ca6d7b0'),\n",
        "  u'color': [0.98, 0.97, 0.35],\n",
        "  u'part_name': u'R_YFP',\n",
        "  u'pid': 23}]"
       ]
      }
     ],
     "prompt_number": 65
    },
    {
     "cell_type": "code",
     "collapsed": false,
     "input": [
      "f.session.query(dbmap.Part).filter(dbmap.Part.name=='TermA').all()"
     ],
     "language": "python",
     "metadata": {},
     "outputs": [
      {
       "metadata": {},
       "output_type": "pyout",
       "prompt_number": 66,
       "text": [
        "[]"
       ]
      }
     ],
     "prompt_number": 66
    },
    {
     "cell_type": "code",
     "collapsed": false,
     "input": [
      "dbmap.Part.defined"
     ],
     "language": "python",
     "metadata": {},
     "outputs": [
      {
       "metadata": {},
       "output_type": "pyout",
       "prompt_number": 67,
       "text": [
        "['pid',\n",
        " 'ec',\n",
        " 'host',\n",
        " 'protein',\n",
        " 'dna',\n",
        " 'type',\n",
        " 'accession',\n",
        " 'enzyme',\n",
        " 'name',\n",
        " 'version',\n",
        " 'length']"
       ]
      }
     ],
     "prompt_number": 67
    },
    {
     "cell_type": "code",
     "collapsed": false,
     "input": [
      "f.load_db()"
     ],
     "language": "python",
     "metadata": {},
     "outputs": [],
     "prompt_number": 68
    },
    {
     "cell_type": "code",
     "collapsed": false,
     "input": [
      "f.import_designs(interact.parse_data(open('../library_generation/projects/alec_circuit/dna_designs.tab', \"U\")))"
     ],
     "language": "python",
     "metadata": {},
     "outputs": [
      {
       "output_type": "stream",
       "stream": "stdout",
       "text": [
        "mongo []\n",
        "sql ['name']\n",
        "ids [{u'_id': ObjectId('54794d4e446f52753ca6d79a')}, {u'_id': ObjectId('54794d4e446f52753ca6d79b')}, {u'_id': ObjectId('54794d4e446f52753ca6d79c')}, {u'_id': ObjectId('54794d4e446f52753ca6d79d')}, {u'_id': ObjectId('54794d4e446f52753ca6d79e')}, {u'_id': ObjectId('54794d4e446f52753ca6d79f')}, {u'_id': ObjectId('54794d4e446f52753ca6d7a0')}, {u'_id': ObjectId('54794d4e446f52753ca6d7a1')}, {u'_id': ObjectId('54794d4e446f52753ca6d7a2')}, {u'_id': ObjectId('54794d4e446f52753ca6d7a3')}, {u'_id': ObjectId('54794d4e446f52753ca6d7a4')}, {u'_id': ObjectId('54794d4e446f52753ca6d7a5')}, {u'_id': ObjectId('54794d4e446f52753ca6d7a6')}, {u'_id': ObjectId('54794d4e446f52753ca6d7a7')}, {u'_id': ObjectId('54794d4e446f52753ca6d7a8')}, {u'_id': ObjectId('54794d4e446f52753ca6d7a9')}, {u'_id': ObjectId('54794d4e446f52753ca6d7aa')}, {u'_id': ObjectId('54794d4e446f52753ca6d7ab')}, {u'_id': ObjectId('54794d4e446f52753ca6d7ac')}, {u'_id': ObjectId('54794d4e446f52753ca6d7ad')}, {u'_id': ObjectId('54794d4e446f52753ca6d7ae')}, {u'_id': ObjectId('54794d4e446f52753ca6d7af')}, {u'_id': ObjectId('54794d4e446f52753ca6d7b0')}]\n",
        "mongo []\n",
        "sql ['name']\n",
        "ids [{u'_id': ObjectId('54794d4e446f52753ca6d79a')}, {u'_id': ObjectId('54794d4e446f52753ca6d79b')}, {u'_id': ObjectId('54794d4e446f52753ca6d79c')}, {u'_id': ObjectId('54794d4e446f52753ca6d79d')}, {u'_id': ObjectId('54794d4e446f52753ca6d79e')}, {u'_id': ObjectId('54794d4e446f52753ca6d79f')}, {u'_id': ObjectId('54794d4e446f52753ca6d7a0')}, {u'_id': ObjectId('54794d4e446f52753ca6d7a1')}, {u'_id': ObjectId('54794d4e446f52753ca6d7a2')}, {u'_id': ObjectId('54794d4e446f52753ca6d7a3')}, {u'_id': ObjectId('54794d4e446f52753ca6d7a4')}, {u'_id': ObjectId('54794d4e446f52753ca6d7a5')}, {u'_id': ObjectId('54794d4e446f52753ca6d7a6')}, {u'_id': ObjectId('54794d4e446f52753ca6d7a7')}, {u'_id': ObjectId('54794d4e446f52753ca6d7a8')}, {u'_id': ObjectId('54794d4e446f52753ca6d7a9')}, {u'_id': ObjectId('54794d4e446f52753ca6d7aa')}, {u'_id': ObjectId('54794d4e446f52753ca6d7ab')}, {u'_id': ObjectId('54794d4e446f52753ca6d7ac')}, {u'_id': ObjectId('54794d4e446f52753ca6d7ad')}, {u'_id': ObjectId('54794d4e446f52753ca6d7ae')}, {u'_id': ObjectId('54794d4e446f52753ca6d7af')}, {u'_id': ObjectId('54794d4e446f52753ca6d7b0')}]\n",
        "mongo []\n",
        "sql ['name']\n",
        "ids [{u'_id': ObjectId('54794d4e446f52753ca6d79a')}, {u'_id': ObjectId('54794d4e446f52753ca6d79b')}, {u'_id': ObjectId('54794d4e446f52753ca6d79c')}, {u'_id': ObjectId('54794d4e446f52753ca6d79d')}, {u'_id': ObjectId('54794d4e446f52753ca6d79e')}, {u'_id': ObjectId('54794d4e446f52753ca6d79f')}, {u'_id': ObjectId('54794d4e446f52753ca6d7a0')}, {u'_id': ObjectId('54794d4e446f52753ca6d7a1')}, {u'_id': ObjectId('54794d4e446f52753ca6d7a2')}, {u'_id': ObjectId('54794d4e446f52753ca6d7a3')}, {u'_id': ObjectId('54794d4e446f52753ca6d7a4')}, {u'_id': ObjectId('54794d4e446f52753ca6d7a5')}, {u'_id': ObjectId('54794d4e446f52753ca6d7a6')}, {u'_id': ObjectId('54794d4e446f52753ca6d7a7')}, {u'_id': ObjectId('54794d4e446f52753ca6d7a8')}, {u'_id': ObjectId('54794d4e446f52753ca6d7a9')}, {u'_id': ObjectId('54794d4e446f52753ca6d7aa')}, {u'_id': ObjectId('54794d4e446f52753ca6d7ab')}, {u'_id': ObjectId('54794d4e446f52753ca6d7ac')}, {u'_id': ObjectId('54794d4e446f52753ca6d7ad')}, {u'_id': ObjectId('54794d4e446f52753ca6d7ae')}, {u'_id': ObjectId('54794d4e446f52753ca6d7af')}, {u'_id': ObjectId('54794d4e446f52753ca6d7b0')}]\n",
        "mongo []\n",
        "sql ['name']\n",
        "ids [{u'_id': ObjectId('54794d4e446f52753ca6d79a')}, {u'_id': ObjectId('54794d4e446f52753ca6d79b')}, {u'_id': ObjectId('54794d4e446f52753ca6d79c')}, {u'_id': ObjectId('54794d4e446f52753ca6d79d')}, {u'_id': ObjectId('54794d4e446f52753ca6d79e')}, {u'_id': ObjectId('54794d4e446f52753ca6d79f')}, {u'_id': ObjectId('54794d4e446f52753ca6d7a0')}, {u'_id': ObjectId('54794d4e446f52753ca6d7a1')}, {u'_id': ObjectId('54794d4e446f52753ca6d7a2')}, {u'_id': ObjectId('54794d4e446f52753ca6d7a3')}, {u'_id': ObjectId('54794d4e446f52753ca6d7a4')}, {u'_id': ObjectId('54794d4e446f52753ca6d7a5')}, {u'_id': ObjectId('54794d4e446f52753ca6d7a6')}, {u'_id': ObjectId('54794d4e446f52753ca6d7a7')}, {u'_id': ObjectId('54794d4e446f52753ca6d7a8')}, {u'_id': ObjectId('54794d4e446f52753ca6d7a9')}, {u'_id': ObjectId('54794d4e446f52753ca6d7aa')}, {u'_id': ObjectId('54794d4e446f52753ca6d7ab')}, {u'_id': ObjectId('54794d4e446f52753ca6d7ac')}, {u'_id': ObjectId('54794d4e446f52753ca6d7ad')}, {u'_id': ObjectId('54794d4e446f52753ca6d7ae')}, {u'_id': ObjectId('54794d4e446f52753ca6d7af')}, {u'_id': ObjectId('54794d4e446f52753ca6d7b0')}]\n",
        "mongo []\n",
        "sql ['name']\n",
        "ids [{u'_id': ObjectId('54794d4e446f52753ca6d79a')}, {u'_id': ObjectId('54794d4e446f52753ca6d79b')}, {u'_id': ObjectId('54794d4e446f52753ca6d79c')}, {u'_id': ObjectId('54794d4e446f52753ca6d79d')}, {u'_id': ObjectId('54794d4e446f52753ca6d79e')}, {u'_id': ObjectId('54794d4e446f52753ca6d79f')}, {u'_id': ObjectId('54794d4e446f52753ca6d7a0')}, {u'_id': ObjectId('54794d4e446f52753ca6d7a1')}, {u'_id': ObjectId('54794d4e446f52753ca6d7a2')}, {u'_id': ObjectId('54794d4e446f52753ca6d7a3')}, {u'_id': ObjectId('54794d4e446f52753ca6d7a4')}, {u'_id': ObjectId('54794d4e446f52753ca6d7a5')}, {u'_id': ObjectId('54794d4e446f52753ca6d7a6')}, {u'_id': ObjectId('54794d4e446f52753ca6d7a7')}, {u'_id': ObjectId('54794d4e446f52753ca6d7a8')}, {u'_id': ObjectId('54794d4e446f52753ca6d7a9')}, {u'_id': ObjectId('54794d4e446f52753ca6d7aa')}, {u'_id': ObjectId('54794d4e446f52753ca6d7ab')}, {u'_id': ObjectId('54794d4e446f52753ca6d7ac')}, {u'_id': ObjectId('54794d4e446f52753ca6d7ad')}, {u'_id': ObjectId('54794d4e446f52753ca6d7ae')}, {u'_id': ObjectId('54794d4e446f52753ca6d7af')}, {u'_id': ObjectId('54794d4e446f52753ca6d7b0')}]\n",
        "mongo []\n",
        "sql ['name']\n",
        "ids [{u'_id': ObjectId('54794d4e446f52753ca6d79a')}, {u'_id': ObjectId('54794d4e446f52753ca6d79b')}, {u'_id': ObjectId('54794d4e446f52753ca6d79c')}, {u'_id': ObjectId('54794d4e446f52753ca6d79d')}, {u'_id': ObjectId('54794d4e446f52753ca6d79e')}, {u'_id': ObjectId('54794d4e446f52753ca6d79f')}, {u'_id': ObjectId('54794d4e446f52753ca6d7a0')}, {u'_id': ObjectId('54794d4e446f52753ca6d7a1')}, {u'_id': ObjectId('54794d4e446f52753ca6d7a2')}, {u'_id': ObjectId('54794d4e446f52753ca6d7a3')}, {u'_id': ObjectId('54794d4e446f52753ca6d7a4')}, {u'_id': ObjectId('54794d4e446f52753ca6d7a5')}, {u'_id': ObjectId('54794d4e446f52753ca6d7a6')}, {u'_id': ObjectId('54794d4e446f52753ca6d7a7')}, {u'_id': ObjectId('54794d4e446f52753ca6d7a8')}, {u'_id': ObjectId('54794d4e446f52753ca6d7a9')}, {u'_id': ObjectId('54794d4e446f52753ca6d7aa')}, {u'_id': ObjectId('54794d4e446f52753ca6d7ab')}, {u'_id': ObjectId('54794d4e446f52753ca6d7ac')}, {u'_id': ObjectId('54794d4e446f52753ca6d7ad')}, {u'_id': ObjectId('54794d4e446f52753ca6d7ae')}, {u'_id': ObjectId('54794d4e446f52753ca6d7af')}, {u'_id': ObjectId('54794d4e446f52753ca6d7b0')}]\n",
        "mongo []\n",
        "sql ['name']\n",
        "ids [{u'_id': ObjectId('54794d4e446f52753ca6d79a')}, {u'_id': ObjectId('54794d4e446f52753ca6d79b')}, {u'_id': ObjectId('54794d4e446f52753ca6d79c')}, {u'_id': ObjectId('54794d4e446f52753ca6d79d')}, {u'_id': ObjectId('54794d4e446f52753ca6d79e')}, {u'_id': ObjectId('54794d4e446f52753ca6d79f')}, {u'_id': ObjectId('54794d4e446f52753ca6d7a0')}, {u'_id': ObjectId('54794d4e446f52753ca6d7a1')}, {u'_id': ObjectId('54794d4e446f52753ca6d7a2')}, {u'_id': ObjectId('54794d4e446f52753ca6d7a3')}, {u'_id': ObjectId('54794d4e446f52753ca6d7a4')}, {u'_id': ObjectId('54794d4e446f52753ca6d7a5')}, {u'_id': ObjectId('54794d4e446f52753ca6d7a6')}, {u'_id': ObjectId('54794d4e446f52753ca6d7a7')}, {u'_id': ObjectId('54794d4e446f52753ca6d7a8')}, {u'_id': ObjectId('54794d4e446f52753ca6d7a9')}, {u'_id': ObjectId('54794d4e446f52753ca6d7aa')}, {u'_id': ObjectId('54794d4e446f52753ca6d7ab')}, {u'_id': ObjectId('54794d4e446f52753ca6d7ac')}, {u'_id': ObjectId('54794d4e446f52753ca6d7ad')}, {u'_id': ObjectId('54794d4e446f52753ca6d7ae')}, {u'_id': ObjectId('54794d4e446f52753ca6d7af')}, {u'_id': ObjectId('54794d4e446f52753ca6d7b0')}]\n",
        "mongo []\n",
        "sql ['name']\n",
        "ids [{u'_id': ObjectId('54794d4e446f52753ca6d79a')}, {u'_id': ObjectId('54794d4e446f52753ca6d79b')}, {u'_id': ObjectId('54794d4e446f52753ca6d79c')}, {u'_id': ObjectId('54794d4e446f52753ca6d79d')}, {u'_id': ObjectId('54794d4e446f52753ca6d79e')}, {u'_id': ObjectId('54794d4e446f52753ca6d79f')}, {u'_id': ObjectId('54794d4e446f52753ca6d7a0')}, {u'_id': ObjectId('54794d4e446f52753ca6d7a1')}, {u'_id': ObjectId('54794d4e446f52753ca6d7a2')}, {u'_id': ObjectId('54794d4e446f52753ca6d7a3')}, {u'_id': ObjectId('54794d4e446f52753ca6d7a4')}, {u'_id': ObjectId('54794d4e446f52753ca6d7a5')}, {u'_id': ObjectId('54794d4e446f52753ca6d7a6')}, {u'_id': ObjectId('54794d4e446f52753ca6d7a7')}, {u'_id': ObjectId('54794d4e446f52753ca6d7a8')}, {u'_id': ObjectId('54794d4e446f52753ca6d7a9')}, {u'_id': ObjectId('54794d4e446f52753ca6d7aa')}, {u'_id': ObjectId('54794d4e446f52753ca6d7ab')}, {u'_id': ObjectId('54794d4e446f52753ca6d7ac')}, {u'_id': ObjectId('54794d4e446f52753ca6d7ad')}, {u'_id': ObjectId('54794d4e446f52753ca6d7ae')}, {u'_id': ObjectId('54794d4e446f52753ca6d7af')}, {u'_id': ObjectId('54794d4e446f52753ca6d7b0')}]\n",
        "mongo []\n",
        "sql ['name']\n",
        "ids [{u'_id': ObjectId('54794d4e446f52753ca6d79a')}, {u'_id': ObjectId('54794d4e446f52753ca6d79b')}, {u'_id': ObjectId('54794d4e446f52753ca6d79c')}, {u'_id': ObjectId('54794d4e446f52753ca6d79d')}, {u'_id': ObjectId('54794d4e446f52753ca6d79e')}, {u'_id': ObjectId('54794d4e446f52753ca6d79f')}, {u'_id': ObjectId('54794d4e446f52753ca6d7a0')}, {u'_id': ObjectId('54794d4e446f52753ca6d7a1')}, {u'_id': ObjectId('54794d4e446f52753ca6d7a2')}, {u'_id': ObjectId('54794d4e446f52753ca6d7a3')}, {u'_id': ObjectId('54794d4e446f52753ca6d7a4')}, {u'_id': ObjectId('54794d4e446f52753ca6d7a5')}, {u'_id': ObjectId('54794d4e446f52753ca6d7a6')}, {u'_id': ObjectId('54794d4e446f52753ca6d7a7')}, {u'_id': ObjectId('54794d4e446f52753ca6d7a8')}, {u'_id': ObjectId('54794d4e446f52753ca6d7a9')}, {u'_id': ObjectId('54794d4e446f52753ca6d7aa')}, {u'_id': ObjectId('54794d4e446f52753ca6d7ab')}, {u'_id': ObjectId('54794d4e446f52753ca6d7ac')}, {u'_id': ObjectId('54794d4e446f52753ca6d7ad')}, {u'_id': ObjectId('54794d4e446f52753ca6d7ae')}, {u'_id': ObjectId('54794d4e446f52753ca6d7af')}, {u'_id': ObjectId('54794d4e446f52753ca6d7b0')}]\n",
        "mongo []\n",
        "sql ['name']\n",
        "ids [{u'_id': ObjectId('54794d4e446f52753ca6d79a')}, {u'_id': ObjectId('54794d4e446f52753ca6d79b')}, {u'_id': ObjectId('54794d4e446f52753ca6d79c')}, {u'_id': ObjectId('54794d4e446f52753ca6d79d')}, {u'_id': ObjectId('54794d4e446f52753ca6d79e')}, {u'_id': ObjectId('54794d4e446f52753ca6d79f')}, {u'_id': ObjectId('54794d4e446f52753ca6d7a0')}, {u'_id': ObjectId('54794d4e446f52753ca6d7a1')}, {u'_id': ObjectId('54794d4e446f52753ca6d7a2')}, {u'_id': ObjectId('54794d4e446f52753ca6d7a3')}, {u'_id': ObjectId('54794d4e446f52753ca6d7a4')}, {u'_id': ObjectId('54794d4e446f52753ca6d7a5')}, {u'_id': ObjectId('54794d4e446f52753ca6d7a6')}, {u'_id': ObjectId('54794d4e446f52753ca6d7a7')}, {u'_id': ObjectId('54794d4e446f52753ca6d7a8')}, {u'_id': ObjectId('54794d4e446f52753ca6d7a9')}, {u'_id': ObjectId('54794d4e446f52753ca6d7aa')}, {u'_id': ObjectId('54794d4e446f52753ca6d7ab')}, {u'_id': ObjectId('54794d4e446f52753ca6d7ac')}, {u'_id': ObjectId('54794d4e446f52753ca6d7ad')}, {u'_id': ObjectId('54794d4e446f52753ca6d7ae')}, {u'_id': ObjectId('54794d4e446f52753ca6d7af')}, {u'_id': ObjectId('54794d4e446f52753ca6d7b0')}]\n",
        "mongo []\n",
        "sql ['name']\n",
        "ids [{u'_id': ObjectId('54794d4e446f52753ca6d79a')}, {u'_id': ObjectId('54794d4e446f52753ca6d79b')}, {u'_id': ObjectId('54794d4e446f52753ca6d79c')}, {u'_id': ObjectId('54794d4e446f52753ca6d79d')}, {u'_id': ObjectId('54794d4e446f52753ca6d79e')}, {u'_id': ObjectId('54794d4e446f52753ca6d79f')}, {u'_id': ObjectId('54794d4e446f52753ca6d7a0')}, {u'_id': ObjectId('54794d4e446f52753ca6d7a1')}, {u'_id': ObjectId('54794d4e446f52753ca6d7a2')}, {u'_id': ObjectId('54794d4e446f52753ca6d7a3')}, {u'_id': ObjectId('54794d4e446f52753ca6d7a4')}, {u'_id': ObjectId('54794d4e446f52753ca6d7a5')}, {u'_id': ObjectId('54794d4e446f52753ca6d7a6')}, {u'_id': ObjectId('54794d4e446f52753ca6d7a7')}, {u'_id': ObjectId('54794d4e446f52753ca6d7a8')}, {u'_id': ObjectId('54794d4e446f52753ca6d7a9')}, {u'_id': ObjectId('54794d4e446f52753ca6d7aa')}, {u'_id': ObjectId('54794d4e446f52753ca6d7ab')}, {u'_id': ObjectId('54794d4e446f52753ca6d7ac')}, {u'_id': ObjectId('54794d4e446f52753ca6d7ad')}, {u'_id': ObjectId('54794d4e446f52753ca6d7ae')}, {u'_id': ObjectId('54794d4e446f52753ca6d7af')}, {u'_id': ObjectId('54794d4e446f52753ca6d7b0')}]\n",
        "mongo []\n",
        "sql ['name']\n",
        "ids [{u'_id': ObjectId('54794d4e446f52753ca6d79a')}, {u'_id': ObjectId('54794d4e446f52753ca6d79b')}, {u'_id': ObjectId('54794d4e446f52753ca6d79c')}, {u'_id': ObjectId('54794d4e446f52753ca6d79d')}, {u'_id': ObjectId('54794d4e446f52753ca6d79e')}, {u'_id': ObjectId('54794d4e446f52753ca6d79f')}, {u'_id': ObjectId('54794d4e446f52753ca6d7a0')}, {u'_id': ObjectId('54794d4e446f52753ca6d7a1')}, {u'_id': ObjectId('54794d4e446f52753ca6d7a2')}, {u'_id': ObjectId('54794d4e446f52753ca6d7a3')}, {u'_id': ObjectId('54794d4e446f52753ca6d7a4')}, {u'_id': ObjectId('54794d4e446f52753ca6d7a5')}, {u'_id': ObjectId('54794d4e446f52753ca6d7a6')}, {u'_id': ObjectId('54794d4e446f52753ca6d7a7')}, {u'_id': ObjectId('54794d4e446f52753ca6d7a8')}, {u'_id': ObjectId('54794d4e446f52753ca6d7a9')}, {u'_id': ObjectId('54794d4e446f52753ca6d7aa')}, {u'_id': ObjectId('54794d4e446f52753ca6d7ab')}, {u'_id': ObjectId('54794d4e446f52753ca6d7ac')}, {u'_id': ObjectId('54794d4e446f52753ca6d7ad')}, {u'_id': ObjectId('54794d4e446f52753ca6d7ae')}, {u'_id': ObjectId('54794d4e446f52753ca6d7af')}, {u'_id': ObjectId('54794d4e446f52753ca6d7b0')}]\n",
        "mongo []\n",
        "sql ['name']\n",
        "ids [{u'_id': ObjectId('54794d4e446f52753ca6d79a')}, {u'_id': ObjectId('54794d4e446f52753ca6d79b')}, {u'_id': ObjectId('54794d4e446f52753ca6d79c')}, {u'_id': ObjectId('54794d4e446f52753ca6d79d')}, {u'_id': ObjectId('54794d4e446f52753ca6d79e')}, {u'_id': ObjectId('54794d4e446f52753ca6d79f')}, {u'_id': ObjectId('54794d4e446f52753ca6d7a0')}, {u'_id': ObjectId('54794d4e446f52753ca6d7a1')}, {u'_id': ObjectId('54794d4e446f52753ca6d7a2')}, {u'_id': ObjectId('54794d4e446f52753ca6d7a3')}, {u'_id': ObjectId('54794d4e446f52753ca6d7a4')}, {u'_id': ObjectId('54794d4e446f52753ca6d7a5')}, {u'_id': ObjectId('54794d4e446f52753ca6d7a6')}, {u'_id': ObjectId('54794d4e446f52753ca6d7a7')}, {u'_id': ObjectId('54794d4e446f52753ca6d7a8')}, {u'_id': ObjectId('54794d4e446f52753ca6d7a9')}, {u'_id': ObjectId('54794d4e446f52753ca6d7aa')}, {u'_id': ObjectId('54794d4e446f52753ca6d7ab')}, {u'_id': ObjectId('54794d4e446f52753ca6d7ac')}, {u'_id': ObjectId('54794d4e446f52753ca6d7ad')}, {u'_id': ObjectId('54794d4e446f52753ca6d7ae')}, {u'_id': ObjectId('54794d4e446f52753ca6d7af')}, {u'_id': ObjectId('54794d4e446f52753ca6d7b0')}]\n",
        "mongo []\n",
        "sql ['name']\n",
        "ids [{u'_id': ObjectId('54794d4e446f52753ca6d79a')}, {u'_id': ObjectId('54794d4e446f52753ca6d79b')}, {u'_id': ObjectId('54794d4e446f52753ca6d79c')}, {u'_id': ObjectId('54794d4e446f52753ca6d79d')}, {u'_id': ObjectId('54794d4e446f52753ca6d79e')}, {u'_id': ObjectId('54794d4e446f52753ca6d79f')}, {u'_id': ObjectId('54794d4e446f52753ca6d7a0')}, {u'_id': ObjectId('54794d4e446f52753ca6d7a1')}, {u'_id': ObjectId('54794d4e446f52753ca6d7a2')}, {u'_id': ObjectId('54794d4e446f52753ca6d7a3')}, {u'_id': ObjectId('54794d4e446f52753ca6d7a4')}, {u'_id': ObjectId('54794d4e446f52753ca6d7a5')}, {u'_id': ObjectId('54794d4e446f52753ca6d7a6')}, {u'_id': ObjectId('54794d4e446f52753ca6d7a7')}, {u'_id': ObjectId('54794d4e446f52753ca6d7a8')}, {u'_id': ObjectId('54794d4e446f52753ca6d7a9')}, {u'_id': ObjectId('54794d4e446f52753ca6d7aa')}, {u'_id': ObjectId('54794d4e446f52753ca6d7ab')}, {u'_id': ObjectId('54794d4e446f52753ca6d7ac')}, {u'_id': ObjectId('54794d4e446f52753ca6d7ad')}, {u'_id': ObjectId('54794d4e446f52753ca6d7ae')}, {u'_id': ObjectId('54794d4e446f52753ca6d7af')}, {u'_id': ObjectId('54794d4e446f52753ca6d7b0')}]\n",
        "mongo []\n",
        "sql ['name']\n",
        "ids [{u'_id': ObjectId('54794d4e446f52753ca6d79a')}, {u'_id': ObjectId('54794d4e446f52753ca6d79b')}, {u'_id': ObjectId('54794d4e446f52753ca6d79c')}, {u'_id': ObjectId('54794d4e446f52753ca6d79d')}, {u'_id': ObjectId('54794d4e446f52753ca6d79e')}, {u'_id': ObjectId('54794d4e446f52753ca6d79f')}, {u'_id': ObjectId('54794d4e446f52753ca6d7a0')}, {u'_id': ObjectId('54794d4e446f52753ca6d7a1')}, {u'_id': ObjectId('54794d4e446f52753ca6d7a2')}, {u'_id': ObjectId('54794d4e446f52753ca6d7a3')}, {u'_id': ObjectId('54794d4e446f52753ca6d7a4')}, {u'_id': ObjectId('54794d4e446f52753ca6d7a5')}, {u'_id': ObjectId('54794d4e446f52753ca6d7a6')}, {u'_id': ObjectId('54794d4e446f52753ca6d7a7')}, {u'_id': ObjectId('54794d4e446f52753ca6d7a8')}, {u'_id': ObjectId('54794d4e446f52753ca6d7a9')}, {u'_id': ObjectId('54794d4e446f52753ca6d7aa')}, {u'_id': ObjectId('54794d4e446f52753ca6d7ab')}, {u'_id': ObjectId('54794d4e446f52753ca6d7ac')}, {u'_id': ObjectId('54794d4e446f52753ca6d7ad')}, {u'_id': ObjectId('54794d4e446f52753ca6d7ae')}, {u'_id': ObjectId('54794d4e446f52753ca6d7af')}, {u'_id': ObjectId('54794d4e446f52753ca6d7b0')}]\n",
        "mongo []\n",
        "sql ['name']\n",
        "ids [{u'_id': ObjectId('54794d4e446f52753ca6d79a')}, {u'_id': ObjectId('54794d4e446f52753ca6d79b')}, {u'_id': ObjectId('54794d4e446f52753ca6d79c')}, {u'_id': ObjectId('54794d4e446f52753ca6d79d')}, {u'_id': ObjectId('54794d4e446f52753ca6d79e')}, {u'_id': ObjectId('54794d4e446f52753ca6d79f')}, {u'_id': ObjectId('54794d4e446f52753ca6d7a0')}, {u'_id': ObjectId('54794d4e446f52753ca6d7a1')}, {u'_id': ObjectId('54794d4e446f52753ca6d7a2')}, {u'_id': ObjectId('54794d4e446f52753ca6d7a3')}, {u'_id': ObjectId('54794d4e446f52753ca6d7a4')}, {u'_id': ObjectId('54794d4e446f52753ca6d7a5')}, {u'_id': ObjectId('54794d4e446f52753ca6d7a6')}, {u'_id': ObjectId('54794d4e446f52753ca6d7a7')}, {u'_id': ObjectId('54794d4e446f52753ca6d7a8')}, {u'_id': ObjectId('54794d4e446f52753ca6d7a9')}, {u'_id': ObjectId('54794d4e446f52753ca6d7aa')}, {u'_id': ObjectId('54794d4e446f52753ca6d7ab')}, {u'_id': ObjectId('54794d4e446f52753ca6d7ac')}, {u'_id': ObjectId('54794d4e446f52753ca6d7ad')}, {u'_id': ObjectId('54794d4e446f52753ca6d7ae')}, {u'_id': ObjectId('54794d4e446f52753ca6d7af')}, {u'_id': ObjectId('54794d4e446f52753ca6d7b0')}]\n",
        "mongo []\n",
        "sql ['name']\n",
        "ids [{u'_id': ObjectId('54794d4e446f52753ca6d79a')}, {u'_id': ObjectId('54794d4e446f52753ca6d79b')}, {u'_id': ObjectId('54794d4e446f52753ca6d79c')}, {u'_id': ObjectId('54794d4e446f52753ca6d79d')}, {u'_id': ObjectId('54794d4e446f52753ca6d79e')}, {u'_id': ObjectId('54794d4e446f52753ca6d79f')}, {u'_id': ObjectId('54794d4e446f52753ca6d7a0')}, {u'_id': ObjectId('54794d4e446f52753ca6d7a1')}, {u'_id': ObjectId('54794d4e446f52753ca6d7a2')}, {u'_id': ObjectId('54794d4e446f52753ca6d7a3')}, {u'_id': ObjectId('54794d4e446f52753ca6d7a4')}, {u'_id': ObjectId('54794d4e446f52753ca6d7a5')}, {u'_id': ObjectId('54794d4e446f52753ca6d7a6')}, {u'_id': ObjectId('54794d4e446f52753ca6d7a7')}, {u'_id': ObjectId('54794d4e446f52753ca6d7a8')}, {u'_id': ObjectId('54794d4e446f52753ca6d7a9')}, {u'_id': ObjectId('54794d4e446f52753ca6d7aa')}, {u'_id': ObjectId('54794d4e446f52753ca6d7ab')}, {u'_id': ObjectId('54794d4e446f52753ca6d7ac')}, {u'_id': ObjectId('54794d4e446f52753ca6d7ad')}, {u'_id': ObjectId('54794d4e446f52753ca6d7ae')}, {u'_id': ObjectId('54794d4e446f52753ca6d7af')}, {u'_id': ObjectId('54794d4e446f52753ca6d7b0')}]\n",
        "mongo []\n",
        "sql ['name']\n",
        "ids [{u'_id': ObjectId('54794d4e446f52753ca6d79a')}, {u'_id': ObjectId('54794d4e446f52753ca6d79b')}, {u'_id': ObjectId('54794d4e446f52753ca6d79c')}, {u'_id': ObjectId('54794d4e446f52753ca6d79d')}, {u'_id': ObjectId('54794d4e446f52753ca6d79e')}, {u'_id': ObjectId('54794d4e446f52753ca6d79f')}, {u'_id': ObjectId('54794d4e446f52753ca6d7a0')}, {u'_id': ObjectId('54794d4e446f52753ca6d7a1')}, {u'_id': ObjectId('54794d4e446f52753ca6d7a2')}, {u'_id': ObjectId('54794d4e446f52753ca6d7a3')}, {u'_id': ObjectId('54794d4e446f52753ca6d7a4')}, {u'_id': ObjectId('54794d4e446f52753ca6d7a5')}, {u'_id': ObjectId('54794d4e446f52753ca6d7a6')}, {u'_id': ObjectId('54794d4e446f52753ca6d7a7')}, {u'_id': ObjectId('54794d4e446f52753ca6d7a8')}, {u'_id': ObjectId('54794d4e446f52753ca6d7a9')}, {u'_id': ObjectId('54794d4e446f52753ca6d7aa')}, {u'_id': ObjectId('54794d4e446f52753ca6d7ab')}, {u'_id': ObjectId('54794d4e446f52753ca6d7ac')}, {u'_id': ObjectId('54794d4e446f52753ca6d7ad')}, {u'_id': ObjectId('54794d4e446f52753ca6d7ae')}, {u'_id': ObjectId('54794d4e446f52753ca6d7af')}, {u'_id': ObjectId('54794d4e446f52753ca6d7b0')}]\n",
        "mongo []\n",
        "sql ['name']\n",
        "ids [{u'_id': ObjectId('54794d4e446f52753ca6d79a')}, {u'_id': ObjectId('54794d4e446f52753ca6d79b')}, {u'_id': ObjectId('54794d4e446f52753ca6d79c')}, {u'_id': ObjectId('54794d4e446f52753ca6d79d')}, {u'_id': ObjectId('54794d4e446f52753ca6d79e')}, {u'_id': ObjectId('54794d4e446f52753ca6d79f')}, {u'_id': ObjectId('54794d4e446f52753ca6d7a0')}, {u'_id': ObjectId('54794d4e446f52753ca6d7a1')}, {u'_id': ObjectId('54794d4e446f52753ca6d7a2')}, {u'_id': ObjectId('54794d4e446f52753ca6d7a3')}, {u'_id': ObjectId('54794d4e446f52753ca6d7a4')}, {u'_id': ObjectId('54794d4e446f52753ca6d7a5')}, {u'_id': ObjectId('54794d4e446f52753ca6d7a6')}, {u'_id': ObjectId('54794d4e446f52753ca6d7a7')}, {u'_id': ObjectId('54794d4e446f52753ca6d7a8')}, {u'_id': ObjectId('54794d4e446f52753ca6d7a9')}, {u'_id': ObjectId('54794d4e446f52753ca6d7aa')}, {u'_id': ObjectId('54794d4e446f52753ca6d7ab')}, {u'_id': ObjectId('54794d4e446f52753ca6d7ac')}, {u'_id': ObjectId('54794d4e446f52753ca6d7ad')}, {u'_id': ObjectId('54794d4e446f52753ca6d7ae')}, {u'_id': ObjectId('54794d4e446f52753ca6d7af')}, {u'_id': ObjectId('54794d4e446f52753ca6d7b0')}]\n",
        "mongo []\n",
        "sql ['name']\n",
        "ids [{u'_id': ObjectId('54794d4e446f52753ca6d79a')}, {u'_id': ObjectId('54794d4e446f52753ca6d79b')}, {u'_id': ObjectId('54794d4e446f52753ca6d79c')}, {u'_id': ObjectId('54794d4e446f52753ca6d79d')}, {u'_id': ObjectId('54794d4e446f52753ca6d79e')}, {u'_id': ObjectId('54794d4e446f52753ca6d79f')}, {u'_id': ObjectId('54794d4e446f52753ca6d7a0')}, {u'_id': ObjectId('54794d4e446f52753ca6d7a1')}, {u'_id': ObjectId('54794d4e446f52753ca6d7a2')}, {u'_id': ObjectId('54794d4e446f52753ca6d7a3')}, {u'_id': ObjectId('54794d4e446f52753ca6d7a4')}, {u'_id': ObjectId('54794d4e446f52753ca6d7a5')}, {u'_id': ObjectId('54794d4e446f52753ca6d7a6')}, {u'_id': ObjectId('54794d4e446f52753ca6d7a7')}, {u'_id': ObjectId('54794d4e446f52753ca6d7a8')}, {u'_id': ObjectId('54794d4e446f52753ca6d7a9')}, {u'_id': ObjectId('54794d4e446f52753ca6d7aa')}, {u'_id': ObjectId('54794d4e446f52753ca6d7ab')}, {u'_id': ObjectId('54794d4e446f52753ca6d7ac')}, {u'_id': ObjectId('54794d4e446f52753ca6d7ad')}, {u'_id': ObjectId('54794d4e446f52753ca6d7ae')}, {u'_id': ObjectId('54794d4e446f52753ca6d7af')}, {u'_id': ObjectId('54794d4e446f52753ca6d7b0')}]\n",
        "mongo []\n",
        "sql ['name']\n",
        "ids [{u'_id': ObjectId('54794d4e446f52753ca6d79a')}, {u'_id': ObjectId('54794d4e446f52753ca6d79b')}, {u'_id': ObjectId('54794d4e446f52753ca6d79c')}, {u'_id': ObjectId('54794d4e446f52753ca6d79d')}, {u'_id': ObjectId('54794d4e446f52753ca6d79e')}, {u'_id': ObjectId('54794d4e446f52753ca6d79f')}, {u'_id': ObjectId('54794d4e446f52753ca6d7a0')}, {u'_id': ObjectId('54794d4e446f52753ca6d7a1')}, {u'_id': ObjectId('54794d4e446f52753ca6d7a2')}, {u'_id': ObjectId('54794d4e446f52753ca6d7a3')}, {u'_id': ObjectId('54794d4e446f52753ca6d7a4')}, {u'_id': ObjectId('54794d4e446f52753ca6d7a5')}, {u'_id': ObjectId('54794d4e446f52753ca6d7a6')}, {u'_id': ObjectId('54794d4e446f52753ca6d7a7')}, {u'_id': ObjectId('54794d4e446f52753ca6d7a8')}, {u'_id': ObjectId('54794d4e446f52753ca6d7a9')}, {u'_id': ObjectId('54794d4e446f52753ca6d7aa')}, {u'_id': ObjectId('54794d4e446f52753ca6d7ab')}, {u'_id': ObjectId('54794d4e446f52753ca6d7ac')}, {u'_id': ObjectId('54794d4e446f52753ca6d7ad')}, {u'_id': ObjectId('54794d4e446f52753ca6d7ae')}, {u'_id': ObjectId('54794d4e446f52753ca6d7af')}, {u'_id': ObjectId('54794d4e446f52753ca6d7b0')}]\n",
        "mongo []\n",
        "sql ['name']\n",
        "ids [{u'_id': ObjectId('54794d4e446f52753ca6d79a')}, {u'_id': ObjectId('54794d4e446f52753ca6d79b')}, {u'_id': ObjectId('54794d4e446f52753ca6d79c')}, {u'_id': ObjectId('54794d4e446f52753ca6d79d')}, {u'_id': ObjectId('54794d4e446f52753ca6d79e')}, {u'_id': ObjectId('54794d4e446f52753ca6d79f')}, {u'_id': ObjectId('54794d4e446f52753ca6d7a0')}, {u'_id': ObjectId('54794d4e446f52753ca6d7a1')}, {u'_id': ObjectId('54794d4e446f52753ca6d7a2')}, {u'_id': ObjectId('54794d4e446f52753ca6d7a3')}, {u'_id': ObjectId('54794d4e446f52753ca6d7a4')}, {u'_id': ObjectId('54794d4e446f52753ca6d7a5')}, {u'_id': ObjectId('54794d4e446f52753ca6d7a6')}, {u'_id': ObjectId('54794d4e446f52753ca6d7a7')}, {u'_id': ObjectId('54794d4e446f52753ca6d7a8')}, {u'_id': ObjectId('54794d4e446f52753ca6d7a9')}, {u'_id': ObjectId('54794d4e446f52753ca6d7aa')}, {u'_id': ObjectId('54794d4e446f52753ca6d7ab')}, {u'_id': ObjectId('54794d4e446f52753ca6d7ac')}, {u'_id': ObjectId('54794d4e446f52753ca6d7ad')}, {u'_id': ObjectId('54794d4e446f52753ca6d7ae')}, {u'_id': ObjectId('54794d4e446f52753ca6d7af')}, {u'_id': ObjectId('54794d4e446f52753ca6d7b0')}]\n",
        "mongo []\n",
        "sql ['name']\n",
        "ids [{u'_id': ObjectId('54794d4e446f52753ca6d79a')}, {u'_id': ObjectId('54794d4e446f52753ca6d79b')}, {u'_id': ObjectId('54794d4e446f52753ca6d79c')}, {u'_id': ObjectId('54794d4e446f52753ca6d79d')}, {u'_id': ObjectId('54794d4e446f52753ca6d79e')}, {u'_id': ObjectId('54794d4e446f52753ca6d79f')}, {u'_id': ObjectId('54794d4e446f52753ca6d7a0')}, {u'_id': ObjectId('54794d4e446f52753ca6d7a1')}, {u'_id': ObjectId('54794d4e446f52753ca6d7a2')}, {u'_id': ObjectId('54794d4e446f52753ca6d7a3')}, {u'_id': ObjectId('54794d4e446f52753ca6d7a4')}, {u'_id': ObjectId('54794d4e446f52753ca6d7a5')}, {u'_id': ObjectId('54794d4e446f52753ca6d7a6')}, {u'_id': ObjectId('54794d4e446f52753ca6d7a7')}, {u'_id': ObjectId('54794d4e446f52753ca6d7a8')}, {u'_id': ObjectId('54794d4e446f52753ca6d7a9')}, {u'_id': ObjectId('54794d4e446f52753ca6d7aa')}, {u'_id': ObjectId('54794d4e446f52753ca6d7ab')}, {u'_id': ObjectId('54794d4e446f52753ca6d7ac')}, {u'_id': ObjectId('54794d4e446f52753ca6d7ad')}, {u'_id': ObjectId('54794d4e446f52753ca6d7ae')}, {u'_id': ObjectId('54794d4e446f52753ca6d7af')}, {u'_id': ObjectId('54794d4e446f52753ca6d7b0')}]\n",
        "mongo []\n",
        "sql ['name']\n",
        "ids [{u'_id': ObjectId('54794d4e446f52753ca6d79a')}, {u'_id': ObjectId('54794d4e446f52753ca6d79b')}, {u'_id': ObjectId('54794d4e446f52753ca6d79c')}, {u'_id': ObjectId('54794d4e446f52753ca6d79d')}, {u'_id': ObjectId('54794d4e446f52753ca6d79e')}, {u'_id': ObjectId('54794d4e446f52753ca6d79f')}, {u'_id': ObjectId('54794d4e446f52753ca6d7a0')}, {u'_id': ObjectId('54794d4e446f52753ca6d7a1')}, {u'_id': ObjectId('54794d4e446f52753ca6d7a2')}, {u'_id': ObjectId('54794d4e446f52753ca6d7a3')}, {u'_id': ObjectId('54794d4e446f52753ca6d7a4')}, {u'_id': ObjectId('54794d4e446f52753ca6d7a5')}, {u'_id': ObjectId('54794d4e446f52753ca6d7a6')}, {u'_id': ObjectId('54794d4e446f52753ca6d7a7')}, {u'_id': ObjectId('54794d4e446f52753ca6d7a8')}, {u'_id': ObjectId('54794d4e446f52753ca6d7a9')}, {u'_id': ObjectId('54794d4e446f52753ca6d7aa')}, {u'_id': ObjectId('54794d4e446f52753ca6d7ab')}, {u'_id': ObjectId('54794d4e446f52753ca6d7ac')}, {u'_id': ObjectId('54794d4e446f52753ca6d7ad')}, {u'_id': ObjectId('54794d4e446f52753ca6d7ae')}, {u'_id': ObjectId('54794d4e446f52753ca6d7af')}, {u'_id': ObjectId('54794d4e446f52753ca6d7b0')}]\n",
        "mongo []\n",
        "sql ['name']\n",
        "ids [{u'_id': ObjectId('54794d4e446f52753ca6d79a')}, {u'_id': ObjectId('54794d4e446f52753ca6d79b')}, {u'_id': ObjectId('54794d4e446f52753ca6d79c')}, {u'_id': ObjectId('54794d4e446f52753ca6d79d')}, {u'_id': ObjectId('54794d4e446f52753ca6d79e')}, {u'_id': ObjectId('54794d4e446f52753ca6d79f')}, {u'_id': ObjectId('54794d4e446f52753ca6d7a0')}, {u'_id': ObjectId('54794d4e446f52753ca6d7a1')}, {u'_id': ObjectId('54794d4e446f52753ca6d7a2')}, {u'_id': ObjectId('54794d4e446f52753ca6d7a3')}, {u'_id': ObjectId('54794d4e446f52753ca6d7a4')}, {u'_id': ObjectId('54794d4e446f52753ca6d7a5')}, {u'_id': ObjectId('54794d4e446f52753ca6d7a6')}, {u'_id': ObjectId('54794d4e446f52753ca6d7a7')}, {u'_id': ObjectId('54794d4e446f52753ca6d7a8')}, {u'_id': ObjectId('54794d4e446f52753ca6d7a9')}, {u'_id': ObjectId('54794d4e446f52753ca6d7aa')}, {u'_id': ObjectId('54794d4e446f52753ca6d7ab')}, {u'_id': ObjectId('54794d4e446f52753ca6d7ac')}, {u'_id': ObjectId('54794d4e446f52753ca6d7ad')}, {u'_id': ObjectId('54794d4e446f52753ca6d7ae')}, {u'_id': ObjectId('54794d4e446f52753ca6d7af')}, {u'_id': ObjectId('54794d4e446f52753ca6d7b0')}]\n",
        "mongo []\n",
        "sql ['name']\n",
        "ids [{u'_id': ObjectId('54794d4e446f52753ca6d79a')}, {u'_id': ObjectId('54794d4e446f52753ca6d79b')}, {u'_id': ObjectId('54794d4e446f52753ca6d79c')}, {u'_id': ObjectId('54794d4e446f52753ca6d79d')}, {u'_id': ObjectId('54794d4e446f52753ca6d79e')}, {u'_id': ObjectId('54794d4e446f52753ca6d79f')}, {u'_id': ObjectId('54794d4e446f52753ca6d7a0')}, {u'_id': ObjectId('54794d4e446f52753ca6d7a1')}, {u'_id': ObjectId('54794d4e446f52753ca6d7a2')}, {u'_id': ObjectId('54794d4e446f52753ca6d7a3')}, {u'_id': ObjectId('54794d4e446f52753ca6d7a4')}, {u'_id': ObjectId('54794d4e446f52753ca6d7a5')}, {u'_id': ObjectId('54794d4e446f52753ca6d7a6')}, {u'_id': ObjectId('54794d4e446f52753ca6d7a7')}, {u'_id': ObjectId('54794d4e446f52753ca6d7a8')}, {u'_id': ObjectId('54794d4e446f52753ca6d7a9')}, {u'_id': ObjectId('54794d4e446f52753ca6d7aa')}, {u'_id': ObjectId('54794d4e446f52753ca6d7ab')}, {u'_id': ObjectId('54794d4e446f52753ca6d7ac')}, {u'_id': ObjectId('54794d4e446f52753ca6d7ad')}, {u'_id': ObjectId('54794d4e446f52753ca6d7ae')}, {u'_id': ObjectId('54794d4e446f52753ca6d7af')}, {u'_id': ObjectId('54794d4e446f52753ca6d7b0')}]\n",
        "mongo []\n",
        "sql ['name']\n",
        "ids [{u'_id': ObjectId('54794d4e446f52753ca6d79a')}, {u'_id': ObjectId('54794d4e446f52753ca6d79b')}, {u'_id': ObjectId('54794d4e446f52753ca6d79c')}, {u'_id': ObjectId('54794d4e446f52753ca6d79d')}, {u'_id': ObjectId('54794d4e446f52753ca6d79e')}, {u'_id': ObjectId('54794d4e446f52753ca6d79f')}, {u'_id': ObjectId('54794d4e446f52753ca6d7a0')}, {u'_id': ObjectId('54794d4e446f52753ca6d7a1')}, {u'_id': ObjectId('54794d4e446f52753ca6d7a2')}, {u'_id': ObjectId('54794d4e446f52753ca6d7a3')}, {u'_id': ObjectId('54794d4e446f52753ca6d7a4')}, {u'_id': ObjectId('54794d4e446f52753ca6d7a5')}, {u'_id': ObjectId('54794d4e446f52753ca6d7a6')}, {u'_id': ObjectId('54794d4e446f52753ca6d7a7')}, {u'_id': ObjectId('54794d4e446f52753ca6d7a8')}, {u'_id': ObjectId('54794d4e446f52753ca6d7a9')}, {u'_id': ObjectId('54794d4e446f52753ca6d7aa')}, {u'_id': ObjectId('54794d4e446f52753ca6d7ab')}, {u'_id': ObjectId('54794d4e446f52753ca6d7ac')}, {u'_id': ObjectId('54794d4e446f52753ca6d7ad')}, {u'_id': ObjectId('54794d4e446f52753ca6d7ae')}, {u'_id': ObjectId('54794d4e446f52753ca6d7af')}, {u'_id': ObjectId('54794d4e446f52753ca6d7b0')}]\n",
        "mongo []\n",
        "sql ['name']\n",
        "ids [{u'_id': ObjectId('54794d4e446f52753ca6d79a')}, {u'_id': ObjectId('54794d4e446f52753ca6d79b')}, {u'_id': ObjectId('54794d4e446f52753ca6d79c')}, {u'_id': ObjectId('54794d4e446f52753ca6d79d')}, {u'_id': ObjectId('54794d4e446f52753ca6d79e')}, {u'_id': ObjectId('54794d4e446f52753ca6d79f')}, {u'_id': ObjectId('54794d4e446f52753ca6d7a0')}, {u'_id': ObjectId('54794d4e446f52753ca6d7a1')}, {u'_id': ObjectId('54794d4e446f52753ca6d7a2')}, {u'_id': ObjectId('54794d4e446f52753ca6d7a3')}, {u'_id': ObjectId('54794d4e446f52753ca6d7a4')}, {u'_id': ObjectId('54794d4e446f52753ca6d7a5')}, {u'_id': ObjectId('54794d4e446f52753ca6d7a6')}, {u'_id': ObjectId('54794d4e446f52753ca6d7a7')}, {u'_id': ObjectId('54794d4e446f52753ca6d7a8')}, {u'_id': ObjectId('54794d4e446f52753ca6d7a9')}, {u'_id': ObjectId('54794d4e446f52753ca6d7aa')}, {u'_id': ObjectId('54794d4e446f52753ca6d7ab')}, {u'_id': ObjectId('54794d4e446f52753ca6d7ac')}, {u'_id': ObjectId('54794d4e446f52753ca6d7ad')}, {u'_id': ObjectId('54794d4e446f52753ca6d7ae')}, {u'_id': ObjectId('54794d4e446f52753ca6d7af')}, {u'_id': ObjectId('54794d4e446f52753ca6d7b0')}]\n",
        "mongo []\n",
        "sql ['name']\n",
        "ids [{u'_id': ObjectId('54794d4e446f52753ca6d79a')}, {u'_id': ObjectId('54794d4e446f52753ca6d79b')}, {u'_id': ObjectId('54794d4e446f52753ca6d79c')}, {u'_id': ObjectId('54794d4e446f52753ca6d79d')}, {u'_id': ObjectId('54794d4e446f52753ca6d79e')}, {u'_id': ObjectId('54794d4e446f52753ca6d79f')}, {u'_id': ObjectId('54794d4e446f52753ca6d7a0')}, {u'_id': ObjectId('54794d4e446f52753ca6d7a1')}, {u'_id': ObjectId('54794d4e446f52753ca6d7a2')}, {u'_id': ObjectId('54794d4e446f52753ca6d7a3')}, {u'_id': ObjectId('54794d4e446f52753ca6d7a4')}, {u'_id': ObjectId('54794d4e446f52753ca6d7a5')}, {u'_id': ObjectId('54794d4e446f52753ca6d7a6')}, {u'_id': ObjectId('54794d4e446f52753ca6d7a7')}, {u'_id': ObjectId('54794d4e446f52753ca6d7a8')}, {u'_id': ObjectId('54794d4e446f52753ca6d7a9')}, {u'_id': ObjectId('54794d4e446f52753ca6d7aa')}, {u'_id': ObjectId('54794d4e446f52753ca6d7ab')}, {u'_id': ObjectId('54794d4e446f52753ca6d7ac')}, {u'_id': ObjectId('54794d4e446f52753ca6d7ad')}, {u'_id': ObjectId('54794d4e446f52753ca6d7ae')}, {u'_id': ObjectId('54794d4e446f52753ca6d7af')}, {u'_id': ObjectId('54794d4e446f52753ca6d7b0')}]\n",
        "mongo []\n",
        "sql ['name']\n",
        "ids [{u'_id': ObjectId('54794d4e446f52753ca6d79a')}, {u'_id': ObjectId('54794d4e446f52753ca6d79b')}, {u'_id': ObjectId('54794d4e446f52753ca6d79c')}, {u'_id': ObjectId('54794d4e446f52753ca6d79d')}, {u'_id': ObjectId('54794d4e446f52753ca6d79e')}, {u'_id': ObjectId('54794d4e446f52753ca6d79f')}, {u'_id': ObjectId('54794d4e446f52753ca6d7a0')}, {u'_id': ObjectId('54794d4e446f52753ca6d7a1')}, {u'_id': ObjectId('54794d4e446f52753ca6d7a2')}, {u'_id': ObjectId('54794d4e446f52753ca6d7a3')}, {u'_id': ObjectId('54794d4e446f52753ca6d7a4')}, {u'_id': ObjectId('54794d4e446f52753ca6d7a5')}, {u'_id': ObjectId('54794d4e446f52753ca6d7a6')}, {u'_id': ObjectId('54794d4e446f52753ca6d7a7')}, {u'_id': ObjectId('54794d4e446f52753ca6d7a8')}, {u'_id': ObjectId('54794d4e446f52753ca6d7a9')}, {u'_id': ObjectId('54794d4e446f52753ca6d7aa')}, {u'_id': ObjectId('54794d4e446f52753ca6d7ab')}, {u'_id': ObjectId('54794d4e446f52753ca6d7ac')}, {u'_id': ObjectId('54794d4e446f52753ca6d7ad')}, {u'_id': ObjectId('54794d4e446f52753ca6d7ae')}, {u'_id': ObjectId('54794d4e446f52753ca6d7af')}, {u'_id': ObjectId('54794d4e446f52753ca6d7b0')}]\n",
        "mongo"
       ]
      },
      {
       "output_type": "stream",
       "stream": "stdout",
       "text": [
        " []\n",
        "sql ['name']\n",
        "ids [{u'_id': ObjectId('54794d4e446f52753ca6d79a')}, {u'_id': ObjectId('54794d4e446f52753ca6d79b')}, {u'_id': ObjectId('54794d4e446f52753ca6d79c')}, {u'_id': ObjectId('54794d4e446f52753ca6d79d')}, {u'_id': ObjectId('54794d4e446f52753ca6d79e')}, {u'_id': ObjectId('54794d4e446f52753ca6d79f')}, {u'_id': ObjectId('54794d4e446f52753ca6d7a0')}, {u'_id': ObjectId('54794d4e446f52753ca6d7a1')}, {u'_id': ObjectId('54794d4e446f52753ca6d7a2')}, {u'_id': ObjectId('54794d4e446f52753ca6d7a3')}, {u'_id': ObjectId('54794d4e446f52753ca6d7a4')}, {u'_id': ObjectId('54794d4e446f52753ca6d7a5')}, {u'_id': ObjectId('54794d4e446f52753ca6d7a6')}, {u'_id': ObjectId('54794d4e446f52753ca6d7a7')}, {u'_id': ObjectId('54794d4e446f52753ca6d7a8')}, {u'_id': ObjectId('54794d4e446f52753ca6d7a9')}, {u'_id': ObjectId('54794d4e446f52753ca6d7aa')}, {u'_id': ObjectId('54794d4e446f52753ca6d7ab')}, {u'_id': ObjectId('54794d4e446f52753ca6d7ac')}, {u'_id': ObjectId('54794d4e446f52753ca6d7ad')}, {u'_id': ObjectId('54794d4e446f52753ca6d7ae')}, {u'_id': ObjectId('54794d4e446f52753ca6d7af')}, {u'_id': ObjectId('54794d4e446f52753ca6d7b0')}]\n",
        "mongo []\n",
        "sql ['name']\n",
        "ids [{u'_id': ObjectId('54794d4e446f52753ca6d79a')}, {u'_id': ObjectId('54794d4e446f52753ca6d79b')}, {u'_id': ObjectId('54794d4e446f52753ca6d79c')}, {u'_id': ObjectId('54794d4e446f52753ca6d79d')}, {u'_id': ObjectId('54794d4e446f52753ca6d79e')}, {u'_id': ObjectId('54794d4e446f52753ca6d79f')}, {u'_id': ObjectId('54794d4e446f52753ca6d7a0')}, {u'_id': ObjectId('54794d4e446f52753ca6d7a1')}, {u'_id': ObjectId('54794d4e446f52753ca6d7a2')}, {u'_id': ObjectId('54794d4e446f52753ca6d7a3')}, {u'_id': ObjectId('54794d4e446f52753ca6d7a4')}, {u'_id': ObjectId('54794d4e446f52753ca6d7a5')}, {u'_id': ObjectId('54794d4e446f52753ca6d7a6')}, {u'_id': ObjectId('54794d4e446f52753ca6d7a7')}, {u'_id': ObjectId('54794d4e446f52753ca6d7a8')}, {u'_id': ObjectId('54794d4e446f52753ca6d7a9')}, {u'_id': ObjectId('54794d4e446f52753ca6d7aa')}, {u'_id': ObjectId('54794d4e446f52753ca6d7ab')}, {u'_id': ObjectId('54794d4e446f52753ca6d7ac')}, {u'_id': ObjectId('54794d4e446f52753ca6d7ad')}, {u'_id': ObjectId('54794d4e446f52753ca6d7ae')}, {u'_id': ObjectId('54794d4e446f52753ca6d7af')}, {u'_id': ObjectId('54794d4e446f52753ca6d7b0')}]\n",
        "mongo []\n",
        "sql ['name']\n",
        "ids [{u'_id': ObjectId('54794d4e446f52753ca6d79a')}, {u'_id': ObjectId('54794d4e446f52753ca6d79b')}, {u'_id': ObjectId('54794d4e446f52753ca6d79c')}, {u'_id': ObjectId('54794d4e446f52753ca6d79d')}, {u'_id': ObjectId('54794d4e446f52753ca6d79e')}, {u'_id': ObjectId('54794d4e446f52753ca6d79f')}, {u'_id': ObjectId('54794d4e446f52753ca6d7a0')}, {u'_id': ObjectId('54794d4e446f52753ca6d7a1')}, {u'_id': ObjectId('54794d4e446f52753ca6d7a2')}, {u'_id': ObjectId('54794d4e446f52753ca6d7a3')}, {u'_id': ObjectId('54794d4e446f52753ca6d7a4')}, {u'_id': ObjectId('54794d4e446f52753ca6d7a5')}, {u'_id': ObjectId('54794d4e446f52753ca6d7a6')}, {u'_id': ObjectId('54794d4e446f52753ca6d7a7')}, {u'_id': ObjectId('54794d4e446f52753ca6d7a8')}, {u'_id': ObjectId('54794d4e446f52753ca6d7a9')}, {u'_id': ObjectId('54794d4e446f52753ca6d7aa')}, {u'_id': ObjectId('54794d4e446f52753ca6d7ab')}, {u'_id': ObjectId('54794d4e446f52753ca6d7ac')}, {u'_id': ObjectId('54794d4e446f52753ca6d7ad')}, {u'_id': ObjectId('54794d4e446f52753ca6d7ae')}, {u'_id': ObjectId('54794d4e446f52753ca6d7af')}, {u'_id': ObjectId('54794d4e446f52753ca6d7b0')}]\n",
        "mongo []\n",
        "sql ['name']\n",
        "ids [{u'_id': ObjectId('54794d4e446f52753ca6d79a')}, {u'_id': ObjectId('54794d4e446f52753ca6d79b')}, {u'_id': ObjectId('54794d4e446f52753ca6d79c')}, {u'_id': ObjectId('54794d4e446f52753ca6d79d')}, {u'_id': ObjectId('54794d4e446f52753ca6d79e')}, {u'_id': ObjectId('54794d4e446f52753ca6d79f')}, {u'_id': ObjectId('54794d4e446f52753ca6d7a0')}, {u'_id': ObjectId('54794d4e446f52753ca6d7a1')}, {u'_id': ObjectId('54794d4e446f52753ca6d7a2')}, {u'_id': ObjectId('54794d4e446f52753ca6d7a3')}, {u'_id': ObjectId('54794d4e446f52753ca6d7a4')}, {u'_id': ObjectId('54794d4e446f52753ca6d7a5')}, {u'_id': ObjectId('54794d4e446f52753ca6d7a6')}, {u'_id': ObjectId('54794d4e446f52753ca6d7a7')}, {u'_id': ObjectId('54794d4e446f52753ca6d7a8')}, {u'_id': ObjectId('54794d4e446f52753ca6d7a9')}, {u'_id': ObjectId('54794d4e446f52753ca6d7aa')}, {u'_id': ObjectId('54794d4e446f52753ca6d7ab')}, {u'_id': ObjectId('54794d4e446f52753ca6d7ac')}, {u'_id': ObjectId('54794d4e446f52753ca6d7ad')}, {u'_id': ObjectId('54794d4e446f52753ca6d7ae')}, {u'_id': ObjectId('54794d4e446f52753ca6d7af')}, {u'_id': ObjectId('54794d4e446f52753ca6d7b0')}]\n"
       ]
      }
     ],
     "prompt_number": 69
    },
    {
     "cell_type": "code",
     "collapsed": false,
     "input": [
      "f.load_db()"
     ],
     "language": "python",
     "metadata": {},
     "outputs": [],
     "prompt_number": 72
    },
    {
     "cell_type": "code",
     "collapsed": false,
     "input": [
      "import dnaplotlib"
     ],
     "language": "python",
     "metadata": {},
     "outputs": [],
     "prompt_number": 73
    },
    {
     "cell_type": "code",
     "collapsed": false,
     "input": [
      "reload(dnaplotlib)"
     ],
     "language": "python",
     "metadata": {},
     "outputs": [
      {
       "metadata": {},
       "output_type": "pyout",
       "prompt_number": 74,
       "text": [
        "<module 'dnaplotlib' from '/media/storage/EG/code/dnaplotlib/dnaplotlib.pyc'>"
       ]
      }
     ],
     "prompt_number": 74
    },
    {
     "cell_type": "code",
     "collapsed": false,
     "input": [
      "design[1]"
     ],
     "language": "python",
     "metadata": {},
     "outputs": [
      {
       "metadata": {},
       "output_type": "pyout",
       "prompt_number": 75,
       "text": [
        "[{'end': 14.0,\n",
        "  'fwd': True,\n",
        "  'name': u'P_Tac',\n",
        "  'opts': {u'_id': ObjectId('5478ed03446f52753ca6d777'),\n",
        "   u'label': u'pTac',\n",
        "   u'label_y_offset': -8.0,\n",
        "   u'pid': 7},\n",
        "  'start': 0,\n",
        "  'type': u'Promoter'},\n",
        " {'end': 28.0,\n",
        "  'fwd': True,\n",
        "  'name': u'P_Tet',\n",
        "  'opts': {u'_id': ObjectId('5478ed03446f52753ca6d778'),\n",
        "   u'label': u'pTet',\n",
        "   u'label_y_offset': -8.0,\n",
        "   u'pid': 8},\n",
        "  'start': 14.0,\n",
        "  'type': u'Promoter'},\n",
        " {'end': 37.0,\n",
        "  'fwd': True,\n",
        "  'name': u'Z_Rib',\n",
        "  'opts': {u'_id': ObjectId('5478ed03446f52753ca6d77f'),\n",
        "   u'linewidth': 1.0,\n",
        "   u'pid': 15},\n",
        "  'start': 28.0,\n",
        "  'type': u'Ribozyme'},\n",
        " {'end': 51.0,\n",
        "  'fwd': True,\n",
        "  'name': u'R_RBS',\n",
        "  'opts': {u'_id': ObjectId('5478ed03446f52753ca6d781'), u'pid': 17},\n",
        "  'start': 37.0,\n",
        "  'type': u'RBS'},\n",
        " {'end': 83.0,\n",
        "  'fwd': True,\n",
        "  'name': u'C_AmtR',\n",
        "  'opts': {u'_id': ObjectId('5478ed02446f52753ca6d771'),\n",
        "   u'color': [1.0, 0.75, 0.17],\n",
        "   u'label': u'AmtR',\n",
        "   u'label_style': u'italic',\n",
        "   u'label_x_offset': -2.0,\n",
        "   u'linewidth': 1.0,\n",
        "   u'pid': 1},\n",
        "  'start': 51.0,\n",
        "  'type': u'CDS'},\n",
        " {'end': 95.0,\n",
        "  'fwd': True,\n",
        "  'name': u'T_Ter',\n",
        "  'opts': {u'_id': ObjectId('5478ed03446f52753ca6d780'), u'pid': 16},\n",
        "  'start': 83.0,\n",
        "  'type': u'Terminator'},\n",
        " {'end': 109.0,\n",
        "  'fwd': True,\n",
        "  'name': u'P_BAD',\n",
        "  'opts': {u'_id': ObjectId('5478ed03446f52753ca6d779'),\n",
        "   u'label': u'pBAD',\n",
        "   u'label_y_offset': -8.0,\n",
        "   u'pid': 9},\n",
        "  'start': 95.0,\n",
        "  'type': u'Promoter'},\n",
        " {'end': 123.0,\n",
        "  'fwd': True,\n",
        "  'name': u'P_Tet',\n",
        "  'opts': {u'_id': ObjectId('5478ed03446f52753ca6d778'),\n",
        "   u'label': u'pTet',\n",
        "   u'label_y_offset': -8.0,\n",
        "   u'pid': 8},\n",
        "  'start': 109.0,\n",
        "  'type': u'Promoter'},\n",
        " {'end': 132.0,\n",
        "  'fwd': True,\n",
        "  'name': u'Z_Rib',\n",
        "  'opts': {u'_id': ObjectId('5478ed03446f52753ca6d77f'),\n",
        "   u'linewidth': 1.0,\n",
        "   u'pid': 15},\n",
        "  'start': 123.0,\n",
        "  'type': u'Ribozyme'},\n",
        " {'end': 146.0,\n",
        "  'fwd': True,\n",
        "  'name': u'R_RBS',\n",
        "  'opts': {u'_id': ObjectId('5478ed03446f52753ca6d781'), u'pid': 17},\n",
        "  'start': 132.0,\n",
        "  'type': u'RBS'},\n",
        " {'end': 178.0,\n",
        "  'fwd': True,\n",
        "  'name': u'C_LitR',\n",
        "  'opts': {u'_id': ObjectId('5478ed03446f52753ca6d772'),\n",
        "   u'color': [0.38, 0.82, 0.32],\n",
        "   u'label': u'LitR',\n",
        "   u'label_style': u'italic',\n",
        "   u'label_x_offset': -2.0,\n",
        "   u'linewidth': 1.0,\n",
        "   u'pid': 2},\n",
        "  'start': 146.0,\n",
        "  'type': u'CDS'},\n",
        " {'end': 190.0,\n",
        "  'fwd': True,\n",
        "  'name': u'T_Ter',\n",
        "  'opts': {u'_id': ObjectId('5478ed03446f52753ca6d780'), u'pid': 16},\n",
        "  'start': 178.0,\n",
        "  'type': u'Terminator'},\n",
        " {'end': 204.0,\n",
        "  'fwd': True,\n",
        "  'name': u'P_BAD',\n",
        "  'opts': {u'_id': ObjectId('5478ed03446f52753ca6d779'),\n",
        "   u'label': u'pBAD',\n",
        "   u'label_y_offset': -8.0,\n",
        "   u'pid': 9},\n",
        "  'start': 190.0,\n",
        "  'type': u'Promoter'},\n",
        " {'end': 213.0,\n",
        "  'fwd': True,\n",
        "  'name': u'Z_Rib',\n",
        "  'opts': {u'_id': ObjectId('5478ed03446f52753ca6d77f'),\n",
        "   u'linewidth': 1.0,\n",
        "   u'pid': 15},\n",
        "  'start': 204.0,\n",
        "  'type': u'Ribozyme'},\n",
        " {'end': 227.0,\n",
        "  'fwd': True,\n",
        "  'name': u'R_RBS',\n",
        "  'opts': {u'_id': ObjectId('5478ed03446f52753ca6d781'), u'pid': 17},\n",
        "  'start': 213.0,\n",
        "  'type': u'RBS'},\n",
        " {'end': 259.0,\n",
        "  'fwd': True,\n",
        "  'name': u'C_BM3R1',\n",
        "  'opts': {u'_id': ObjectId('5478ed03446f52753ca6d773'),\n",
        "   u'color': [0.95, 0.3, 0.25],\n",
        "   u'label': u'BM3R1',\n",
        "   u'label_style': u'italic',\n",
        "   u'label_x_offset': -2.0,\n",
        "   u'linewidth': 1.0,\n",
        "   u'pid': 3},\n",
        "  'start': 227.0,\n",
        "  'type': u'CDS'},\n",
        " {'end': 271.0,\n",
        "  'fwd': True,\n",
        "  'name': u'T_Ter',\n",
        "  'opts': {u'_id': ObjectId('5478ed03446f52753ca6d780'), u'pid': 16},\n",
        "  'start': 259.0,\n",
        "  'type': u'Terminator'},\n",
        " {'end': 285.0,\n",
        "  'fwd': True,\n",
        "  'name': u'P_BM3R1',\n",
        "  'opts': {u'_id': ObjectId('5478ed03446f52753ca6d77a'),\n",
        "   u'color': [0.95, 0.3, 0.25],\n",
        "   u'pid': 10},\n",
        "  'start': 271.0,\n",
        "  'type': u'Promoter'},\n",
        " {'end': 299.0,\n",
        "  'fwd': True,\n",
        "  'name': u'P_AmtR',\n",
        "  'opts': {u'_id': ObjectId('5478ed03446f52753ca6d77b'),\n",
        "   u'color': [1.0, 0.75, 0.17],\n",
        "   u'pid': 11},\n",
        "  'start': 285.0,\n",
        "  'type': u'Promoter'},\n",
        " {'end': 308.0,\n",
        "  'fwd': True,\n",
        "  'name': u'Z_Rib',\n",
        "  'opts': {u'_id': ObjectId('5478ed03446f52753ca6d77f'),\n",
        "   u'linewidth': 1.0,\n",
        "   u'pid': 15},\n",
        "  'start': 299.0,\n",
        "  'type': u'Ribozyme'},\n",
        " {'end': 322.0,\n",
        "  'fwd': True,\n",
        "  'name': u'R_RBS',\n",
        "  'opts': {u'_id': ObjectId('5478ed03446f52753ca6d781'), u'pid': 17},\n",
        "  'start': 308.0,\n",
        "  'type': u'RBS'},\n",
        " {'end': 354.0,\n",
        "  'fwd': True,\n",
        "  'name': u'C_SrpR',\n",
        "  'opts': {u'_id': ObjectId('5478ed03446f52753ca6d774'),\n",
        "   u'color': [0.38, 0.65, 0.87],\n",
        "   u'label': u'SrpR',\n",
        "   u'label_style': u'italic',\n",
        "   u'label_x_offset': -2.0,\n",
        "   u'linewidth': 1.0,\n",
        "   u'pid': 4},\n",
        "  'start': 322.0,\n",
        "  'type': u'CDS'},\n",
        " {'end': 366.0,\n",
        "  'fwd': True,\n",
        "  'name': u'T_Ter',\n",
        "  'opts': {u'_id': ObjectId('5478ed03446f52753ca6d780'), u'pid': 16},\n",
        "  'start': 354.0,\n",
        "  'type': u'Terminator'},\n",
        " {'end': 380.0,\n",
        "  'fwd': True,\n",
        "  'name': u'P_SrpR',\n",
        "  'opts': {u'_id': ObjectId('5478ed03446f52753ca6d77d'),\n",
        "   u'color': [0.38, 0.65, 0.87],\n",
        "   u'pid': 13},\n",
        "  'start': 366.0,\n",
        "  'type': u'Promoter'},\n",
        " {'end': 394.0,\n",
        "  'fwd': True,\n",
        "  'name': u'P_LitR',\n",
        "  'opts': {u'_id': ObjectId('5478ed03446f52753ca6d77c'),\n",
        "   u'color': [0.38, 0.82, 0.32],\n",
        "   u'pid': 12},\n",
        "  'start': 380.0,\n",
        "  'type': u'Promoter'},\n",
        " {'end': 403.0,\n",
        "  'fwd': True,\n",
        "  'name': u'Z_Rib',\n",
        "  'opts': {u'_id': ObjectId('5478ed03446f52753ca6d77f'),\n",
        "   u'linewidth': 1.0,\n",
        "   u'pid': 15},\n",
        "  'start': 394.0,\n",
        "  'type': u'Ribozyme'},\n",
        " {'end': 417.0,\n",
        "  'fwd': True,\n",
        "  'name': u'R_RBS',\n",
        "  'opts': {u'_id': ObjectId('5478ed03446f52753ca6d781'), u'pid': 17},\n",
        "  'start': 403.0,\n",
        "  'type': u'RBS'},\n",
        " {'end': 449.0,\n",
        "  'fwd': True,\n",
        "  'name': u'C_PhlF',\n",
        "  'opts': {u'_id': ObjectId('5478ed03446f52753ca6d775'),\n",
        "   u'color': [0.55, 0.35, 0.64],\n",
        "   u'label': u'PhlF',\n",
        "   u'label_style': u'italic',\n",
        "   u'label_x_offset': -2.0,\n",
        "   u'linewidth': 1.0,\n",
        "   u'pid': 5},\n",
        "  'start': 417.0,\n",
        "  'type': u'CDS'},\n",
        " {'end': 461.0,\n",
        "  'fwd': True,\n",
        "  'name': u'T_Ter',\n",
        "  'opts': {u'_id': ObjectId('5478ed03446f52753ca6d780'), u'pid': 16},\n",
        "  'start': 449.0,\n",
        "  'type': u'Terminator'},\n",
        " {'end': 475.0,\n",
        "  'fwd': True,\n",
        "  'name': u'P_PhlF',\n",
        "  'opts': {u'_id': ObjectId('5478ed03446f52753ca6d77e'),\n",
        "   u'color': [0.55, 0.35, 0.64],\n",
        "   u'pid': 14},\n",
        "  'start': 461.0,\n",
        "  'type': u'Promoter'},\n",
        " {'end': 484.0,\n",
        "  'fwd': True,\n",
        "  'name': u'Z_Rib',\n",
        "  'opts': {u'_id': ObjectId('5478ed03446f52753ca6d77f'),\n",
        "   u'linewidth': 1.0,\n",
        "   u'pid': 15},\n",
        "  'start': 475.0,\n",
        "  'type': u'Ribozyme'},\n",
        " {'end': 498.0,\n",
        "  'fwd': True,\n",
        "  'name': u'R_RBS',\n",
        "  'opts': {u'_id': ObjectId('5478ed03446f52753ca6d781'), u'pid': 17},\n",
        "  'start': 484.0,\n",
        "  'type': u'RBS'},\n",
        " {'end': 530.0,\n",
        "  'fwd': True,\n",
        "  'name': u'C_YFP',\n",
        "  'opts': {u'_id': ObjectId('5478ed03446f52753ca6d776'),\n",
        "   u'color': [0.98, 0.97, 0.35],\n",
        "   u'label': u'YFP',\n",
        "   u'label_style': u'italic',\n",
        "   u'label_x_offset': -2.0,\n",
        "   u'linewidth': 1.0,\n",
        "   u'pid': 6},\n",
        "  'start': 498.0,\n",
        "  'type': u'CDS'},\n",
        " {'end': 542.0,\n",
        "  'fwd': True,\n",
        "  'name': u'T_Ter',\n",
        "  'opts': {u'_id': ObjectId('5478ed03446f52753ca6d780'), u'pid': 16},\n",
        "  'start': 530.0,\n",
        "  'type': u'Terminator'}]"
       ]
      }
     ],
     "prompt_number": 75
    },
    {
     "cell_type": "code",
     "collapsed": false,
     "input": [
      "from pylab import *"
     ],
     "language": "python",
     "metadata": {},
     "outputs": [],
     "prompt_number": 88
    },
    {
     "cell_type": "code",
     "collapsed": false,
     "input": [
      "figure()"
     ],
     "language": "python",
     "metadata": {},
     "outputs": [
      {
       "metadata": {},
       "output_type": "display_data",
       "text": [
        "<matplotlib.figure.Figure at 0x7ffbda0c31d0>"
       ]
      }
     ],
     "prompt_number": 76
    },
    {
     "cell_type": "code",
     "collapsed": false,
     "input": [
      "figure(figsize=(20, 10))\n",
      "ax = subplot(1,1,1)\n",
      "dnaplotlib.plot_sbol_designs([ax], [design[1]])"
     ],
     "language": "python",
     "metadata": {},
     "outputs": [
      {
       "metadata": {},
       "output_type": "pyout",
       "prompt_number": 96,
       "text": [
        "([-5.42, 547.42], [-35, 35])"
       ]
      },
      {
       "metadata": {},
       "output_type": "display_data",
       "png": "[encoded data removed]",
       "text": [
        "<matplotlib.figure.Figure at 0x7ffbd99f90d0>"
       ]
      }
     ],
     "prompt_number": 96
    },
    {
     "cell_type": "code",
     "collapsed": false,
     "input": [
      "print ax"
     ],
     "language": "python",
     "metadata": {},
     "outputs": [
      {
       "output_type": "stream",
       "stream": "stdout",
       "text": [
        "Axes(0.125,0.125;0.775x0.775)\n"
       ]
      }
     ],
     "prompt_number": 91
    },
    {
     "cell_type": "code",
     "collapsed": false,
     "input": [
      "dnaplotlib.plot_sbol_designs([ax], [design[1]])"
     ],
     "language": "python",
     "metadata": {},
     "outputs": [
      {
       "metadata": {},
       "output_type": "pyout",
       "prompt_number": 92,
       "text": [
        "([-5.42, 547.42], [-35, 35])"
       ]
      }
     ],
     "prompt_number": 92
    },
    {
     "cell_type": "code",
     "collapsed": false,
     "input": [
      "show()"
     ],
     "language": "python",
     "metadata": {},
     "outputs": [],
     "prompt_number": 93
    },
    {
     "cell_type": "code",
     "collapsed": false,
     "input": [
      "fig.savefig(\"test.pdf\")"
     ],
     "language": "python",
     "metadata": {},
     "outputs": [],
     "prompt_number": 80
    },
    {
     "cell_type": "code",
     "collapsed": false,
     "input": [
      "plt.close('all')"
     ],
     "language": "python",
     "metadata": {},
     "outputs": [],
     "prompt_number": 83
    },
    {
     "cell_type": "code",
     "collapsed": false,
     "input": [],
     "language": "python",
     "metadata": {},
     "outputs": [],
     "prompt_number": 32
    }
   ],
   "metadata": {}
  }
 ]
}