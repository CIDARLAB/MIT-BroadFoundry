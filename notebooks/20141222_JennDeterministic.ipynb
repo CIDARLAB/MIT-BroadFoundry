{
 "metadata": {
  "name": "",
  "signature": "sha256:2fae8024751b8b759dd00feaceacbc7ac4132583a033807df583727c244d46ca"
 },
 "nbformat": 3,
 "nbformat_minor": 0,
 "worksheets": [
  {
   "cells": [
    {
     "cell_type": "code",
     "collapsed": false,
     "input": [],
     "language": "python",
     "metadata": {},
     "outputs": [],
     "prompt_number": 0
    },
    {
     "cell_type": "code",
     "collapsed": false,
     "input": [],
     "language": "python",
     "metadata": {},
     "outputs": [],
     "prompt_number": 0
    },
    {
     "cell_type": "code",
     "collapsed": false,
     "input": [
      "def fx(t, y):\n",
      "    Sf = \n",
      "    Of = \n",
      "    Sr = \n",
      "    Or = \n",
      "    F, R = y\n",
      "    dFdt = Sf - \n",
      "    dRdt = "
     ],
     "language": "python",
     "metadata": {},
     "outputs": []
    }
   ],
   "metadata": {}
  }
 ]
}