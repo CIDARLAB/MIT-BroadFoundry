{
 "metadata": {
  "name": "",
  "signature": "sha256:0fe3c5c6e627e7e5983b2ad4835bc26d791f5091f30a987406cfd814cb88d08a"
 },
 "nbformat": 3,
 "nbformat_minor": 0,
 "worksheets": [
  {
   "cells": [
    {
     "cell_type": "code",
     "collapsed": false,
     "input": [],
     "language": "python",
     "metadata": {},
     "outputs": [],
     "prompt_number": 0
    },
    {
     "cell_type": "code",
     "collapsed": false,
     "input": [
      "import numpy as np"
     ],
     "language": "python",
     "metadata": {},
     "outputs": [],
     "prompt_number": 1
    },
    {
     "cell_type": "code",
     "collapsed": false,
     "input": [
      "import interact"
     ],
     "language": "python",
     "metadata": {},
     "outputs": [
      {
       "output_type": "stream",
       "stream": "stderr",
       "text": [
        "/usr/lib/pymodules/python2.7/matplotlib/__init__.py:1173: UserWarning:  This call to matplotlib.use() has no effect\n",
        "because the backend has already been chosen;\n",
        "matplotlib.use() must be called *before* pylab, matplotlib.pyplot,\n",
        "or matplotlib.backends is imported for the first time.\n",
        "\n",
        "  warnings.warn(_use_error_msg)\n"
       ]
      }
     ],
     "prompt_number": 2
    },
    {
     "cell_type": "code",
     "collapsed": false,
     "input": [
      "import dnaplotlib"
     ],
     "language": "python",
     "metadata": {},
     "outputs": [],
     "prompt_number": 3
    },
    {
     "cell_type": "code",
     "collapsed": false,
     "input": [
      "from scipy.integrate import odeint"
     ],
     "language": "python",
     "metadata": {},
     "outputs": [],
     "prompt_number": 4
    },
    {
     "cell_type": "code",
     "collapsed": false,
     "input": [],
     "language": "python",
     "metadata": {},
     "outputs": [],
     "prompt_number": 4
    },
    {
     "cell_type": "code",
     "collapsed": false,
     "input": [
      "mA = 0 \n",
      "mB = 0\n",
      "mC = 0\n",
      "A = 2.0\n",
      "B = 1.5\n",
      "C = 1.5\n",
      "\n",
      "y = [mA, mB, mC, A, B, C]\n",
      "\n",
      "alpha = 10\n",
      "beta = 12\n",
      "leak = 1\n",
      "n = 4\n",
      "\n",
      "params = [alpha, beta, leak, n]"
     ],
     "language": "python",
     "metadata": {},
     "outputs": [],
     "prompt_number": 68
    },
    {
     "cell_type": "code",
     "collapsed": false,
     "input": [
      "def model(y, t, params):\n",
      "    mA, mB, mC, A, B, C = y\n",
      "    alpha, beta, leak, n = params\n",
      "    \n",
      "    dmA = -mA + (alpha / (1 + C**n)) + leak\n",
      "    dA = -beta * (A - mA)\n",
      "    \n",
      "    dmB = -mB + (alpha / (1 + A**n)) + leak\n",
      "    dB = -beta * (B - mB)\n",
      "    \n",
      "    dmC = -mC + (alpha / (1 + B**n)) + leak\n",
      "    dC = -beta * (C - mC)\n",
      "    \n",
      "    return dmA, dmB, dmC, dA, dB, dC"
     ],
     "language": "python",
     "metadata": {},
     "outputs": [],
     "prompt_number": 69
    },
    {
     "cell_type": "code",
     "collapsed": false,
     "input": [
      "ys = odeint(model, y, np.linspace(0, 180, 800), args=(params,))"
     ],
     "language": "python",
     "metadata": {},
     "outputs": [],
     "prompt_number": 70
    },
    {
     "cell_type": "code",
     "collapsed": false,
     "input": [
      "ys"
     ],
     "language": "python",
     "metadata": {},
     "outputs": [
      {
       "metadata": {},
       "output_type": "pyout",
       "prompt_number": 71,
       "text": [
        "array([[ 0.        ,  0.        ,  0.        ,  2.        ,  1.5       ,\n",
        "         1.5       ],\n",
        "       [ 1.41941516,  1.20526447,  1.66579143,  1.11007917,  0.88003586,\n",
        "         1.18703616],\n",
        "       [ 1.58332548,  1.60143956,  2.17040551,  1.53988307,  1.47870036,\n",
        "         2.03213334],\n",
        "       ..., \n",
        "       [ 1.82969696,  1.82018357,  1.82732098,  1.83011085,  1.82039218,\n",
        "         1.82669862],\n",
        "       [ 1.82828541,  1.8200521 ,  1.82886366,  1.82881947,  1.82007597,\n",
        "         1.82830586],\n",
        "       [ 1.82666205,  1.820425  ,  1.8301138 ,  1.82726744,  1.82026361,\n",
        "         1.82966992]])"
       ]
      }
     ],
     "prompt_number": 71
    },
    {
     "cell_type": "code",
     "collapsed": false,
     "input": [
      "plt.plot(np.linspace(0, 180, 800), [val[2] for val in ys])"
     ],
     "language": "python",
     "metadata": {},
     "outputs": [
      {
       "metadata": {},
       "output_type": "pyout",
       "prompt_number": 72,
       "text": [
        "[<matplotlib.lines.Line2D at 0x7f1e06f74610>]"
       ]
      },
      {
       "metadata": {},
       "output_type": "display_data",
       "png": "[encoded data removed]",
       "text": [
        "<matplotlib.figure.Figure at 0x7f1e06d84450>"
       ]
      }
     ],
     "prompt_number": 72
    },
    {
     "cell_type": "code",
     "collapsed": false,
     "input": [
      "connect = interact.connection()"
     ],
     "language": "python",
     "metadata": {},
     "outputs": [],
     "prompt_number": 73
    },
    {
     "cell_type": "code",
     "collapsed": false,
     "input": [
      "connect.import_parts([{'name':'A', 'length': 20, 'label': 'A', 'type': 'CDS', 'neg_reg': 'name:pB'}, \n",
      "                      {'name':'B', 'length': 20, 'label': 'B', 'type': 'CDS', 'neg_reg': 'name:pC'},\n",
      "                      {'name':'C', 'length': 20, 'label': 'C', 'type': 'CDS', 'neg_reg': 'name:pA'},\n",
      "                      {'name':'pA', 'length': 10, 'type': 'Promoter'},\n",
      "                      {'name':'pB', 'length': 10, 'type': 'Promoter'},\n",
      "                      {'name':'pC', 'length': 10, 'type': 'Promoter'},\n",
      "                      {'name':'Term', 'length': 15, 'type': 'Terminator'},\n",
      "                      {'name':'RBS', 'length': 10, 'type': 'RBS'},\n",
      "                      ])"
     ],
     "language": "python",
     "metadata": {},
     "outputs": [],
     "prompt_number": 74
    },
    {
     "cell_type": "code",
     "collapsed": false,
     "input": [
      "connect.import_designs([{'name':'simulation',\n",
      "                         'spec':'(name:pA+name:RBS+name:A+name:Term)+(name:pB+name:RBS+name:B+name:Term)+(name:pC+name:RBS+name:C+name:Term)'}])"
     ],
     "language": "python",
     "metadata": {},
     "outputs": [],
     "prompt_number": 75
    },
    {
     "cell_type": "code",
     "collapsed": false,
     "input": [
      "connect.load_db()"
     ],
     "language": "python",
     "metadata": {},
     "outputs": [],
     "prompt_number": 76
    },
    {
     "cell_type": "code",
     "collapsed": false,
     "input": [
      "connect.designs"
     ],
     "language": "python",
     "metadata": {},
     "outputs": [
      {
       "metadata": {},
       "output_type": "pyout",
       "prompt_number": 77,
       "text": [
        "[<dbmap.Design at 0x7f1e06d7b7d0>]"
       ]
      }
     ],
     "prompt_number": 77
    },
    {
     "cell_type": "code",
     "collapsed": false,
     "input": [
      "iteration = 0\n",
      "for y in ys:\n",
      "    iteration += 1\n",
      "        \n",
      "    omit = []\n",
      "    if y[3] < 1.80:\n",
      "        omit.append('A')\n",
      "    if y[4] < 1.80:\n",
      "        omit.append('B')\n",
      "    if y[5] < 1.80:\n",
      "        omit.append('C')\n",
      "    \n",
      "    for p, val in zip(['A', 'B', 'C'], [y[0], y[1], y[2]]):\n",
      "        p = connect.part_lookup('name:{}'.format(p))[0]\n",
      "        val = (val - 1.5) / (2.5 - 1.5)\n",
      "        if val < 0:\n",
      "            val = 0\n",
      "        if val > 1:\n",
      "            val = 1\n",
      "        p['color'] = [1.0 - val, val, 0.0]\n",
      "    \n",
      "    names, designs, regs = zip(*[des.plot(omit) for des in connect.designs])\n",
      "        \n",
      "    dnaplotlib.save_sbol_designs('simulation2/simulation_{}.png'.format(iteration), designs, regs)\n",
      "    "
     ],
     "language": "python",
     "metadata": {},
     "outputs": [],
     "prompt_number": 78
    },
    {
     "cell_type": "code",
     "collapsed": false,
     "input": [],
     "language": "python",
     "metadata": {},
     "outputs": [],
     "prompt_number": 14
    },
    {
     "cell_type": "code",
     "collapsed": false,
     "input": [],
     "language": "python",
     "metadata": {},
     "outputs": [],
     "prompt_number": 14
    },
    {
     "cell_type": "code",
     "collapsed": false,
     "input": [],
     "language": "python",
     "metadata": {},
     "outputs": [],
     "prompt_number": 14
    },
    {
     "cell_type": "code",
     "collapsed": false,
     "input": [],
     "language": "python",
     "metadata": {},
     "outputs": [],
     "prompt_number": 14
    },
    {
     "cell_type": "code",
     "collapsed": false,
     "input": [],
     "language": "python",
     "metadata": {},
     "outputs": []
    }
   ],
   "metadata": {}
  }
 ]
}